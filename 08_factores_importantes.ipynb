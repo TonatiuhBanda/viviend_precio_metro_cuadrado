{
 "cells": [
  {
   "cell_type": "code",
   "execution_count": 1,
   "id": "ce663c4e",
   "metadata": {
    "execution": {
     "iopub.execute_input": "2022-08-01T12:38:05.468113Z",
     "iopub.status.busy": "2022-08-01T12:38:05.467127Z",
     "iopub.status.idle": "2022-08-01T12:38:06.059683Z",
     "shell.execute_reply": "2022-08-01T12:38:06.060193Z"
    },
    "papermill": {
     "duration": 0.60725,
     "end_time": "2022-08-01T12:38:06.060385",
     "exception": false,
     "start_time": "2022-08-01T12:38:05.453135",
     "status": "completed"
    },
    "tags": []
   },
   "outputs": [],
   "source": [
    "import pandas as pd\n",
    "import numpy as np\n",
    "\n",
    "import matplotlib.pyplot as plt"
   ]
  },
  {
   "cell_type": "markdown",
   "id": "a91c5a45",
   "metadata": {
    "papermill": {
     "duration": 0.010415,
     "end_time": "2022-08-01T12:38:06.081696",
     "exception": false,
     "start_time": "2022-08-01T12:38:06.071281",
     "status": "completed"
    },
    "tags": []
   },
   "source": [
    "### Archivo CSV"
   ]
  },
  {
   "cell_type": "code",
   "execution_count": 2,
   "id": "42b3870f",
   "metadata": {
    "execution": {
     "iopub.execute_input": "2022-08-01T12:38:06.104648Z",
     "iopub.status.busy": "2022-08-01T12:38:06.103988Z",
     "iopub.status.idle": "2022-08-01T12:38:06.142983Z",
     "shell.execute_reply": "2022-08-01T12:38:06.143562Z"
    },
    "papermill": {
     "duration": 0.05349,
     "end_time": "2022-08-01T12:38:06.143827",
     "exception": false,
     "start_time": "2022-08-01T12:38:06.090337",
     "status": "completed"
    },
    "tags": []
   },
   "outputs": [
    {
     "data": {
      "text/html": [
       "<div>\n",
       "<style scoped>\n",
       "    .dataframe tbody tr th:only-of-type {\n",
       "        vertical-align: middle;\n",
       "    }\n",
       "\n",
       "    .dataframe tbody tr th {\n",
       "        vertical-align: top;\n",
       "    }\n",
       "\n",
       "    .dataframe thead th {\n",
       "        text-align: right;\n",
       "    }\n",
       "</style>\n",
       "<table border=\"1\" class=\"dataframe\">\n",
       "  <thead>\n",
       "    <tr style=\"text-align: right;\">\n",
       "      <th></th>\n",
       "      <th>id</th>\n",
       "      <th>vendor</th>\n",
       "      <th>lat</th>\n",
       "      <th>lon</th>\n",
       "      <th>days_on_site</th>\n",
       "      <th>bathrooms</th>\n",
       "      <th>parking_lots</th>\n",
       "      <th>num_bedrooms</th>\n",
       "      <th>m2</th>\n",
       "      <th>final_price</th>\n",
       "      <th>...</th>\n",
       "      <th>days_on_site_x2_sc</th>\n",
       "      <th>bathrooms_x2_sc</th>\n",
       "      <th>parking_lots_x2_sc</th>\n",
       "      <th>num_bedrooms_x2_sc</th>\n",
       "      <th>m2_x2_sc</th>\n",
       "      <th>ciudad</th>\n",
       "      <th>codigo_postal</th>\n",
       "      <th>codigo_postal_mod_06700</th>\n",
       "      <th>codigo_postal_mod_06760</th>\n",
       "      <th>codigo_postal_mod_otro_cp</th>\n",
       "    </tr>\n",
       "  </thead>\n",
       "  <tbody>\n",
       "    <tr>\n",
       "      <th>0</th>\n",
       "      <td>1</td>\n",
       "      <td>Investemx</td>\n",
       "      <td>19.421317</td>\n",
       "      <td>-99.164182</td>\n",
       "      <td>5.0</td>\n",
       "      <td>2.0</td>\n",
       "      <td>2</td>\n",
       "      <td>2.0</td>\n",
       "      <td>127.0</td>\n",
       "      <td>9000000.0</td>\n",
       "      <td>...</td>\n",
       "      <td>0.000045</td>\n",
       "      <td>0.005682</td>\n",
       "      <td>0.375</td>\n",
       "      <td>0.2</td>\n",
       "      <td>0.178682</td>\n",
       "      <td>Ciudad de México</td>\n",
       "      <td>6700.0</td>\n",
       "      <td>1</td>\n",
       "      <td>0</td>\n",
       "      <td>0</td>\n",
       "    </tr>\n",
       "    <tr>\n",
       "      <th>1</th>\n",
       "      <td>2</td>\n",
       "      <td>Avitana</td>\n",
       "      <td>19.421029</td>\n",
       "      <td>-99.163541</td>\n",
       "      <td>7.0</td>\n",
       "      <td>1.0</td>\n",
       "      <td>1</td>\n",
       "      <td>1.0</td>\n",
       "      <td>54.0</td>\n",
       "      <td>4264000.0</td>\n",
       "      <td>...</td>\n",
       "      <td>0.000090</td>\n",
       "      <td>0.000000</td>\n",
       "      <td>0.000</td>\n",
       "      <td>0.0</td>\n",
       "      <td>0.023030</td>\n",
       "      <td>Ciudad de México</td>\n",
       "      <td>6700.0</td>\n",
       "      <td>1</td>\n",
       "      <td>0</td>\n",
       "      <td>0</td>\n",
       "    </tr>\n",
       "  </tbody>\n",
       "</table>\n",
       "<p>2 rows × 37 columns</p>\n",
       "</div>"
      ],
      "text/plain": [
       "   id     vendor        lat        lon  days_on_site  bathrooms  parking_lots  \\\n",
       "0   1  Investemx  19.421317 -99.164182           5.0        2.0             2   \n",
       "1   2    Avitana  19.421029 -99.163541           7.0        1.0             1   \n",
       "\n",
       "   num_bedrooms     m2  final_price  ...  days_on_site_x2_sc  bathrooms_x2_sc  \\\n",
       "0           2.0  127.0    9000000.0  ...            0.000045         0.005682   \n",
       "1           1.0   54.0    4264000.0  ...            0.000090         0.000000   \n",
       "\n",
       "   parking_lots_x2_sc  num_bedrooms_x2_sc  m2_x2_sc            ciudad  \\\n",
       "0               0.375                 0.2  0.178682  Ciudad de México   \n",
       "1               0.000                 0.0  0.023030  Ciudad de México   \n",
       "\n",
       "   codigo_postal  codigo_postal_mod_06700  codigo_postal_mod_06760  \\\n",
       "0         6700.0                        1                        0   \n",
       "1         6700.0                        1                        0   \n",
       "\n",
       "   codigo_postal_mod_otro_cp  \n",
       "0                          0  \n",
       "1                          0  \n",
       "\n",
       "[2 rows x 37 columns]"
      ]
     },
     "execution_count": 2,
     "metadata": {},
     "output_type": "execute_result"
    }
   ],
   "source": [
    "dir_procesado = 'data/procesado/'\n",
    "archivo = 'datos_latitud_longitud.csv'\n",
    "df = pd.read_csv(f'{dir_procesado}{archivo}')\n",
    "\n",
    "df.head(2)"
   ]
  },
  {
   "cell_type": "code",
   "execution_count": 3,
   "id": "483b4dde",
   "metadata": {
    "execution": {
     "iopub.execute_input": "2022-08-01T12:38:06.167609Z",
     "iopub.status.busy": "2022-08-01T12:38:06.166955Z",
     "iopub.status.idle": "2022-08-01T12:38:06.169694Z",
     "shell.execute_reply": "2022-08-01T12:38:06.170179Z"
    },
    "papermill": {
     "duration": 0.016793,
     "end_time": "2022-08-01T12:38:06.170342",
     "exception": false,
     "start_time": "2022-08-01T12:38:06.153549",
     "status": "completed"
    },
    "tags": []
   },
   "outputs": [
    {
     "data": {
      "text/plain": [
       "Index(['id', 'vendor', 'lat', 'lon', 'days_on_site', 'bathrooms',\n",
       "       'parking_lots', 'num_bedrooms', 'm2', 'final_price',\n",
       "       'price_square_meter', 'vendor_mod_Bienesraiceslomelin',\n",
       "       'vendor_mod_Buscatuhogarmexico', 'vendor_mod_Houm',\n",
       "       'vendor_mod_Metros Cuadrados Expertos', 'vendor_mod_Rent A House Cdmx',\n",
       "       'vendor_mod_otros', 'days_on_site_x2', 'bathrooms_x2',\n",
       "       'parking_lots_x2', 'num_bedrooms_x2', 'm2_x2', 'days_on_site_sc',\n",
       "       'bathrooms_sc', 'parking_lots_sc', 'num_bedrooms_sc', 'm2_sc',\n",
       "       'days_on_site_x2_sc', 'bathrooms_x2_sc', 'parking_lots_x2_sc',\n",
       "       'num_bedrooms_x2_sc', 'm2_x2_sc', 'ciudad', 'codigo_postal',\n",
       "       'codigo_postal_mod_06700', 'codigo_postal_mod_06760',\n",
       "       'codigo_postal_mod_otro_cp'],\n",
       "      dtype='object')"
      ]
     },
     "execution_count": 3,
     "metadata": {},
     "output_type": "execute_result"
    }
   ],
   "source": [
    "df.columns"
   ]
  },
  {
   "cell_type": "markdown",
   "id": "497f0e17",
   "metadata": {
    "papermill": {
     "duration": 0.009642,
     "end_time": "2022-08-01T12:38:06.190228",
     "exception": false,
     "start_time": "2022-08-01T12:38:06.180586",
     "status": "completed"
    },
    "tags": []
   },
   "source": [
    "### Gráficas"
   ]
  },
  {
   "cell_type": "code",
   "execution_count": 4,
   "id": "ea3d5761",
   "metadata": {
    "execution": {
     "iopub.execute_input": "2022-08-01T12:38:06.215594Z",
     "iopub.status.busy": "2022-08-01T12:38:06.214659Z",
     "iopub.status.idle": "2022-08-01T12:38:06.216892Z",
     "shell.execute_reply": "2022-08-01T12:38:06.217363Z"
    },
    "papermill": {
     "duration": 0.017953,
     "end_time": "2022-08-01T12:38:06.217536",
     "exception": false,
     "start_time": "2022-08-01T12:38:06.199583",
     "status": "completed"
    },
    "tags": []
   },
   "outputs": [],
   "source": [
    "def plot_data(df, col_plot):\n",
    "    df_plot = df.copy()\n",
    "    df_plot = df_plot[[col_plot, 'price_square_meter']]\n",
    "\n",
    "    df_plot.sort_values('price_square_meter', ascending=True, inplace=True)\n",
    "\n",
    "    plt.scatter(x=df_plot[col_plot], y=df_plot['price_square_meter'])\n",
    "\n",
    "    plt.xlabel(col_plot)\n",
    "    plt.ylabel('price_square_meter')\n",
    "\n",
    "    plt.show()"
   ]
  },
  {
   "cell_type": "code",
   "execution_count": 5,
   "id": "0097b429",
   "metadata": {
    "execution": {
     "iopub.execute_input": "2022-08-01T12:38:06.240459Z",
     "iopub.status.busy": "2022-08-01T12:38:06.239824Z",
     "iopub.status.idle": "2022-08-01T12:38:06.421769Z",
     "shell.execute_reply": "2022-08-01T12:38:06.422211Z"
    },
    "papermill": {
     "duration": 0.1961,
     "end_time": "2022-08-01T12:38:06.422359",
     "exception": false,
     "start_time": "2022-08-01T12:38:06.226259",
     "status": "completed"
    },
    "tags": []
   },
   "outputs": [
    {
     "data": {
      "image/png": "[encoded data removed]",
      "text/plain": [
       "<Figure size 432x288 with 1 Axes>"
      ]
     },
     "metadata": {
      "needs_background": "light"
     },
     "output_type": "display_data"
    }
   ],
   "source": [
    "col_plot = 'm2'\n",
    "plot_data(df, col_plot)"
   ]
  },
  {
   "cell_type": "code",
   "execution_count": 6,
   "id": "3d68146a",
   "metadata": {
    "execution": {
     "iopub.execute_input": "2022-08-01T12:38:06.646826Z",
     "iopub.status.busy": "2022-08-01T12:38:06.645749Z",
     "iopub.status.idle": "2022-08-01T12:38:06.842017Z",
     "shell.execute_reply": "2022-08-01T12:38:06.841516Z"
    },
    "papermill": {
     "duration": 0.212702,
     "end_time": "2022-08-01T12:38:06.842155",
     "exception": false,
     "start_time": "2022-08-01T12:38:06.629453",
     "status": "completed"
    },
    "tags": []
   },
   "outputs": [
    {
     "data": {
      "image/png": "[encoded data removed]",
      "text/plain": [
       "<Figure size 432x288 with 1 Axes>"
      ]
     },
     "metadata": {
      "needs_background": "light"
     },
     "output_type": "display_data"
    }
   ],
   "source": [
    "col_plot = 'days_on_site'\n",
    "plot_data(df, col_plot)"
   ]
  },
  {
   "cell_type": "code",
   "execution_count": 7,
   "id": "f48a366f",
   "metadata": {
    "execution": {
     "iopub.execute_input": "2022-08-01T12:38:06.873927Z",
     "iopub.status.busy": "2022-08-01T12:38:06.871706Z",
     "iopub.status.idle": "2022-08-01T12:38:07.048792Z",
     "shell.execute_reply": "2022-08-01T12:38:07.049259Z"
    },
    "papermill": {
     "duration": 0.194022,
     "end_time": "2022-08-01T12:38:07.049416",
     "exception": false,
     "start_time": "2022-08-01T12:38:06.855394",
     "status": "completed"
    },
    "tags": []
   },
   "outputs": [
    {
     "data": {
      "image/png": "[encoded data removed]",
      "text/plain": [
       "<Figure size 432x288 with 1 Axes>"
      ]
     },
     "metadata": {
      "needs_background": "light"
     },
     "output_type": "display_data"
    }
   ],
   "source": [
    "col_plot = 'num_bedrooms'\n",
    "plot_data(df, col_plot)"
   ]
  },
  {
   "cell_type": "code",
   "execution_count": 8,
   "id": "d2a6ebd2",
   "metadata": {
    "execution": {
     "iopub.execute_input": "2022-08-01T12:38:06.452274Z",
     "iopub.status.busy": "2022-08-01T12:38:06.450304Z",
     "iopub.status.idle": "2022-08-01T12:38:06.618524Z",
     "shell.execute_reply": "2022-08-01T12:38:06.617953Z"
    },
    "papermill": {
     "duration": 0.183781,
     "end_time": "2022-08-01T12:38:06.618675",
     "exception": false,
     "start_time": "2022-08-01T12:38:06.434894",
     "status": "completed"
    },
    "tags": []
   },
   "outputs": [
    {
     "data": {
      "image/png": "[encoded data removed]",
      "text/plain": [
       "<Figure size 432x288 with 1 Axes>"
      ]
     },
     "metadata": {
      "needs_background": "light"
     },
     "output_type": "display_data"
    }
   ],
   "source": [
    "col_plot = 'parking_lots'\n",
    "plot_data(df, col_plot)"
   ]
  },
  {
   "cell_type": "code",
   "execution_count": 9,
   "id": "c7202e81",
   "metadata": {
    "execution": {
     "iopub.execute_input": "2022-08-01T12:38:07.269558Z",
     "iopub.status.busy": "2022-08-01T12:38:07.268807Z",
     "iopub.status.idle": "2022-08-01T12:38:07.272092Z",
     "shell.execute_reply": "2022-08-01T12:38:07.271534Z"
    },
    "papermill": {
     "duration": 0.020906,
     "end_time": "2022-08-01T12:38:07.272271",
     "exception": false,
     "start_time": "2022-08-01T12:38:07.251365",
     "status": "completed"
    },
    "tags": []
   },
   "outputs": [
    {
     "data": {
      "image/png": "[encoded data removed]",
      "text/plain": [
       "<Figure size 432x288 with 1 Axes>"
      ]
     },
     "metadata": {
      "needs_background": "light"
     },
     "output_type": "display_data"
    }
   ],
   "source": [
    "col_plot = 'codigo_postal_mod_06700'\n",
    "plot_data(df, col_plot)"
   ]
  },
  {
   "cell_type": "code",
   "execution_count": 10,
   "id": "5f58e8ad",
   "metadata": {
    "execution": {
     "iopub.execute_input": "2022-08-01T12:38:07.078877Z",
     "iopub.status.busy": "2022-08-01T12:38:07.077282Z",
     "iopub.status.idle": "2022-08-01T12:38:07.235845Z",
     "shell.execute_reply": "2022-08-01T12:38:07.235284Z"
    },
    "papermill": {
     "duration": 0.174576,
     "end_time": "2022-08-01T12:38:07.235996",
     "exception": false,
     "start_time": "2022-08-01T12:38:07.061420",
     "status": "completed"
    },
    "tags": []
   },
   "outputs": [
    {
     "data": {
      "image/png": "[encoded data removed]",
      "text/plain": [
       "<Figure size 432x288 with 1 Axes>"
      ]
     },
     "metadata": {
      "needs_background": "light"
     },
     "output_type": "display_data"
    }
   ],
   "source": [
    "col_plot = 'vendor_mod_otros'\n",
    "plot_data(df, col_plot)"
   ]
  }
 ],
 "metadata": {
  "kernelspec": {
   "display_name": "Python 3",
   "language": "python",
   "name": "python3"
  },
  "language_info": {
   "codemirror_mode": {
    "name": "ipython",
    "version": 3
   },
   "file_extension": ".py",
   "mimetype": "text/x-python",
   "name": "python",
   "nbconvert_exporter": "python",
   "pygments_lexer": "ipython3",
   "version": "3.6.10"
  },
  "papermill": {
   "default_parameters": {},
   "duration": 3.138537,
   "end_time": "2022-08-01T12:38:07.609029",
   "environment_variables": {},
   "exception": null,
   "input_path": "08_factores_importantes.ipynb",
   "output_path": "08_factores_importantes.ipynb",
   "parameters": {},
   "start_time": "2022-08-01T12:38:04.470492",
   "version": "2.3.4"
  }
 },
 "nbformat": 4,
 "nbformat_minor": 5
}
