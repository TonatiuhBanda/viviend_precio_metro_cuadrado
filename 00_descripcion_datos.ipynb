{
 "cells": [
  {
   "cell_type": "code",
   "execution_count": 1,
   "id": "6f281ebd",
   "metadata": {
    "execution": {
     "iopub.execute_input": "2022-08-01T12:37:03.426798Z",
     "iopub.status.busy": "2022-08-01T12:37:03.425757Z",
     "iopub.status.idle": "2022-08-01T12:37:03.996769Z",
     "shell.execute_reply": "2022-08-01T12:37:03.996054Z"
    },
    "papermill": {
     "duration": 0.587002,
     "end_time": "2022-08-01T12:37:03.996929",
     "exception": false,
     "start_time": "2022-08-01T12:37:03.409927",
     "status": "completed"
    },
    "tags": []
   },
   "outputs": [],
   "source": [
    "import pandas as pd\n",
    "import numpy as np\n",
    "\n",
    "import matplotlib.pyplot as plt"
   ]
  },
  {
   "cell_type": "markdown",
   "id": "337a3ef4",
   "metadata": {
    "papermill": {
     "duration": 0.00883,
     "end_time": "2022-08-01T12:37:04.016397",
     "exception": false,
     "start_time": "2022-08-01T12:37:04.007567",
     "status": "completed"
    },
    "tags": []
   },
   "source": [
    "### Archivo CSV"
   ]
  },
  {
   "cell_type": "code",
   "execution_count": 2,
   "id": "d233a1c6",
   "metadata": {
    "execution": {
     "iopub.execute_input": "2022-08-01T12:37:04.041165Z",
     "iopub.status.busy": "2022-08-01T12:37:04.040261Z",
     "iopub.status.idle": "2022-08-01T12:37:04.091444Z",
     "shell.execute_reply": "2022-08-01T12:37:04.091942Z"
    },
    "papermill": {
     "duration": 0.064912,
     "end_time": "2022-08-01T12:37:04.092111",
     "exception": false,
     "start_time": "2022-08-01T12:37:04.027199",
     "status": "completed"
    },
    "tags": []
   },
   "outputs": [
    {
     "data": {
      "text/html": [
       "<div>\n",
       "<style scoped>\n",
       "    .dataframe tbody tr th:only-of-type {\n",
       "        vertical-align: middle;\n",
       "    }\n",
       "\n",
       "    .dataframe tbody tr th {\n",
       "        vertical-align: top;\n",
       "    }\n",
       "\n",
       "    .dataframe thead th {\n",
       "        text-align: right;\n",
       "    }\n",
       "</style>\n",
       "<table border=\"1\" class=\"dataframe\">\n",
       "  <thead>\n",
       "    <tr style=\"text-align: right;\">\n",
       "      <th></th>\n",
       "      <th>main_name</th>\n",
       "      <th>subtitle</th>\n",
       "      <th>link</th>\n",
       "      <th>location</th>\n",
       "      <th>price</th>\n",
       "      <th>attributes</th>\n",
       "      <th>timestamp</th>\n",
       "      <th>id</th>\n",
       "      <th>address</th>\n",
       "      <th>since</th>\n",
       "      <th>...</th>\n",
       "      <th>apartments_per_floor</th>\n",
       "      <th>disposition</th>\n",
       "      <th>parking_lots</th>\n",
       "      <th>floor_situated</th>\n",
       "      <th>orientation</th>\n",
       "      <th>num_bedrooms</th>\n",
       "      <th>department_type</th>\n",
       "      <th>m2</th>\n",
       "      <th>final_price</th>\n",
       "      <th>price_square_meter</th>\n",
       "    </tr>\n",
       "  </thead>\n",
       "  <tbody>\n",
       "    <tr>\n",
       "      <th>0</th>\n",
       "      <td>Departamento - Roma Norte</td>\n",
       "      <td>Departamento en venta</td>\n",
       "      <td>https://departamento.metroscubicos.com/MLM-139...</td>\n",
       "      <td>Sinaloa 20 , Roma Sur, Roma Sur, Cuauhtémoc, D...</td>\n",
       "      <td>9000000 pesos</td>\n",
       "      <td>127 m² construidos,2 recs.</td>\n",
       "      <td>2022-03-29</td>\n",
       "      <td>1</td>\n",
       "      <td>Sinaloa 20 , Roma Sur</td>\n",
       "      <td>Publicado hace 5 días</td>\n",
       "      <td>...</td>\n",
       "      <td>NaN</td>\n",
       "      <td>Contrafrente</td>\n",
       "      <td>2</td>\n",
       "      <td>NaN</td>\n",
       "      <td>NaN</td>\n",
       "      <td>2.0</td>\n",
       "      <td>NaN</td>\n",
       "      <td>127.0</td>\n",
       "      <td>9000000.0</td>\n",
       "      <td>70866.141732</td>\n",
       "    </tr>\n",
       "    <tr>\n",
       "      <th>1</th>\n",
       "      <td>Preventa Exclusiva · Terraloza Roma Norte ·</td>\n",
       "      <td>Departamento en venta</td>\n",
       "      <td>https://departamento.metroscubicos.com/MLM-139...</td>\n",
       "      <td>Tonala, Roma Norte, Cuauhtémoc, Distrito Federal</td>\n",
       "      <td>4264000 pesos</td>\n",
       "      <td>54 m² construidos,1 rec.</td>\n",
       "      <td>2022-03-29</td>\n",
       "      <td>2</td>\n",
       "      <td>Tonala</td>\n",
       "      <td>Publicado hace 7 días</td>\n",
       "      <td>...</td>\n",
       "      <td>NaN</td>\n",
       "      <td>NaN</td>\n",
       "      <td>1</td>\n",
       "      <td>NaN</td>\n",
       "      <td>NaN</td>\n",
       "      <td>1.0</td>\n",
       "      <td>NaN</td>\n",
       "      <td>54.0</td>\n",
       "      <td>4264000.0</td>\n",
       "      <td>78962.962963</td>\n",
       "    </tr>\n",
       "  </tbody>\n",
       "</table>\n",
       "<p>2 rows × 35 columns</p>\n",
       "</div>"
      ],
      "text/plain": [
       "                                     main_name               subtitle  \\\n",
       "0                    Departamento - Roma Norte  Departamento en venta   \n",
       "1  Preventa Exclusiva · Terraloza Roma Norte ·  Departamento en venta   \n",
       "\n",
       "                                                link  \\\n",
       "0  https://departamento.metroscubicos.com/MLM-139...   \n",
       "1  https://departamento.metroscubicos.com/MLM-139...   \n",
       "\n",
       "                                            location          price  \\\n",
       "0  Sinaloa 20 , Roma Sur, Roma Sur, Cuauhtémoc, D...  9000000 pesos   \n",
       "1   Tonala, Roma Norte, Cuauhtémoc, Distrito Federal  4264000 pesos   \n",
       "\n",
       "                   attributes   timestamp  id                address  \\\n",
       "0  127 m² construidos,2 recs.  2022-03-29   1  Sinaloa 20 , Roma Sur   \n",
       "1    54 m² construidos,1 rec.  2022-03-29   2                 Tonala   \n",
       "\n",
       "                   since  ... apartments_per_floor   disposition  \\\n",
       "0  Publicado hace 5 días  ...                  NaN  Contrafrente   \n",
       "1  Publicado hace 7 días  ...                  NaN           NaN   \n",
       "\n",
       "   parking_lots  floor_situated  orientation num_bedrooms department_type  \\\n",
       "0             2             NaN          NaN          2.0             NaN   \n",
       "1             1             NaN          NaN          1.0             NaN   \n",
       "\n",
       "      m2  final_price  price_square_meter  \n",
       "0  127.0    9000000.0        70866.141732  \n",
       "1   54.0    4264000.0        78962.962963  \n",
       "\n",
       "[2 rows x 35 columns]"
      ]
     },
     "execution_count": 2,
     "metadata": {},
     "output_type": "execute_result"
    }
   ],
   "source": [
    "archivo = 'reto_precios.csv'\n",
    "\n",
    "df = pd.read_csv(f'{archivo}')\n",
    "df.head(2)"
   ]
  },
  {
   "cell_type": "markdown",
   "id": "a6105bf1",
   "metadata": {
    "papermill": {
     "duration": 0.010121,
     "end_time": "2022-08-01T12:37:04.112455",
     "exception": false,
     "start_time": "2022-08-01T12:37:04.102334",
     "status": "completed"
    },
    "tags": []
   },
   "source": [
    "### Filtro manual"
   ]
  },
  {
   "cell_type": "code",
   "execution_count": 3,
   "id": "870abbb2",
   "metadata": {
    "execution": {
     "iopub.execute_input": "2022-08-01T12:37:04.141201Z",
     "iopub.status.busy": "2022-08-01T12:37:04.140528Z",
     "iopub.status.idle": "2022-08-01T12:37:04.153562Z",
     "shell.execute_reply": "2022-08-01T12:37:04.154105Z"
    },
    "papermill": {
     "duration": 0.030086,
     "end_time": "2022-08-01T12:37:04.154285",
     "exception": false,
     "start_time": "2022-08-01T12:37:04.124199",
     "status": "completed"
    },
    "tags": []
   },
   "outputs": [],
   "source": [
    "df_filtro = df.copy()\n",
    "\n",
    "df_filtro = df_filtro[df_filtro['m2'] < 300]\n",
    "df_filtro = df_filtro[df_filtro['final_price'] < 20000000]\n",
    "\n",
    "df_filtro.reset_index(drop=True, inplace=True)"
   ]
  },
  {
   "cell_type": "code",
   "execution_count": 4,
   "id": "f01814e8",
   "metadata": {
    "execution": {
     "iopub.execute_input": "2022-08-01T12:37:04.189899Z",
     "iopub.status.busy": "2022-08-01T12:37:04.181500Z",
     "iopub.status.idle": "2022-08-01T12:37:04.192297Z",
     "shell.execute_reply": "2022-08-01T12:37:04.192807Z"
    },
    "papermill": {
     "duration": 0.02796,
     "end_time": "2022-08-01T12:37:04.192972",
     "exception": false,
     "start_time": "2022-08-01T12:37:04.165012",
     "status": "completed"
    },
    "tags": []
   },
   "outputs": [
    {
     "name": "stdout",
     "output_type": "stream",
     "text": [
      "<class 'pandas.core.frame.DataFrame'>\n",
      "RangeIndex: 978 entries, 0 to 977\n",
      "Data columns (total 35 columns):\n",
      " #   Column                Non-Null Count  Dtype  \n",
      "---  ------                --------------  -----  \n",
      " 0   main_name             978 non-null    object \n",
      " 1   subtitle              978 non-null    object \n",
      " 2   link                  978 non-null    object \n",
      " 3   location              978 non-null    object \n",
      " 4   price                 978 non-null    object \n",
      " 5   attributes            978 non-null    object \n",
      " 6   timestamp             978 non-null    object \n",
      " 7   id                    978 non-null    int64  \n",
      " 8   address               699 non-null    object \n",
      " 9   since                 978 non-null    object \n",
      " 10  description           978 non-null    object \n",
      " 11  vendor                978 non-null    object \n",
      " 12  lat                   978 non-null    float64\n",
      " 13  lon                   978 non-null    float64\n",
      " 14  price_mod             978 non-null    float64\n",
      " 15  price_currency        978 non-null    object \n",
      " 16  since_period          978 non-null    object \n",
      " 17  since_value           978 non-null    int64  \n",
      " 18  days_on_site          978 non-null    float64\n",
      " 19  amenities             504 non-null    float64\n",
      " 20  age_in_years          978 non-null    float64\n",
      " 21  bathrooms             978 non-null    float64\n",
      " 22  cellars               52 non-null     float64\n",
      " 23  num_floors            83 non-null     float64\n",
      " 24  monthly_fee           127 non-null    object \n",
      " 25  apartments_per_floor  15 non-null     float64\n",
      " 26  disposition           20 non-null     object \n",
      " 27  parking_lots          978 non-null    int64  \n",
      " 28  floor_situated        24 non-null     float64\n",
      " 29  orientation           8 non-null      object \n",
      " 30  num_bedrooms          978 non-null    float64\n",
      " 31  department_type       39 non-null     object \n",
      " 32  m2                    978 non-null    float64\n",
      " 33  final_price           978 non-null    float64\n",
      " 34  price_square_meter    978 non-null    float64\n",
      "dtypes: float64(15), int64(3), object(17)\n",
      "memory usage: 267.5+ KB\n"
     ]
    }
   ],
   "source": [
    "df_filtro.info()"
   ]
  },
  {
   "cell_type": "markdown",
   "id": "c33b75e7",
   "metadata": {
    "papermill": {
     "duration": 0.009928,
     "end_time": "2022-08-01T12:37:04.212368",
     "exception": false,
     "start_time": "2022-08-01T12:37:04.202440",
     "status": "completed"
    },
    "tags": []
   },
   "source": [
    "### Descripción"
   ]
  },
  {
   "cell_type": "code",
   "execution_count": 5,
   "id": "06ffbb04",
   "metadata": {
    "execution": {
     "iopub.execute_input": "2022-08-01T12:37:04.237559Z",
     "iopub.status.busy": "2022-08-01T12:37:04.236615Z",
     "iopub.status.idle": "2022-08-01T12:37:04.240456Z",
     "shell.execute_reply": "2022-08-01T12:37:04.240930Z"
    },
    "papermill": {
     "duration": 0.018749,
     "end_time": "2022-08-01T12:37:04.241081",
     "exception": false,
     "start_time": "2022-08-01T12:37:04.222332",
     "status": "completed"
    },
    "tags": []
   },
   "outputs": [
    {
     "data": {
      "text/plain": [
       "978"
      ]
     },
     "execution_count": 5,
     "metadata": {},
     "output_type": "execute_result"
    }
   ],
   "source": [
    "df_filtro['id'].nunique()"
   ]
  },
  {
   "cell_type": "code",
   "execution_count": 6,
   "id": "7b36cdea",
   "metadata": {
    "execution": {
     "iopub.execute_input": "2022-08-01T12:37:04.273822Z",
     "iopub.status.busy": "2022-08-01T12:37:04.272973Z",
     "iopub.status.idle": "2022-08-01T12:37:04.276467Z",
     "shell.execute_reply": "2022-08-01T12:37:04.275893Z"
    },
    "papermill": {
     "duration": 0.022847,
     "end_time": "2022-08-01T12:37:04.276627",
     "exception": false,
     "start_time": "2022-08-01T12:37:04.253780",
     "status": "completed"
    },
    "tags": []
   },
   "outputs": [
    {
     "data": {
      "text/html": [
       "<div>\n",
       "<style scoped>\n",
       "    .dataframe tbody tr th:only-of-type {\n",
       "        vertical-align: middle;\n",
       "    }\n",
       "\n",
       "    .dataframe tbody tr th {\n",
       "        vertical-align: top;\n",
       "    }\n",
       "\n",
       "    .dataframe thead th {\n",
       "        text-align: right;\n",
       "    }\n",
       "</style>\n",
       "<table border=\"1\" class=\"dataframe\">\n",
       "  <thead>\n",
       "    <tr style=\"text-align: right;\">\n",
       "      <th></th>\n",
       "      <th>m2</th>\n",
       "    </tr>\n",
       "  </thead>\n",
       "  <tbody>\n",
       "    <tr>\n",
       "      <th>min</th>\n",
       "      <td>31.0</td>\n",
       "    </tr>\n",
       "    <tr>\n",
       "      <th>max</th>\n",
       "      <td>293.0</td>\n",
       "    </tr>\n",
       "  </tbody>\n",
       "</table>\n",
       "</div>"
      ],
      "text/plain": [
       "        m2\n",
       "min   31.0\n",
       "max  293.0"
      ]
     },
     "execution_count": 6,
     "metadata": {},
     "output_type": "execute_result"
    }
   ],
   "source": [
    "df_filtro.agg({'m2':['min', 'max']})"
   ]
  },
  {
   "cell_type": "code",
   "execution_count": 7,
   "id": "720786fb",
   "metadata": {
    "execution": {
     "iopub.execute_input": "2022-08-01T12:37:04.305695Z",
     "iopub.status.busy": "2022-08-01T12:37:04.305008Z",
     "iopub.status.idle": "2022-08-01T12:37:04.307537Z",
     "shell.execute_reply": "2022-08-01T12:37:04.307970Z"
    },
    "papermill": {
     "duration": 0.02137,
     "end_time": "2022-08-01T12:37:04.308130",
     "exception": false,
     "start_time": "2022-08-01T12:37:04.286760",
     "status": "completed"
    },
    "tags": []
   },
   "outputs": [
    {
     "data": {
      "text/html": [
       "<div>\n",
       "<style scoped>\n",
       "    .dataframe tbody tr th:only-of-type {\n",
       "        vertical-align: middle;\n",
       "    }\n",
       "\n",
       "    .dataframe tbody tr th {\n",
       "        vertical-align: top;\n",
       "    }\n",
       "\n",
       "    .dataframe thead th {\n",
       "        text-align: right;\n",
       "    }\n",
       "</style>\n",
       "<table border=\"1\" class=\"dataframe\">\n",
       "  <thead>\n",
       "    <tr style=\"text-align: right;\">\n",
       "      <th></th>\n",
       "      <th>final_price</th>\n",
       "    </tr>\n",
       "  </thead>\n",
       "  <tbody>\n",
       "    <tr>\n",
       "      <th>min</th>\n",
       "      <td>634217.0</td>\n",
       "    </tr>\n",
       "    <tr>\n",
       "      <th>max</th>\n",
       "      <td>17864000.0</td>\n",
       "    </tr>\n",
       "  </tbody>\n",
       "</table>\n",
       "</div>"
      ],
      "text/plain": [
       "     final_price\n",
       "min     634217.0\n",
       "max   17864000.0"
      ]
     },
     "execution_count": 7,
     "metadata": {},
     "output_type": "execute_result"
    }
   ],
   "source": [
    "df_filtro.agg({'final_price':['min', 'max']})"
   ]
  },
  {
   "cell_type": "code",
   "execution_count": 8,
   "id": "aca2f8f9",
   "metadata": {
    "execution": {
     "iopub.execute_input": "2022-08-01T12:37:04.349672Z",
     "iopub.status.busy": "2022-08-01T12:37:04.348707Z",
     "iopub.status.idle": "2022-08-01T12:37:04.353473Z",
     "shell.execute_reply": "2022-08-01T12:37:04.352599Z"
    },
    "papermill": {
     "duration": 0.035096,
     "end_time": "2022-08-01T12:37:04.353721",
     "exception": false,
     "start_time": "2022-08-01T12:37:04.318625",
     "status": "completed"
    },
    "tags": []
   },
   "outputs": [
    {
     "data": {
      "text/html": [
       "<div>\n",
       "<style scoped>\n",
       "    .dataframe tbody tr th:only-of-type {\n",
       "        vertical-align: middle;\n",
       "    }\n",
       "\n",
       "    .dataframe tbody tr th {\n",
       "        vertical-align: top;\n",
       "    }\n",
       "\n",
       "    .dataframe thead th {\n",
       "        text-align: right;\n",
       "    }\n",
       "</style>\n",
       "<table border=\"1\" class=\"dataframe\">\n",
       "  <thead>\n",
       "    <tr style=\"text-align: right;\">\n",
       "      <th></th>\n",
       "      <th>price_square_meter</th>\n",
       "    </tr>\n",
       "  </thead>\n",
       "  <tbody>\n",
       "    <tr>\n",
       "      <th>min</th>\n",
       "      <td>4712.041885</td>\n",
       "    </tr>\n",
       "    <tr>\n",
       "      <th>max</th>\n",
       "      <td>150514.818182</td>\n",
       "    </tr>\n",
       "  </tbody>\n",
       "</table>\n",
       "</div>"
      ],
      "text/plain": [
       "     price_square_meter\n",
       "min         4712.041885\n",
       "max       150514.818182"
      ]
     },
     "execution_count": 8,
     "metadata": {},
     "output_type": "execute_result"
    }
   ],
   "source": [
    "df_filtro.agg({'price_square_meter':['min', 'max']})"
   ]
  },
  {
   "cell_type": "code",
   "execution_count": 9,
   "id": "655ae61c",
   "metadata": {
    "execution": {
     "iopub.execute_input": "2022-08-01T12:37:04.387490Z",
     "iopub.status.busy": "2022-08-01T12:37:04.385127Z",
     "iopub.status.idle": "2022-08-01T12:37:04.552738Z",
     "shell.execute_reply": "2022-08-01T12:37:04.553219Z"
    },
    "papermill": {
     "duration": 0.186139,
     "end_time": "2022-08-01T12:37:04.553384",
     "exception": false,
     "start_time": "2022-08-01T12:37:04.367245",
     "status": "completed"
    },
    "tags": []
   },
   "outputs": [
    {
     "data": {
      "image/png": "[encoded data removed]",
      "text/plain": [
       "<Figure size 432x288 with 1 Axes>"
      ]
     },
     "metadata": {
      "needs_background": "light"
     },
     "output_type": "display_data"
    }
   ],
   "source": [
    "col_plot = 'm2'\n",
    "col_plot_y = 'final_price'\n",
    "df_plot = df_filtro.copy()\n",
    "df_plot = df_plot[[col_plot, col_plot_y]]\n",
    "\n",
    "df_plot.sort_values(col_plot_y, ascending=True, inplace=True)\n",
    "\n",
    "plt.scatter(x=df_plot[col_plot], y=df_plot[col_plot_y])\n",
    "\n",
    "plt.xlabel(col_plot)\n",
    "plt.ylabel(col_plot_y)\n",
    "\n",
    "plt.show()"
   ]
  }
 ],
 "metadata": {
  "kernelspec": {
   "display_name": "Python 3",
   "language": "python",
   "name": "python3"
  },
  "language_info": {
   "codemirror_mode": {
    "name": "ipython",
    "version": 3
   },
   "file_extension": ".py",
   "mimetype": "text/x-python",
   "name": "python",
   "nbconvert_exporter": "python",
   "pygments_lexer": "ipython3",
   "version": "3.6.10"
  },
  "papermill": {
   "default_parameters": {},
   "duration": 2.399408,
   "end_time": "2022-08-01T12:37:04.885502",
   "environment_variables": {},
   "exception": null,
   "input_path": "00_descripcion_datos.ipynb",
   "output_path": "00_descripcion_datos.ipynb",
   "parameters": {},
   "start_time": "2022-08-01T12:37:02.486094",
   "version": "2.3.4"
  }
 },
 "nbformat": 4,
 "nbformat_minor": 5
}