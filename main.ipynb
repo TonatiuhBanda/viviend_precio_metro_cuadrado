{
 "cells": [
  {
   "cell_type": "code",
   "execution_count": 1,
   "id": "8358aaef",
   "metadata": {},
   "outputs": [],
   "source": [
    "import papermill as pm"
   ]
  },
  {
   "cell_type": "code",
   "execution_count": 2,
   "id": "2066ef0c",
   "metadata": {},
   "outputs": [
    {
     "data": {
      "application/vnd.jupyter.widget-view+json": {
       "model_id": "75077f0fe9df4b0cb8ec68e63b5439af",
       "version_major": 2,
       "version_minor": 0
      },
      "text/plain": [
       "Executing:   0%|          | 0/12 [00:00<?, ?cell/s]"
      ]
     },
     "metadata": {},
     "output_type": "display_data"
    }
   ],
   "source": [
    "resultado = pm.execute_notebook(\n",
    "   '00_descripcion_datos.ipynb',\n",
    "   '00_descripcion_datos.ipynb',\n",
    "   parameters=dict()\n",
    ")"
   ]
  },
  {
   "cell_type": "code",
   "execution_count": 3,
   "id": "eb892005",
   "metadata": {},
   "outputs": [
    {
     "data": {
      "application/vnd.jupyter.widget-view+json": {
       "model_id": "6de0dcf6f1864a20a6edf015e54c5ee8",
       "version_major": 2,
       "version_minor": 0
      },
      "text/plain": [
       "Executing:   0%|          | 0/19 [00:00<?, ?cell/s]"
      ]
     },
     "metadata": {},
     "output_type": "display_data"
    }
   ],
   "source": [
    "resultado = pm.execute_notebook(\n",
    "   '01_datos_crudos.ipynb',\n",
    "   '01_datos_crudos.ipynb',\n",
    "   parameters=dict()\n",
    ")"
   ]
  },
  {
   "cell_type": "code",
   "execution_count": 4,
   "id": "d2cbfa92",
   "metadata": {},
   "outputs": [
    {
     "data": {
      "application/vnd.jupyter.widget-view+json": {
       "model_id": "e86454e858364c63bc403193306c64d1",
       "version_major": 2,
       "version_minor": 0
      },
      "text/plain": [
       "Executing:   0%|          | 0/19 [00:00<?, ?cell/s]"
      ]
     },
     "metadata": {},
     "output_type": "display_data"
    }
   ],
   "source": [
    "resultado = pm.execute_notebook(\n",
    "   '02_modelo_base.ipynb',\n",
    "   '02_modelo_base.ipynb',\n",
    "   parameters=dict()\n",
    ")"
   ]
  },
  {
   "cell_type": "code",
   "execution_count": 5,
   "id": "70922285",
   "metadata": {},
   "outputs": [
    {
     "data": {
      "application/vnd.jupyter.widget-view+json": {
       "model_id": "c309e3b704314ce8a5efc40953ea06ea",
       "version_major": 2,
       "version_minor": 0
      },
      "text/plain": [
       "Executing:   0%|          | 0/29 [00:00<?, ?cell/s]"
      ]
     },
     "metadata": {},
     "output_type": "display_data"
    }
   ],
   "source": [
    "resultado = pm.execute_notebook(\n",
    "   '03_modelo_regresion_x2.ipynb',\n",
    "   '03_modelo_regresion_x2.ipynb',\n",
    "   parameters=dict()\n",
    ")"
   ]
  },
  {
   "cell_type": "code",
   "execution_count": 6,
   "id": "731c3f01",
   "metadata": {},
   "outputs": [
    {
     "data": {
      "application/vnd.jupyter.widget-view+json": {
       "model_id": "af5ab2f36b474cb4a5492471315f6871",
       "version_major": 2,
       "version_minor": 0
      },
      "text/plain": [
       "Executing:   0%|          | 0/32 [00:00<?, ?cell/s]"
      ]
     },
     "metadata": {},
     "output_type": "display_data"
    }
   ],
   "source": [
    "resultado = pm.execute_notebook(\n",
    "   '04_modelo_regresion_escala.ipynb',\n",
    "   '04_modelo_regresion_escala.ipynb',\n",
    "   parameters=dict()\n",
    ")"
   ]
  },
  {
   "cell_type": "code",
   "execution_count": 7,
   "id": "db025d46",
   "metadata": {},
   "outputs": [],
   "source": [
    "# resultado = pm.execute_notebook(\n",
    "#    '05_modelo_regresion_lat_lon_parte_1.ipynb',\n",
    "#    '05_modelo_regresion_lat_lon_parte_1.ipynb',\n",
    "#    parameters=dict()\n",
    "# )"
   ]
  },
  {
   "cell_type": "code",
   "execution_count": 8,
   "id": "53735c82",
   "metadata": {},
   "outputs": [
    {
     "data": {
      "application/vnd.jupyter.widget-view+json": {
       "model_id": "362316f7149b4fd9a1d16d207fca529b",
       "version_major": 2,
       "version_minor": 0
      },
      "text/plain": [
       "Executing:   0%|          | 0/17 [00:00<?, ?cell/s]"
      ]
     },
     "metadata": {},
     "output_type": "display_data"
    }
   ],
   "source": [
    "resultado = pm.execute_notebook(\n",
    "   '05_modelo_regresion_lat_lon_parte_2.ipynb',\n",
    "   '05_modelo_regresion_lat_lon_parte_2.ipynb',\n",
    "   parameters=dict()\n",
    ")"
   ]
  },
  {
   "cell_type": "code",
   "execution_count": 9,
   "id": "9d321f96",
   "metadata": {},
   "outputs": [
    {
     "data": {
      "application/vnd.jupyter.widget-view+json": {
       "model_id": "6e411853999f4181b44a7131d160ee0f",
       "version_major": 2,
       "version_minor": 0
      },
      "text/plain": [
       "Executing:   0%|          | 0/18 [00:00<?, ?cell/s]"
      ]
     },
     "metadata": {},
     "output_type": "display_data"
    }
   ],
   "source": [
    "resultado = pm.execute_notebook(\n",
    "   '06_modelo_gbr_lat_lon.ipynb',\n",
    "   '06_modelo_gbr_lat_lon.ipynb',\n",
    "   parameters=dict()\n",
    ")"
   ]
  },
  {
   "cell_type": "code",
   "execution_count": 10,
   "id": "71b8183d",
   "metadata": {},
   "outputs": [
    {
     "data": {
      "application/vnd.jupyter.widget-view+json": {
       "model_id": "9c2f8002011541cea5e8a189fac2a1d9",
       "version_major": 2,
       "version_minor": 0
      },
      "text/plain": [
       "Executing:   0%|          | 0/18 [00:00<?, ?cell/s]"
      ]
     },
     "metadata": {},
     "output_type": "display_data"
    }
   ],
   "source": [
    "resultado = pm.execute_notebook(\n",
    "   '06_modelo_rf_lat_lon.ipynb',\n",
    "   '06_modelo_rf_lat_lon.ipynb',\n",
    "   parameters=dict()\n",
    ")"
   ]
  },
  {
   "cell_type": "code",
   "execution_count": 11,
   "id": "0b22f818",
   "metadata": {},
   "outputs": [
    {
     "data": {
      "application/vnd.jupyter.widget-view+json": {
       "model_id": "0ba4a2a897cd43ab805944feda592f1c",
       "version_major": 2,
       "version_minor": 0
      },
      "text/plain": [
       "Executing:   0%|          | 0/23 [00:00<?, ?cell/s]"
      ]
     },
     "metadata": {},
     "output_type": "display_data"
    }
   ],
   "source": [
    "resultado = pm.execute_notebook(\n",
    "   '07_modelo_final.ipynb',\n",
    "   '07_modelo_final.ipynb',\n",
    "   parameters=dict()\n",
    ")"
   ]
  },
  {
   "cell_type": "code",
   "execution_count": 13,
   "id": "8225a82a",
   "metadata": {},
   "outputs": [
    {
     "data": {
      "application/vnd.jupyter.widget-view+json": {
       "model_id": "dd641aa9e80a43aea481da652c63c20e",
       "version_major": 2,
       "version_minor": 0
      },
      "text/plain": [
       "Executing:   0%|          | 0/12 [00:00<?, ?cell/s]"
      ]
     },
     "metadata": {},
     "output_type": "display_data"
    }
   ],
   "source": [
    "resultado = pm.execute_notebook(\n",
    "   '08_factores_importantes.ipynb',\n",
    "   '08_factores_importantes.ipynb',\n",
    "   parameters=dict()\n",
    ")"
   ]
  }
 ],
 "metadata": {
  "kernelspec": {
   "display_name": "Python 3",
   "language": "python",
   "name": "python3"
  },
  "language_info": {
   "codemirror_mode": {
    "name": "ipython",
    "version": 3
   },
   "file_extension": ".py",
   "mimetype": "text/x-python",
   "name": "python",
   "nbconvert_exporter": "python",
   "pygments_lexer": "ipython3",
   "version": "3.6.10"
  }
 },
 "nbformat": 4,
 "nbformat_minor": 5
}
