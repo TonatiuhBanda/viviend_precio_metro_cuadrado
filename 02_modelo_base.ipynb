{
 "cells": [
  {
   "cell_type": "code",
   "execution_count": 1,
   "id": "63cd0abe",
   "metadata": {
    "execution": {
     "iopub.execute_input": "2022-08-01T12:37:08.569866Z",
     "iopub.status.busy": "2022-08-01T12:37:08.568845Z",
     "iopub.status.idle": "2022-08-01T12:37:09.599212Z",
     "shell.execute_reply": "2022-08-01T12:37:09.600022Z"
    },
    "papermill": {
     "duration": 1.050514,
     "end_time": "2022-08-01T12:37:09.600284",
     "exception": false,
     "start_time": "2022-08-01T12:37:08.549770",
     "status": "completed"
    },
    "tags": []
   },
   "outputs": [],
   "source": [
    "import pandas as pd\n",
    "import numpy as np\n",
    "\n",
    "from sklearn.model_selection import train_test_split\n",
    "from sklearn.linear_model import LinearRegression\n",
    "\n",
    "from sklearn.metrics import mean_squared_error\n",
    "from sklearn.metrics import r2_score"
   ]
  },
  {
   "cell_type": "markdown",
   "id": "b17666cf",
   "metadata": {
    "papermill": {
     "duration": 0.013757,
     "end_time": "2022-08-01T12:37:09.639912",
     "exception": false,
     "start_time": "2022-08-01T12:37:09.626155",
     "status": "completed"
    },
    "tags": []
   },
   "source": [
    "### Archivo CSV"
   ]
  },
  {
   "cell_type": "code",
   "execution_count": 2,
   "id": "cbe0d0c1",
   "metadata": {
    "execution": {
     "iopub.execute_input": "2022-08-01T12:37:09.673768Z",
     "iopub.status.busy": "2022-08-01T12:37:09.673180Z",
     "iopub.status.idle": "2022-08-01T12:37:09.739238Z",
     "shell.execute_reply": "2022-08-01T12:37:09.739744Z"
    },
    "papermill": {
     "duration": 0.084084,
     "end_time": "2022-08-01T12:37:09.739921",
     "exception": false,
     "start_time": "2022-08-01T12:37:09.655837",
     "status": "completed"
    },
    "tags": []
   },
   "outputs": [
    {
     "data": {
      "text/html": [
       "<div>\n",
       "<style scoped>\n",
       "    .dataframe tbody tr th:only-of-type {\n",
       "        vertical-align: middle;\n",
       "    }\n",
       "\n",
       "    .dataframe tbody tr th {\n",
       "        vertical-align: top;\n",
       "    }\n",
       "\n",
       "    .dataframe thead th {\n",
       "        text-align: right;\n",
       "    }\n",
       "</style>\n",
       "<table border=\"1\" class=\"dataframe\">\n",
       "  <thead>\n",
       "    <tr style=\"text-align: right;\">\n",
       "      <th></th>\n",
       "      <th>id</th>\n",
       "      <th>vendor</th>\n",
       "      <th>lat</th>\n",
       "      <th>lon</th>\n",
       "      <th>days_on_site</th>\n",
       "      <th>bathrooms</th>\n",
       "      <th>parking_lots</th>\n",
       "      <th>num_bedrooms</th>\n",
       "      <th>m2</th>\n",
       "      <th>final_price</th>\n",
       "      <th>price_square_meter</th>\n",
       "    </tr>\n",
       "  </thead>\n",
       "  <tbody>\n",
       "    <tr>\n",
       "      <th>0</th>\n",
       "      <td>1</td>\n",
       "      <td>Investemx</td>\n",
       "      <td>19.421317</td>\n",
       "      <td>-99.164182</td>\n",
       "      <td>5.0</td>\n",
       "      <td>2.0</td>\n",
       "      <td>2</td>\n",
       "      <td>2.0</td>\n",
       "      <td>127.0</td>\n",
       "      <td>9000000.0</td>\n",
       "      <td>70866.141732</td>\n",
       "    </tr>\n",
       "    <tr>\n",
       "      <th>1</th>\n",
       "      <td>2</td>\n",
       "      <td>Avitana</td>\n",
       "      <td>19.421029</td>\n",
       "      <td>-99.163541</td>\n",
       "      <td>7.0</td>\n",
       "      <td>1.0</td>\n",
       "      <td>1</td>\n",
       "      <td>1.0</td>\n",
       "      <td>54.0</td>\n",
       "      <td>4264000.0</td>\n",
       "      <td>78962.962963</td>\n",
       "    </tr>\n",
       "  </tbody>\n",
       "</table>\n",
       "</div>"
      ],
      "text/plain": [
       "   id     vendor        lat        lon  days_on_site  bathrooms  parking_lots  \\\n",
       "0   1  Investemx  19.421317 -99.164182           5.0        2.0             2   \n",
       "1   2    Avitana  19.421029 -99.163541           7.0        1.0             1   \n",
       "\n",
       "   num_bedrooms     m2  final_price  price_square_meter  \n",
       "0           2.0  127.0    9000000.0        70866.141732  \n",
       "1           1.0   54.0    4264000.0        78962.962963  "
      ]
     },
     "execution_count": 2,
     "metadata": {},
     "output_type": "execute_result"
    }
   ],
   "source": [
    "dir_procesado = 'data/procesado/'\n",
    "archivo = 'datos_crudos.csv'\n",
    "df = pd.read_csv(f'{dir_procesado}{archivo}')\n",
    "\n",
    "df.head(2)"
   ]
  },
  {
   "cell_type": "markdown",
   "id": "e3482af0",
   "metadata": {
    "papermill": {
     "duration": 0.014037,
     "end_time": "2022-08-01T12:37:09.770007",
     "exception": false,
     "start_time": "2022-08-01T12:37:09.755970",
     "status": "completed"
    },
    "tags": []
   },
   "source": [
    "### Conjunto de datos para modelo"
   ]
  },
  {
   "cell_type": "code",
   "execution_count": 3,
   "id": "2fdf429f",
   "metadata": {
    "execution": {
     "iopub.execute_input": "2022-08-01T12:37:09.812224Z",
     "iopub.status.busy": "2022-08-01T12:37:09.811537Z",
     "iopub.status.idle": "2022-08-01T12:37:09.814028Z",
     "shell.execute_reply": "2022-08-01T12:37:09.814771Z"
    },
    "papermill": {
     "duration": 0.022225,
     "end_time": "2022-08-01T12:37:09.815006",
     "exception": false,
     "start_time": "2022-08-01T12:37:09.792781",
     "status": "completed"
    },
    "tags": []
   },
   "outputs": [],
   "source": [
    "df_modelo = df.copy()"
   ]
  },
  {
   "cell_type": "code",
   "execution_count": 4,
   "id": "6620e07b",
   "metadata": {
    "execution": {
     "iopub.execute_input": "2022-08-01T12:37:09.868302Z",
     "iopub.status.busy": "2022-08-01T12:37:09.867246Z",
     "iopub.status.idle": "2022-08-01T12:37:09.877105Z",
     "shell.execute_reply": "2022-08-01T12:37:09.876567Z"
    },
    "papermill": {
     "duration": 0.039075,
     "end_time": "2022-08-01T12:37:09.877243",
     "exception": false,
     "start_time": "2022-08-01T12:37:09.838168",
     "status": "completed"
    },
    "tags": []
   },
   "outputs": [
    {
     "name": "stdout",
     "output_type": "stream",
     "text": [
      "<class 'pandas.core.frame.DataFrame'>\n",
      "RangeIndex: 978 entries, 0 to 977\n",
      "Data columns (total 11 columns):\n",
      " #   Column              Non-Null Count  Dtype  \n",
      "---  ------              --------------  -----  \n",
      " 0   id                  978 non-null    int64  \n",
      " 1   vendor              978 non-null    object \n",
      " 2   lat                 978 non-null    float64\n",
      " 3   lon                 978 non-null    float64\n",
      " 4   days_on_site        978 non-null    float64\n",
      " 5   bathrooms           978 non-null    float64\n",
      " 6   parking_lots        978 non-null    int64  \n",
      " 7   num_bedrooms        978 non-null    float64\n",
      " 8   m2                  978 non-null    float64\n",
      " 9   final_price         978 non-null    float64\n",
      " 10  price_square_meter  978 non-null    float64\n",
      "dtypes: float64(8), int64(2), object(1)\n",
      "memory usage: 84.2+ KB\n"
     ]
    }
   ],
   "source": [
    "df_modelo.info()"
   ]
  },
  {
   "cell_type": "markdown",
   "id": "3f510e0d",
   "metadata": {
    "papermill": {
     "duration": 0.014385,
     "end_time": "2022-08-01T12:37:09.906474",
     "exception": false,
     "start_time": "2022-08-01T12:37:09.892089",
     "status": "completed"
    },
    "tags": []
   },
   "source": [
    "### Datos entrenamiento y evaluación"
   ]
  },
  {
   "cell_type": "code",
   "execution_count": 5,
   "id": "b709b2ba",
   "metadata": {
    "execution": {
     "iopub.execute_input": "2022-08-01T12:37:09.939563Z",
     "iopub.status.busy": "2022-08-01T12:37:09.938950Z",
     "iopub.status.idle": "2022-08-01T12:37:09.941386Z",
     "shell.execute_reply": "2022-08-01T12:37:09.940920Z"
    },
    "papermill": {
     "duration": 0.0204,
     "end_time": "2022-08-01T12:37:09.941532",
     "exception": false,
     "start_time": "2022-08-01T12:37:09.921132",
     "status": "completed"
    },
    "tags": []
   },
   "outputs": [],
   "source": [
    "X = df_modelo[[\n",
    "    'days_on_site',\n",
    "    'bathrooms',\n",
    "    'parking_lots',\n",
    "    'num_bedrooms',\n",
    "    'm2']]\n",
    "\n",
    "y = df_modelo['price_square_meter']"
   ]
  },
  {
   "cell_type": "code",
   "execution_count": 6,
   "id": "a2b86e3a",
   "metadata": {
    "execution": {
     "iopub.execute_input": "2022-08-01T12:37:09.972224Z",
     "iopub.status.busy": "2022-08-01T12:37:09.971449Z",
     "iopub.status.idle": "2022-08-01T12:37:09.975122Z",
     "shell.execute_reply": "2022-08-01T12:37:09.975960Z"
    },
    "papermill": {
     "duration": 0.02168,
     "end_time": "2022-08-01T12:37:09.976152",
     "exception": false,
     "start_time": "2022-08-01T12:37:09.954472",
     "status": "completed"
    },
    "tags": []
   },
   "outputs": [],
   "source": [
    "X_train, X_test, y_train, y_test = train_test_split(X, y, test_size=0.3, random_state=75)"
   ]
  },
  {
   "cell_type": "markdown",
   "id": "b35a452a",
   "metadata": {
    "papermill": {
     "duration": 0.014135,
     "end_time": "2022-08-01T12:37:10.006416",
     "exception": false,
     "start_time": "2022-08-01T12:37:09.992281",
     "status": "completed"
    },
    "tags": []
   },
   "source": [
    "### Modelo base (regresión lineal)"
   ]
  },
  {
   "cell_type": "code",
   "execution_count": 7,
   "id": "f923d4ab",
   "metadata": {
    "execution": {
     "iopub.execute_input": "2022-08-01T12:37:10.041344Z",
     "iopub.status.busy": "2022-08-01T12:37:10.040684Z",
     "iopub.status.idle": "2022-08-01T12:37:10.046050Z",
     "shell.execute_reply": "2022-08-01T12:37:10.046635Z"
    },
    "papermill": {
     "duration": 0.024981,
     "end_time": "2022-08-01T12:37:10.046868",
     "exception": false,
     "start_time": "2022-08-01T12:37:10.021887",
     "status": "completed"
    },
    "tags": []
   },
   "outputs": [
    {
     "data": {
      "text/plain": [
       "LinearRegression()"
      ]
     },
     "execution_count": 7,
     "metadata": {},
     "output_type": "execute_result"
    }
   ],
   "source": [
    "model = LinearRegression()\n",
    "model.fit(X_train, y_train)"
   ]
  },
  {
   "cell_type": "markdown",
   "id": "178c834a",
   "metadata": {
    "papermill": {
     "duration": 0.013056,
     "end_time": "2022-08-01T12:37:10.075382",
     "exception": false,
     "start_time": "2022-08-01T12:37:10.062326",
     "status": "completed"
    },
    "tags": []
   },
   "source": [
    "### Entrenamiento"
   ]
  },
  {
   "cell_type": "code",
   "execution_count": 8,
   "id": "6652d3ef",
   "metadata": {
    "execution": {
     "iopub.execute_input": "2022-08-01T12:37:10.107900Z",
     "iopub.status.busy": "2022-08-01T12:37:10.107268Z",
     "iopub.status.idle": "2022-08-01T12:37:10.110330Z",
     "shell.execute_reply": "2022-08-01T12:37:10.109752Z"
    },
    "papermill": {
     "duration": 0.022105,
     "end_time": "2022-08-01T12:37:10.110491",
     "exception": false,
     "start_time": "2022-08-01T12:37:10.088386",
     "status": "completed"
    },
    "tags": []
   },
   "outputs": [],
   "source": [
    "y_pred = model.predict(X_train)"
   ]
  },
  {
   "cell_type": "code",
   "execution_count": 9,
   "id": "f0421f97",
   "metadata": {
    "execution": {
     "iopub.execute_input": "2022-08-01T12:37:10.145953Z",
     "iopub.status.busy": "2022-08-01T12:37:10.144823Z",
     "iopub.status.idle": "2022-08-01T12:37:10.148691Z",
     "shell.execute_reply": "2022-08-01T12:37:10.149208Z"
    },
    "papermill": {
     "duration": 0.023285,
     "end_time": "2022-08-01T12:37:10.149387",
     "exception": false,
     "start_time": "2022-08-01T12:37:10.126102",
     "status": "completed"
    },
    "tags": []
   },
   "outputs": [
    {
     "data": {
      "text/plain": [
       "0.15725101605206826"
      ]
     },
     "execution_count": 9,
     "metadata": {},
     "output_type": "execute_result"
    }
   ],
   "source": [
    "r2_score(y_train, y_pred)"
   ]
  },
  {
   "cell_type": "code",
   "execution_count": 10,
   "id": "4ac57a76",
   "metadata": {
    "execution": {
     "iopub.execute_input": "2022-08-01T12:37:10.181282Z",
     "iopub.status.busy": "2022-08-01T12:37:10.180632Z",
     "iopub.status.idle": "2022-08-01T12:37:10.183330Z",
     "shell.execute_reply": "2022-08-01T12:37:10.183783Z"
    },
    "papermill": {
     "duration": 0.020838,
     "end_time": "2022-08-01T12:37:10.183939",
     "exception": false,
     "start_time": "2022-08-01T12:37:10.163101",
     "status": "completed"
    },
    "tags": []
   },
   "outputs": [
    {
     "name": "stdout",
     "output_type": "stream",
     "text": [
      "306,039,867.94\n"
     ]
    }
   ],
   "source": [
    "print(\"{:,.2f}\".format(mean_squared_error(y_train, y_pred)))"
   ]
  },
  {
   "cell_type": "markdown",
   "id": "4dda52b3",
   "metadata": {
    "papermill": {
     "duration": 0.014491,
     "end_time": "2022-08-01T12:37:10.212244",
     "exception": false,
     "start_time": "2022-08-01T12:37:10.197753",
     "status": "completed"
    },
    "tags": []
   },
   "source": [
    "### Evaluación"
   ]
  },
  {
   "cell_type": "code",
   "execution_count": 11,
   "id": "ffbe2b38",
   "metadata": {
    "execution": {
     "iopub.execute_input": "2022-08-01T12:37:10.251355Z",
     "iopub.status.busy": "2022-08-01T12:37:10.250519Z",
     "iopub.status.idle": "2022-08-01T12:37:10.253075Z",
     "shell.execute_reply": "2022-08-01T12:37:10.253582Z"
    },
    "papermill": {
     "duration": 0.024729,
     "end_time": "2022-08-01T12:37:10.253752",
     "exception": false,
     "start_time": "2022-08-01T12:37:10.229023",
     "status": "completed"
    },
    "tags": []
   },
   "outputs": [],
   "source": [
    "y_pred = model.predict(X_test)"
   ]
  },
  {
   "cell_type": "code",
   "execution_count": 12,
   "id": "468a3948",
   "metadata": {
    "execution": {
     "iopub.execute_input": "2022-08-01T12:37:10.288215Z",
     "iopub.status.busy": "2022-08-01T12:37:10.287405Z",
     "iopub.status.idle": "2022-08-01T12:37:10.290152Z",
     "shell.execute_reply": "2022-08-01T12:37:10.290632Z"
    },
    "papermill": {
     "duration": 0.023222,
     "end_time": "2022-08-01T12:37:10.290798",
     "exception": false,
     "start_time": "2022-08-01T12:37:10.267576",
     "status": "completed"
    },
    "tags": []
   },
   "outputs": [
    {
     "data": {
      "text/plain": [
       "0.18495814640778196"
      ]
     },
     "execution_count": 12,
     "metadata": {},
     "output_type": "execute_result"
    }
   ],
   "source": [
    "r2_score(y_test, y_pred)"
   ]
  },
  {
   "cell_type": "code",
   "execution_count": 13,
   "id": "970759de",
   "metadata": {
    "execution": {
     "iopub.execute_input": "2022-08-01T12:37:10.329070Z",
     "iopub.status.busy": "2022-08-01T12:37:10.328313Z",
     "iopub.status.idle": "2022-08-01T12:37:10.331153Z",
     "shell.execute_reply": "2022-08-01T12:37:10.331612Z"
    },
    "papermill": {
     "duration": 0.026701,
     "end_time": "2022-08-01T12:37:10.331772",
     "exception": false,
     "start_time": "2022-08-01T12:37:10.305071",
     "status": "completed"
    },
    "tags": []
   },
   "outputs": [
    {
     "name": "stdout",
     "output_type": "stream",
     "text": [
      "287,146,113.76\n"
     ]
    }
   ],
   "source": [
    "print(\"{:,.2f}\".format(mean_squared_error(y_test, y_pred)))"
   ]
  }
 ],
 "metadata": {
  "kernelspec": {
   "display_name": "Python 3",
   "language": "python",
   "name": "python3"
  },
  "language_info": {
   "codemirror_mode": {
    "name": "ipython",
    "version": 3
   },
   "file_extension": ".py",
   "mimetype": "text/x-python",
   "name": "python",
   "nbconvert_exporter": "python",
   "pygments_lexer": "ipython3",
   "version": "3.6.10"
  },
  "papermill": {
   "default_parameters": {},
   "duration": 3.223531,
   "end_time": "2022-08-01T12:37:10.775872",
   "environment_variables": {},
   "exception": null,
   "input_path": "02_modelo_base.ipynb",
   "output_path": "02_modelo_base.ipynb",
   "parameters": {},
   "start_time": "2022-08-01T12:37:07.552341",
   "version": "2.3.4"
  }
 },
 "nbformat": 4,
 "nbformat_minor": 5
}