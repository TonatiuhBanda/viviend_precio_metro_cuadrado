{
 "cells": [
  {
   "cell_type": "code",
   "execution_count": 1,
   "id": "0216e7b2",
   "metadata": {
    "execution": {
     "iopub.execute_input": "2022-08-01T12:37:23.361077Z",
     "iopub.status.busy": "2022-08-01T12:37:23.360058Z",
     "iopub.status.idle": "2022-08-01T12:37:24.335927Z",
     "shell.execute_reply": "2022-08-01T12:37:24.335246Z"
    },
    "papermill": {
     "duration": 0.991835,
     "end_time": "2022-08-01T12:37:24.336093",
     "exception": false,
     "start_time": "2022-08-01T12:37:23.344258",
     "status": "completed"
    },
    "tags": []
   },
   "outputs": [],
   "source": [
    "import pandas as pd\n",
    "import numpy as np\n",
    "\n",
    "from sklearn.model_selection import train_test_split\n",
    "#from sklearn.linear_model import LinearRegression\n",
    "\n",
    "from sklearn.metrics import mean_squared_error\n",
    "from sklearn.metrics import r2_score\n",
    "\n",
    "#from sklearn.preprocessing import MinMaxScaler\n",
    "#from geopy.geocoders import Nominatim\n",
    "\n",
    "#from sklearn.ensemble import RandomForestRegressor\n",
    "\n",
    "from sklearn.ensemble import GradientBoostingRegressor\n",
    "\n",
    "#from sklearn.tree import DecisionTreeRegressor"
   ]
  },
  {
   "cell_type": "markdown",
   "id": "af91ec77",
   "metadata": {
    "papermill": {
     "duration": 0.011331,
     "end_time": "2022-08-01T12:37:24.359621",
     "exception": false,
     "start_time": "2022-08-01T12:37:24.348290",
     "status": "completed"
    },
    "tags": []
   },
   "source": [
    "### Archivo CSV"
   ]
  },
  {
   "cell_type": "code",
   "execution_count": 2,
   "id": "c6793fdf",
   "metadata": {
    "execution": {
     "iopub.execute_input": "2022-08-01T12:37:24.388626Z",
     "iopub.status.busy": "2022-08-01T12:37:24.388021Z",
     "iopub.status.idle": "2022-08-01T12:37:24.434184Z",
     "shell.execute_reply": "2022-08-01T12:37:24.433604Z"
    },
    "papermill": {
     "duration": 0.062439,
     "end_time": "2022-08-01T12:37:24.434322",
     "exception": false,
     "start_time": "2022-08-01T12:37:24.371883",
     "status": "completed"
    },
    "tags": []
   },
   "outputs": [
    {
     "data": {
      "text/html": [
       "<div>\n",
       "<style scoped>\n",
       "    .dataframe tbody tr th:only-of-type {\n",
       "        vertical-align: middle;\n",
       "    }\n",
       "\n",
       "    .dataframe tbody tr th {\n",
       "        vertical-align: top;\n",
       "    }\n",
       "\n",
       "    .dataframe thead th {\n",
       "        text-align: right;\n",
       "    }\n",
       "</style>\n",
       "<table border=\"1\" class=\"dataframe\">\n",
       "  <thead>\n",
       "    <tr style=\"text-align: right;\">\n",
       "      <th></th>\n",
       "      <th>id</th>\n",
       "      <th>vendor</th>\n",
       "      <th>lat</th>\n",
       "      <th>lon</th>\n",
       "      <th>days_on_site</th>\n",
       "      <th>bathrooms</th>\n",
       "      <th>parking_lots</th>\n",
       "      <th>num_bedrooms</th>\n",
       "      <th>m2</th>\n",
       "      <th>final_price</th>\n",
       "      <th>...</th>\n",
       "      <th>days_on_site_x2_sc</th>\n",
       "      <th>bathrooms_x2_sc</th>\n",
       "      <th>parking_lots_x2_sc</th>\n",
       "      <th>num_bedrooms_x2_sc</th>\n",
       "      <th>m2_x2_sc</th>\n",
       "      <th>ciudad</th>\n",
       "      <th>codigo_postal</th>\n",
       "      <th>codigo_postal_mod_06700</th>\n",
       "      <th>codigo_postal_mod_06760</th>\n",
       "      <th>codigo_postal_mod_otro_cp</th>\n",
       "    </tr>\n",
       "  </thead>\n",
       "  <tbody>\n",
       "    <tr>\n",
       "      <th>0</th>\n",
       "      <td>1</td>\n",
       "      <td>Investemx</td>\n",
       "      <td>19.421317</td>\n",
       "      <td>-99.164182</td>\n",
       "      <td>5.0</td>\n",
       "      <td>2.0</td>\n",
       "      <td>2</td>\n",
       "      <td>2.0</td>\n",
       "      <td>127.0</td>\n",
       "      <td>9000000.0</td>\n",
       "      <td>...</td>\n",
       "      <td>0.000045</td>\n",
       "      <td>0.005682</td>\n",
       "      <td>0.375</td>\n",
       "      <td>0.2</td>\n",
       "      <td>0.178682</td>\n",
       "      <td>Ciudad de México</td>\n",
       "      <td>6700.0</td>\n",
       "      <td>1</td>\n",
       "      <td>0</td>\n",
       "      <td>0</td>\n",
       "    </tr>\n",
       "    <tr>\n",
       "      <th>1</th>\n",
       "      <td>2</td>\n",
       "      <td>Avitana</td>\n",
       "      <td>19.421029</td>\n",
       "      <td>-99.163541</td>\n",
       "      <td>7.0</td>\n",
       "      <td>1.0</td>\n",
       "      <td>1</td>\n",
       "      <td>1.0</td>\n",
       "      <td>54.0</td>\n",
       "      <td>4264000.0</td>\n",
       "      <td>...</td>\n",
       "      <td>0.000090</td>\n",
       "      <td>0.000000</td>\n",
       "      <td>0.000</td>\n",
       "      <td>0.0</td>\n",
       "      <td>0.023030</td>\n",
       "      <td>Ciudad de México</td>\n",
       "      <td>6700.0</td>\n",
       "      <td>1</td>\n",
       "      <td>0</td>\n",
       "      <td>0</td>\n",
       "    </tr>\n",
       "  </tbody>\n",
       "</table>\n",
       "<p>2 rows × 37 columns</p>\n",
       "</div>"
      ],
      "text/plain": [
       "   id     vendor        lat        lon  days_on_site  bathrooms  parking_lots  \\\n",
       "0   1  Investemx  19.421317 -99.164182           5.0        2.0             2   \n",
       "1   2    Avitana  19.421029 -99.163541           7.0        1.0             1   \n",
       "\n",
       "   num_bedrooms     m2  final_price  ...  days_on_site_x2_sc  bathrooms_x2_sc  \\\n",
       "0           2.0  127.0    9000000.0  ...            0.000045         0.005682   \n",
       "1           1.0   54.0    4264000.0  ...            0.000090         0.000000   \n",
       "\n",
       "   parking_lots_x2_sc  num_bedrooms_x2_sc  m2_x2_sc            ciudad  \\\n",
       "0               0.375                 0.2  0.178682  Ciudad de México   \n",
       "1               0.000                 0.0  0.023030  Ciudad de México   \n",
       "\n",
       "   codigo_postal  codigo_postal_mod_06700  codigo_postal_mod_06760  \\\n",
       "0         6700.0                        1                        0   \n",
       "1         6700.0                        1                        0   \n",
       "\n",
       "   codigo_postal_mod_otro_cp  \n",
       "0                          0  \n",
       "1                          0  \n",
       "\n",
       "[2 rows x 37 columns]"
      ]
     },
     "execution_count": 2,
     "metadata": {},
     "output_type": "execute_result"
    }
   ],
   "source": [
    "dir_procesado = 'data/procesado/'\n",
    "archivo = 'datos_latitud_longitud.csv'\n",
    "df = pd.read_csv(f'{dir_procesado}{archivo}')\n",
    "\n",
    "df.head(2)"
   ]
  },
  {
   "cell_type": "markdown",
   "id": "e036077a",
   "metadata": {
    "papermill": {
     "duration": 0.012726,
     "end_time": "2022-08-01T12:37:24.461467",
     "exception": false,
     "start_time": "2022-08-01T12:37:24.448741",
     "status": "completed"
    },
    "tags": []
   },
   "source": [
    "### Datos entrenamiento y evaluación"
   ]
  },
  {
   "cell_type": "code",
   "execution_count": 3,
   "id": "0aed290b",
   "metadata": {
    "execution": {
     "iopub.execute_input": "2022-08-01T12:37:24.500109Z",
     "iopub.status.busy": "2022-08-01T12:37:24.498994Z",
     "iopub.status.idle": "2022-08-01T12:37:24.502914Z",
     "shell.execute_reply": "2022-08-01T12:37:24.503956Z"
    },
    "papermill": {
     "duration": 0.029456,
     "end_time": "2022-08-01T12:37:24.504257",
     "exception": false,
     "start_time": "2022-08-01T12:37:24.474801",
     "status": "completed"
    },
    "tags": []
   },
   "outputs": [],
   "source": [
    "lista_features = [\n",
    "    'vendor_mod_Bienesraiceslomelin',\n",
    "    'vendor_mod_Buscatuhogarmexico',\n",
    "    'vendor_mod_Houm',\n",
    "    'vendor_mod_Metros Cuadrados Expertos',\n",
    "    'vendor_mod_Rent A House Cdmx',\n",
    "    'vendor_mod_otros',\n",
    "    'days_on_site_sc',\n",
    "    'bathrooms_sc',\n",
    "    'parking_lots_sc',\n",
    "    'num_bedrooms_sc',\n",
    "    'm2_sc',\n",
    "#     'days_on_site_x2_sc',\n",
    "#     'bathrooms_x2_sc',\n",
    "#     'parking_lots_x2_sc',\n",
    "#     'num_bedrooms_x2_sc',\n",
    "#     'm2_x2_sc',\n",
    "    'codigo_postal_mod_06700',\n",
    "    'codigo_postal_mod_06760',\n",
    "    'codigo_postal_mod_otro_cp'\n",
    "]"
   ]
  },
  {
   "cell_type": "code",
   "execution_count": 4,
   "id": "a78bb358",
   "metadata": {
    "execution": {
     "iopub.execute_input": "2022-08-01T12:37:24.533394Z",
     "iopub.status.busy": "2022-08-01T12:37:24.532489Z",
     "iopub.status.idle": "2022-08-01T12:37:24.535239Z",
     "shell.execute_reply": "2022-08-01T12:37:24.534661Z"
    },
    "papermill": {
     "duration": 0.019272,
     "end_time": "2022-08-01T12:37:24.535377",
     "exception": false,
     "start_time": "2022-08-01T12:37:24.516105",
     "status": "completed"
    },
    "tags": []
   },
   "outputs": [],
   "source": [
    "X = df[lista_features]\n",
    "\n",
    "y = df['price_square_meter']"
   ]
  },
  {
   "cell_type": "code",
   "execution_count": 5,
   "id": "d97af6e8",
   "metadata": {
    "execution": {
     "iopub.execute_input": "2022-08-01T12:37:24.569150Z",
     "iopub.status.busy": "2022-08-01T12:37:24.567953Z",
     "iopub.status.idle": "2022-08-01T12:37:24.572808Z",
     "shell.execute_reply": "2022-08-01T12:37:24.572115Z"
    },
    "papermill": {
     "duration": 0.023062,
     "end_time": "2022-08-01T12:37:24.572962",
     "exception": false,
     "start_time": "2022-08-01T12:37:24.549900",
     "status": "completed"
    },
    "tags": []
   },
   "outputs": [],
   "source": [
    "X_train, X_test, y_train, y_test = train_test_split(X, y, test_size=0.3, random_state=75)"
   ]
  },
  {
   "cell_type": "markdown",
   "id": "f7ca5c25",
   "metadata": {
    "papermill": {
     "duration": 0.011588,
     "end_time": "2022-08-01T12:37:24.595942",
     "exception": false,
     "start_time": "2022-08-01T12:37:24.584354",
     "status": "completed"
    },
    "tags": []
   },
   "source": [
    "### Modelo base (regresión lineal)"
   ]
  },
  {
   "cell_type": "code",
   "execution_count": 6,
   "id": "381890c1",
   "metadata": {
    "execution": {
     "iopub.execute_input": "2022-08-01T12:37:24.626080Z",
     "iopub.status.busy": "2022-08-01T12:37:24.625384Z",
     "iopub.status.idle": "2022-08-01T12:37:24.694938Z",
     "shell.execute_reply": "2022-08-01T12:37:24.695491Z"
    },
    "papermill": {
     "duration": 0.088219,
     "end_time": "2022-08-01T12:37:24.695673",
     "exception": false,
     "start_time": "2022-08-01T12:37:24.607454",
     "status": "completed"
    },
    "tags": []
   },
   "outputs": [
    {
     "data": {
      "text/plain": [
       "GradientBoostingRegressor(random_state=75)"
      ]
     },
     "execution_count": 6,
     "metadata": {},
     "output_type": "execute_result"
    }
   ],
   "source": [
    "model = GradientBoostingRegressor(random_state=75)\n",
    "model.fit(X_train, y_train)"
   ]
  },
  {
   "cell_type": "code",
   "execution_count": 7,
   "id": "410dcacf",
   "metadata": {
    "execution": {
     "iopub.execute_input": "2022-08-01T12:37:24.736005Z",
     "iopub.status.busy": "2022-08-01T12:37:24.735151Z",
     "iopub.status.idle": "2022-08-01T12:37:24.738060Z",
     "shell.execute_reply": "2022-08-01T12:37:24.738543Z"
    },
    "papermill": {
     "duration": 0.028204,
     "end_time": "2022-08-01T12:37:24.738710",
     "exception": false,
     "start_time": "2022-08-01T12:37:24.710506",
     "status": "completed"
    },
    "tags": []
   },
   "outputs": [
    {
     "data": {
      "text/html": [
       "<div>\n",
       "<style scoped>\n",
       "    .dataframe tbody tr th:only-of-type {\n",
       "        vertical-align: middle;\n",
       "    }\n",
       "\n",
       "    .dataframe tbody tr th {\n",
       "        vertical-align: top;\n",
       "    }\n",
       "\n",
       "    .dataframe thead th {\n",
       "        text-align: right;\n",
       "    }\n",
       "</style>\n",
       "<table border=\"1\" class=\"dataframe\">\n",
       "  <thead>\n",
       "    <tr style=\"text-align: right;\">\n",
       "      <th></th>\n",
       "      <th>Feature</th>\n",
       "      <th>Importancia</th>\n",
       "    </tr>\n",
       "  </thead>\n",
       "  <tbody>\n",
       "    <tr>\n",
       "      <th>10</th>\n",
       "      <td>m2_sc</td>\n",
       "      <td>0.456600</td>\n",
       "    </tr>\n",
       "    <tr>\n",
       "      <th>6</th>\n",
       "      <td>days_on_site_sc</td>\n",
       "      <td>0.130868</td>\n",
       "    </tr>\n",
       "    <tr>\n",
       "      <th>8</th>\n",
       "      <td>parking_lots_sc</td>\n",
       "      <td>0.111578</td>\n",
       "    </tr>\n",
       "    <tr>\n",
       "      <th>9</th>\n",
       "      <td>num_bedrooms_sc</td>\n",
       "      <td>0.088546</td>\n",
       "    </tr>\n",
       "    <tr>\n",
       "      <th>5</th>\n",
       "      <td>vendor_mod_otros</td>\n",
       "      <td>0.059802</td>\n",
       "    </tr>\n",
       "  </tbody>\n",
       "</table>\n",
       "</div>"
      ],
      "text/plain": [
       "             Feature  Importancia\n",
       "10             m2_sc     0.456600\n",
       "6    days_on_site_sc     0.130868\n",
       "8    parking_lots_sc     0.111578\n",
       "9    num_bedrooms_sc     0.088546\n",
       "5   vendor_mod_otros     0.059802"
      ]
     },
     "execution_count": 7,
     "metadata": {},
     "output_type": "execute_result"
    }
   ],
   "source": [
    "importance = model.feature_importances_\n",
    "df_importance = pd.DataFrame(\n",
    "    {'Feature':lista_features,\n",
    "     'Importancia':importance})\n",
    "\n",
    "df_importance.sort_values('Importancia', ascending=False, inplace=True)\n",
    "df_importance.head()"
   ]
  },
  {
   "cell_type": "markdown",
   "id": "e8929583",
   "metadata": {
    "papermill": {
     "duration": 0.012723,
     "end_time": "2022-08-01T12:37:24.763964",
     "exception": false,
     "start_time": "2022-08-01T12:37:24.751241",
     "status": "completed"
    },
    "tags": []
   },
   "source": [
    "### Entrenamiento"
   ]
  },
  {
   "cell_type": "code",
   "execution_count": 8,
   "id": "2ece35ba",
   "metadata": {
    "execution": {
     "iopub.execute_input": "2022-08-01T12:37:24.794804Z",
     "iopub.status.busy": "2022-08-01T12:37:24.794219Z",
     "iopub.status.idle": "2022-08-01T12:37:24.798186Z",
     "shell.execute_reply": "2022-08-01T12:37:24.798635Z"
    },
    "papermill": {
     "duration": 0.022252,
     "end_time": "2022-08-01T12:37:24.798790",
     "exception": false,
     "start_time": "2022-08-01T12:37:24.776538",
     "status": "completed"
    },
    "tags": []
   },
   "outputs": [],
   "source": [
    "y_pred = model.predict(X_train)"
   ]
  },
  {
   "cell_type": "code",
   "execution_count": 9,
   "id": "72268787",
   "metadata": {
    "execution": {
     "iopub.execute_input": "2022-08-01T12:37:24.831257Z",
     "iopub.status.busy": "2022-08-01T12:37:24.829857Z",
     "iopub.status.idle": "2022-08-01T12:37:24.834535Z",
     "shell.execute_reply": "2022-08-01T12:37:24.834014Z"
    },
    "papermill": {
     "duration": 0.022133,
     "end_time": "2022-08-01T12:37:24.834682",
     "exception": false,
     "start_time": "2022-08-01T12:37:24.812549",
     "status": "completed"
    },
    "tags": []
   },
   "outputs": [
    {
     "data": {
      "text/plain": [
       "0.6481735868007399"
      ]
     },
     "execution_count": 9,
     "metadata": {},
     "output_type": "execute_result"
    }
   ],
   "source": [
    "r2_score(y_train, y_pred)"
   ]
  },
  {
   "cell_type": "code",
   "execution_count": 10,
   "id": "87629394",
   "metadata": {
    "execution": {
     "iopub.execute_input": "2022-08-01T12:37:24.865508Z",
     "iopub.status.busy": "2022-08-01T12:37:24.864670Z",
     "iopub.status.idle": "2022-08-01T12:37:24.867466Z",
     "shell.execute_reply": "2022-08-01T12:37:24.867939Z"
    },
    "papermill": {
     "duration": 0.020773,
     "end_time": "2022-08-01T12:37:24.868102",
     "exception": false,
     "start_time": "2022-08-01T12:37:24.847329",
     "status": "completed"
    },
    "tags": []
   },
   "outputs": [
    {
     "name": "stdout",
     "output_type": "stream",
     "text": [
      "127,763,914.39\n"
     ]
    }
   ],
   "source": [
    "print(\"{:,.2f}\".format(mean_squared_error(y_train, y_pred)))"
   ]
  },
  {
   "cell_type": "markdown",
   "id": "cd9a9876",
   "metadata": {
    "papermill": {
     "duration": 0.013549,
     "end_time": "2022-08-01T12:37:24.894543",
     "exception": false,
     "start_time": "2022-08-01T12:37:24.880994",
     "status": "completed"
    },
    "tags": []
   },
   "source": [
    "### Evaluación"
   ]
  },
  {
   "cell_type": "code",
   "execution_count": 11,
   "id": "33382929",
   "metadata": {
    "execution": {
     "iopub.execute_input": "2022-08-01T12:37:24.928152Z",
     "iopub.status.busy": "2022-08-01T12:37:24.927279Z",
     "iopub.status.idle": "2022-08-01T12:37:24.931030Z",
     "shell.execute_reply": "2022-08-01T12:37:24.930522Z"
    },
    "papermill": {
     "duration": 0.022784,
     "end_time": "2022-08-01T12:37:24.931168",
     "exception": false,
     "start_time": "2022-08-01T12:37:24.908384",
     "status": "completed"
    },
    "tags": []
   },
   "outputs": [],
   "source": [
    "y_pred = model.predict(X_test)"
   ]
  },
  {
   "cell_type": "code",
   "execution_count": 12,
   "id": "13ecfc7b",
   "metadata": {
    "execution": {
     "iopub.execute_input": "2022-08-01T12:37:24.968097Z",
     "iopub.status.busy": "2022-08-01T12:37:24.967380Z",
     "iopub.status.idle": "2022-08-01T12:37:24.970253Z",
     "shell.execute_reply": "2022-08-01T12:37:24.970714Z"
    },
    "papermill": {
     "duration": 0.024601,
     "end_time": "2022-08-01T12:37:24.970876",
     "exception": false,
     "start_time": "2022-08-01T12:37:24.946275",
     "status": "completed"
    },
    "tags": []
   },
   "outputs": [
    {
     "data": {
      "text/plain": [
       "0.37649743453067297"
      ]
     },
     "execution_count": 12,
     "metadata": {},
     "output_type": "execute_result"
    }
   ],
   "source": [
    "r2_score(y_test, y_pred)"
   ]
  },
  {
   "cell_type": "code",
   "execution_count": 13,
   "id": "1b627a4c",
   "metadata": {
    "execution": {
     "iopub.execute_input": "2022-08-01T12:37:25.004198Z",
     "iopub.status.busy": "2022-08-01T12:37:25.003536Z",
     "iopub.status.idle": "2022-08-01T12:37:25.005790Z",
     "shell.execute_reply": "2022-08-01T12:37:25.006272Z"
    },
    "papermill": {
     "duration": 0.02224,
     "end_time": "2022-08-01T12:37:25.006438",
     "exception": false,
     "start_time": "2022-08-01T12:37:24.984198",
     "status": "completed"
    },
    "tags": []
   },
   "outputs": [
    {
     "name": "stdout",
     "output_type": "stream",
     "text": [
      "219,665,208.36\n"
     ]
    }
   ],
   "source": [
    "print(\"{:,.2f}\".format(mean_squared_error(y_test, y_pred)))"
   ]
  }
 ],
 "metadata": {
  "kernelspec": {
   "display_name": "Python 3",
   "language": "python",
   "name": "python3"
  },
  "language_info": {
   "codemirror_mode": {
    "name": "ipython",
    "version": 3
   },
   "file_extension": ".py",
   "mimetype": "text/x-python",
   "name": "python",
   "nbconvert_exporter": "python",
   "pygments_lexer": "ipython3",
   "version": "3.6.10"
  },
  "papermill": {
   "default_parameters": {},
   "duration": 2.992837,
   "end_time": "2022-08-01T12:37:25.449167",
   "environment_variables": {},
   "exception": null,
   "input_path": "06_modelo_gbr_lat_lon.ipynb",
   "output_path": "06_modelo_gbr_lat_lon.ipynb",
   "parameters": {},
   "start_time": "2022-08-01T12:37:22.456330",
   "version": "2.3.4"
  }
 },
 "nbformat": 4,
 "nbformat_minor": 5
}