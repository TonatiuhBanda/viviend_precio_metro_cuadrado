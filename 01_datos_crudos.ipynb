{
 "cells": [
  {
   "cell_type": "code",
   "execution_count": 1,
   "id": "1339efb8",
   "metadata": {
    "execution": {
     "iopub.execute_input": "2022-08-01T12:37:05.951311Z",
     "iopub.status.busy": "2022-08-01T12:37:05.950314Z",
     "iopub.status.idle": "2022-08-01T12:37:06.323609Z",
     "shell.execute_reply": "2022-08-01T12:37:06.322977Z"
    },
    "papermill": {
     "duration": 0.390316,
     "end_time": "2022-08-01T12:37:06.323770",
     "exception": false,
     "start_time": "2022-08-01T12:37:05.933454",
     "status": "completed"
    },
    "tags": []
   },
   "outputs": [],
   "source": [
    "import pandas as pd\n",
    "import numpy as np"
   ]
  },
  {
   "cell_type": "markdown",
   "id": "af4e9fcd",
   "metadata": {
    "papermill": {
     "duration": 0.012666,
     "end_time": "2022-08-01T12:37:06.351560",
     "exception": false,
     "start_time": "2022-08-01T12:37:06.338894",
     "status": "completed"
    },
    "tags": []
   },
   "source": [
    "### Archivo CSV"
   ]
  },
  {
   "cell_type": "code",
   "execution_count": 2,
   "id": "12a04627",
   "metadata": {
    "execution": {
     "iopub.execute_input": "2022-08-01T12:37:06.387606Z",
     "iopub.status.busy": "2022-08-01T12:37:06.386636Z",
     "iopub.status.idle": "2022-08-01T12:37:06.439714Z",
     "shell.execute_reply": "2022-08-01T12:37:06.440186Z"
    },
    "papermill": {
     "duration": 0.074619,
     "end_time": "2022-08-01T12:37:06.440345",
     "exception": false,
     "start_time": "2022-08-01T12:37:06.365726",
     "status": "completed"
    },
    "tags": []
   },
   "outputs": [
    {
     "data": {
      "text/html": [
       "<div>\n",
       "<style scoped>\n",
       "    .dataframe tbody tr th:only-of-type {\n",
       "        vertical-align: middle;\n",
       "    }\n",
       "\n",
       "    .dataframe tbody tr th {\n",
       "        vertical-align: top;\n",
       "    }\n",
       "\n",
       "    .dataframe thead th {\n",
       "        text-align: right;\n",
       "    }\n",
       "</style>\n",
       "<table border=\"1\" class=\"dataframe\">\n",
       "  <thead>\n",
       "    <tr style=\"text-align: right;\">\n",
       "      <th></th>\n",
       "      <th>main_name</th>\n",
       "      <th>subtitle</th>\n",
       "      <th>link</th>\n",
       "      <th>location</th>\n",
       "      <th>price</th>\n",
       "      <th>attributes</th>\n",
       "      <th>timestamp</th>\n",
       "      <th>id</th>\n",
       "      <th>address</th>\n",
       "      <th>since</th>\n",
       "      <th>...</th>\n",
       "      <th>apartments_per_floor</th>\n",
       "      <th>disposition</th>\n",
       "      <th>parking_lots</th>\n",
       "      <th>floor_situated</th>\n",
       "      <th>orientation</th>\n",
       "      <th>num_bedrooms</th>\n",
       "      <th>department_type</th>\n",
       "      <th>m2</th>\n",
       "      <th>final_price</th>\n",
       "      <th>price_square_meter</th>\n",
       "    </tr>\n",
       "  </thead>\n",
       "  <tbody>\n",
       "    <tr>\n",
       "      <th>0</th>\n",
       "      <td>Departamento - Roma Norte</td>\n",
       "      <td>Departamento en venta</td>\n",
       "      <td>https://departamento.metroscubicos.com/MLM-139...</td>\n",
       "      <td>Sinaloa 20 , Roma Sur, Roma Sur, Cuauhtémoc, D...</td>\n",
       "      <td>9000000 pesos</td>\n",
       "      <td>127 m² construidos,2 recs.</td>\n",
       "      <td>2022-03-29</td>\n",
       "      <td>1</td>\n",
       "      <td>Sinaloa 20 , Roma Sur</td>\n",
       "      <td>Publicado hace 5 días</td>\n",
       "      <td>...</td>\n",
       "      <td>NaN</td>\n",
       "      <td>Contrafrente</td>\n",
       "      <td>2</td>\n",
       "      <td>NaN</td>\n",
       "      <td>NaN</td>\n",
       "      <td>2.0</td>\n",
       "      <td>NaN</td>\n",
       "      <td>127.0</td>\n",
       "      <td>9000000.0</td>\n",
       "      <td>70866.141732</td>\n",
       "    </tr>\n",
       "    <tr>\n",
       "      <th>1</th>\n",
       "      <td>Preventa Exclusiva · Terraloza Roma Norte ·</td>\n",
       "      <td>Departamento en venta</td>\n",
       "      <td>https://departamento.metroscubicos.com/MLM-139...</td>\n",
       "      <td>Tonala, Roma Norte, Cuauhtémoc, Distrito Federal</td>\n",
       "      <td>4264000 pesos</td>\n",
       "      <td>54 m² construidos,1 rec.</td>\n",
       "      <td>2022-03-29</td>\n",
       "      <td>2</td>\n",
       "      <td>Tonala</td>\n",
       "      <td>Publicado hace 7 días</td>\n",
       "      <td>...</td>\n",
       "      <td>NaN</td>\n",
       "      <td>NaN</td>\n",
       "      <td>1</td>\n",
       "      <td>NaN</td>\n",
       "      <td>NaN</td>\n",
       "      <td>1.0</td>\n",
       "      <td>NaN</td>\n",
       "      <td>54.0</td>\n",
       "      <td>4264000.0</td>\n",
       "      <td>78962.962963</td>\n",
       "    </tr>\n",
       "  </tbody>\n",
       "</table>\n",
       "<p>2 rows × 35 columns</p>\n",
       "</div>"
      ],
      "text/plain": [
       "                                     main_name               subtitle  \\\n",
       "0                    Departamento - Roma Norte  Departamento en venta   \n",
       "1  Preventa Exclusiva · Terraloza Roma Norte ·  Departamento en venta   \n",
       "\n",
       "                                                link  \\\n",
       "0  https://departamento.metroscubicos.com/MLM-139...   \n",
       "1  https://departamento.metroscubicos.com/MLM-139...   \n",
       "\n",
       "                                            location          price  \\\n",
       "0  Sinaloa 20 , Roma Sur, Roma Sur, Cuauhtémoc, D...  9000000 pesos   \n",
       "1   Tonala, Roma Norte, Cuauhtémoc, Distrito Federal  4264000 pesos   \n",
       "\n",
       "                   attributes   timestamp  id                address  \\\n",
       "0  127 m² construidos,2 recs.  2022-03-29   1  Sinaloa 20 , Roma Sur   \n",
       "1    54 m² construidos,1 rec.  2022-03-29   2                 Tonala   \n",
       "\n",
       "                   since  ... apartments_per_floor   disposition  \\\n",
       "0  Publicado hace 5 días  ...                  NaN  Contrafrente   \n",
       "1  Publicado hace 7 días  ...                  NaN           NaN   \n",
       "\n",
       "   parking_lots  floor_situated  orientation num_bedrooms department_type  \\\n",
       "0             2             NaN          NaN          2.0             NaN   \n",
       "1             1             NaN          NaN          1.0             NaN   \n",
       "\n",
       "      m2  final_price  price_square_meter  \n",
       "0  127.0    9000000.0        70866.141732  \n",
       "1   54.0    4264000.0        78962.962963  \n",
       "\n",
       "[2 rows x 35 columns]"
      ]
     },
     "execution_count": 2,
     "metadata": {},
     "output_type": "execute_result"
    }
   ],
   "source": [
    "archivo = 'reto_precios.csv'\n",
    "\n",
    "df = pd.read_csv(f'{archivo}')\n",
    "\n",
    "df.head(2)"
   ]
  },
  {
   "cell_type": "markdown",
   "id": "4d5203e0",
   "metadata": {
    "papermill": {
     "duration": 0.014728,
     "end_time": "2022-08-01T12:37:06.469486",
     "exception": false,
     "start_time": "2022-08-01T12:37:06.454758",
     "status": "completed"
    },
    "tags": []
   },
   "source": [
    "### Datos"
   ]
  },
  {
   "cell_type": "code",
   "execution_count": 3,
   "id": "0119e906",
   "metadata": {
    "execution": {
     "iopub.execute_input": "2022-08-01T12:37:06.503755Z",
     "iopub.status.busy": "2022-08-01T12:37:06.502751Z",
     "iopub.status.idle": "2022-08-01T12:37:06.514469Z",
     "shell.execute_reply": "2022-08-01T12:37:06.515016Z"
    },
    "papermill": {
     "duration": 0.031979,
     "end_time": "2022-08-01T12:37:06.515223",
     "exception": false,
     "start_time": "2022-08-01T12:37:06.483244",
     "status": "completed"
    },
    "tags": []
   },
   "outputs": [
    {
     "name": "stdout",
     "output_type": "stream",
     "text": [
      "<class 'pandas.core.frame.DataFrame'>\n",
      "RangeIndex: 981 entries, 0 to 980\n",
      "Data columns (total 35 columns):\n",
      " #   Column                Non-Null Count  Dtype  \n",
      "---  ------                --------------  -----  \n",
      " 0   main_name             981 non-null    object \n",
      " 1   subtitle              981 non-null    object \n",
      " 2   link                  981 non-null    object \n",
      " 3   location              981 non-null    object \n",
      " 4   price                 981 non-null    object \n",
      " 5   attributes            981 non-null    object \n",
      " 6   timestamp             981 non-null    object \n",
      " 7   id                    981 non-null    int64  \n",
      " 8   address               702 non-null    object \n",
      " 9   since                 981 non-null    object \n",
      " 10  description           981 non-null    object \n",
      " 11  vendor                981 non-null    object \n",
      " 12  lat                   981 non-null    float64\n",
      " 13  lon                   981 non-null    float64\n",
      " 14  price_mod             981 non-null    float64\n",
      " 15  price_currency        981 non-null    object \n",
      " 16  since_period          981 non-null    object \n",
      " 17  since_value           981 non-null    int64  \n",
      " 18  days_on_site          981 non-null    float64\n",
      " 19  amenities             504 non-null    float64\n",
      " 20  age_in_years          981 non-null    float64\n",
      " 21  bathrooms             981 non-null    float64\n",
      " 22  cellars               52 non-null     float64\n",
      " 23  num_floors            84 non-null     float64\n",
      " 24  monthly_fee           128 non-null    object \n",
      " 25  apartments_per_floor  15 non-null     float64\n",
      " 26  disposition           20 non-null     object \n",
      " 27  parking_lots          981 non-null    int64  \n",
      " 28  floor_situated        24 non-null     float64\n",
      " 29  orientation           8 non-null      object \n",
      " 30  num_bedrooms          981 non-null    float64\n",
      " 31  department_type       39 non-null     object \n",
      " 32  m2                    981 non-null    float64\n",
      " 33  final_price           981 non-null    float64\n",
      " 34  price_square_meter    981 non-null    float64\n",
      "dtypes: float64(15), int64(3), object(17)\n",
      "memory usage: 268.4+ KB\n"
     ]
    }
   ],
   "source": [
    "df.info()"
   ]
  },
  {
   "cell_type": "code",
   "execution_count": 4,
   "id": "60d8ecb5",
   "metadata": {
    "execution": {
     "iopub.execute_input": "2022-08-01T12:37:06.547186Z",
     "iopub.status.busy": "2022-08-01T12:37:06.546500Z",
     "iopub.status.idle": "2022-08-01T12:37:06.549189Z",
     "shell.execute_reply": "2022-08-01T12:37:06.549657Z"
    },
    "papermill": {
     "duration": 0.021299,
     "end_time": "2022-08-01T12:37:06.549816",
     "exception": false,
     "start_time": "2022-08-01T12:37:06.528517",
     "status": "completed"
    },
    "tags": []
   },
   "outputs": [
    {
     "data": {
      "text/plain": [
       "Index(['main_name', 'subtitle', 'link', 'location', 'price', 'attributes',\n",
       "       'timestamp', 'id', 'address', 'since', 'description', 'vendor', 'lat',\n",
       "       'lon', 'price_mod', 'price_currency', 'since_period', 'since_value',\n",
       "       'days_on_site', 'amenities', 'age_in_years', 'bathrooms', 'cellars',\n",
       "       'num_floors', 'monthly_fee', 'apartments_per_floor', 'disposition',\n",
       "       'parking_lots', 'floor_situated', 'orientation', 'num_bedrooms',\n",
       "       'department_type', 'm2', 'final_price', 'price_square_meter'],\n",
       "      dtype='object')"
      ]
     },
     "execution_count": 4,
     "metadata": {},
     "output_type": "execute_result"
    }
   ],
   "source": [
    "df.columns"
   ]
  },
  {
   "cell_type": "markdown",
   "id": "f5fe6c02",
   "metadata": {
    "papermill": {
     "duration": 0.014186,
     "end_time": "2022-08-01T12:37:06.579402",
     "exception": false,
     "start_time": "2022-08-01T12:37:06.565216",
     "status": "completed"
    },
    "tags": []
   },
   "source": [
    "### Datos únicos"
   ]
  },
  {
   "cell_type": "code",
   "execution_count": 5,
   "id": "06ef078e",
   "metadata": {
    "execution": {
     "iopub.execute_input": "2022-08-01T12:37:06.612882Z",
     "iopub.status.busy": "2022-08-01T12:37:06.612149Z",
     "iopub.status.idle": "2022-08-01T12:37:06.615568Z",
     "shell.execute_reply": "2022-08-01T12:37:06.616038Z"
    },
    "papermill": {
     "duration": 0.022096,
     "end_time": "2022-08-01T12:37:06.616198",
     "exception": false,
     "start_time": "2022-08-01T12:37:06.594102",
     "status": "completed"
    },
    "tags": []
   },
   "outputs": [
    {
     "data": {
      "text/plain": [
       "981"
      ]
     },
     "execution_count": 5,
     "metadata": {},
     "output_type": "execute_result"
    }
   ],
   "source": [
    "df['id'].nunique()"
   ]
  },
  {
   "cell_type": "code",
   "execution_count": 6,
   "id": "f87256ec",
   "metadata": {
    "execution": {
     "iopub.execute_input": "2022-08-01T12:37:06.648568Z",
     "iopub.status.busy": "2022-08-01T12:37:06.647717Z",
     "iopub.status.idle": "2022-08-01T12:37:06.650896Z",
     "shell.execute_reply": "2022-08-01T12:37:06.651379Z"
    },
    "papermill": {
     "duration": 0.021963,
     "end_time": "2022-08-01T12:37:06.651544",
     "exception": false,
     "start_time": "2022-08-01T12:37:06.629581",
     "status": "completed"
    },
    "tags": []
   },
   "outputs": [
    {
     "data": {
      "text/plain": [
       "array([0.])"
      ]
     },
     "execution_count": 6,
     "metadata": {},
     "output_type": "execute_result"
    }
   ],
   "source": [
    "df['age_in_years'].unique()"
   ]
  },
  {
   "cell_type": "code",
   "execution_count": 7,
   "id": "cda8d174",
   "metadata": {
    "execution": {
     "iopub.execute_input": "2022-08-01T12:37:06.688669Z",
     "iopub.status.busy": "2022-08-01T12:37:06.687904Z",
     "iopub.status.idle": "2022-08-01T12:37:06.691064Z",
     "shell.execute_reply": "2022-08-01T12:37:06.691528Z"
    },
    "papermill": {
     "duration": 0.024143,
     "end_time": "2022-08-01T12:37:06.691686",
     "exception": false,
     "start_time": "2022-08-01T12:37:06.667543",
     "status": "completed"
    },
    "tags": []
   },
   "outputs": [
    {
     "data": {
      "text/plain": [
       "array(['pesos'], dtype=object)"
      ]
     },
     "execution_count": 7,
     "metadata": {},
     "output_type": "execute_result"
    }
   ],
   "source": [
    "df['price_currency'].unique()"
   ]
  },
  {
   "cell_type": "code",
   "execution_count": 8,
   "id": "46df0430",
   "metadata": {
    "execution": {
     "iopub.execute_input": "2022-08-01T12:37:06.727480Z",
     "iopub.status.busy": "2022-08-01T12:37:06.726633Z",
     "iopub.status.idle": "2022-08-01T12:37:06.730252Z",
     "shell.execute_reply": "2022-08-01T12:37:06.730695Z"
    },
    "papermill": {
     "duration": 0.023773,
     "end_time": "2022-08-01T12:37:06.730859",
     "exception": false,
     "start_time": "2022-08-01T12:37:06.707086",
     "status": "completed"
    },
    "tags": []
   },
   "outputs": [
    {
     "data": {
      "text/plain": [
       "141"
      ]
     },
     "execution_count": 8,
     "metadata": {},
     "output_type": "execute_result"
    }
   ],
   "source": [
    "df['vendor'].nunique()"
   ]
  },
  {
   "cell_type": "markdown",
   "id": "e93c51f8",
   "metadata": {
    "papermill": {
     "duration": 0.01431,
     "end_time": "2022-08-01T12:37:06.759643",
     "exception": false,
     "start_time": "2022-08-01T12:37:06.745333",
     "status": "completed"
    },
    "tags": []
   },
   "source": [
    "### Filtro columnas"
   ]
  },
  {
   "cell_type": "code",
   "execution_count": 9,
   "id": "69f82515",
   "metadata": {
    "execution": {
     "iopub.execute_input": "2022-08-01T12:37:06.797417Z",
     "iopub.status.busy": "2022-08-01T12:37:06.796784Z",
     "iopub.status.idle": "2022-08-01T12:37:06.801450Z",
     "shell.execute_reply": "2022-08-01T12:37:06.800928Z"
    },
    "papermill": {
     "duration": 0.025908,
     "end_time": "2022-08-01T12:37:06.801593",
     "exception": false,
     "start_time": "2022-08-01T12:37:06.775685",
     "status": "completed"
    },
    "tags": []
   },
   "outputs": [],
   "source": [
    "df_filtro = df.copy()\n",
    "df_filtro = df_filtro[[\n",
    "    'id',\n",
    "    'vendor',\n",
    "    'lat',\n",
    "    'lon',\n",
    "    'days_on_site',    \n",
    "    'bathrooms',\n",
    "    'parking_lots',\n",
    "    'num_bedrooms',\n",
    "    'm2',\n",
    "    'final_price',\n",
    "    'price_square_meter'\n",
    "]]"
   ]
  },
  {
   "cell_type": "markdown",
   "id": "9fa5b973",
   "metadata": {
    "papermill": {
     "duration": 0.014324,
     "end_time": "2022-08-01T12:37:06.831002",
     "exception": false,
     "start_time": "2022-08-01T12:37:06.816678",
     "status": "completed"
    },
    "tags": []
   },
   "source": [
    "#### Filtro manual"
   ]
  },
  {
   "cell_type": "code",
   "execution_count": 10,
   "id": "b29dafa7",
   "metadata": {
    "execution": {
     "iopub.execute_input": "2022-08-01T12:37:06.865193Z",
     "iopub.status.busy": "2022-08-01T12:37:06.864476Z",
     "iopub.status.idle": "2022-08-01T12:37:06.877853Z",
     "shell.execute_reply": "2022-08-01T12:37:06.878411Z"
    },
    "papermill": {
     "duration": 0.033004,
     "end_time": "2022-08-01T12:37:06.878611",
     "exception": false,
     "start_time": "2022-08-01T12:37:06.845607",
     "status": "completed"
    },
    "tags": []
   },
   "outputs": [],
   "source": [
    "df_filtro = df_filtro[df_filtro['m2'] < 300]\n",
    "df_filtro = df_filtro[df_filtro['final_price'] < 20000000]\n",
    "\n",
    "df_filtro.reset_index(drop=True, inplace=True)"
   ]
  },
  {
   "cell_type": "code",
   "execution_count": 11,
   "id": "21809781",
   "metadata": {
    "execution": {
     "iopub.execute_input": "2022-08-01T12:37:06.920326Z",
     "iopub.status.busy": "2022-08-01T12:37:06.919267Z",
     "iopub.status.idle": "2022-08-01T12:37:06.927927Z",
     "shell.execute_reply": "2022-08-01T12:37:06.928395Z"
    },
    "papermill": {
     "duration": 0.03134,
     "end_time": "2022-08-01T12:37:06.928556",
     "exception": false,
     "start_time": "2022-08-01T12:37:06.897216",
     "status": "completed"
    },
    "tags": []
   },
   "outputs": [
    {
     "name": "stdout",
     "output_type": "stream",
     "text": [
      "<class 'pandas.core.frame.DataFrame'>\n",
      "RangeIndex: 978 entries, 0 to 977\n",
      "Data columns (total 11 columns):\n",
      " #   Column              Non-Null Count  Dtype  \n",
      "---  ------              --------------  -----  \n",
      " 0   id                  978 non-null    int64  \n",
      " 1   vendor              978 non-null    object \n",
      " 2   lat                 978 non-null    float64\n",
      " 3   lon                 978 non-null    float64\n",
      " 4   days_on_site        978 non-null    float64\n",
      " 5   bathrooms           978 non-null    float64\n",
      " 6   parking_lots        978 non-null    int64  \n",
      " 7   num_bedrooms        978 non-null    float64\n",
      " 8   m2                  978 non-null    float64\n",
      " 9   final_price         978 non-null    float64\n",
      " 10  price_square_meter  978 non-null    float64\n",
      "dtypes: float64(8), int64(2), object(1)\n",
      "memory usage: 84.2+ KB\n"
     ]
    }
   ],
   "source": [
    "df_filtro.info()"
   ]
  },
  {
   "cell_type": "code",
   "execution_count": 12,
   "id": "b2fbe863",
   "metadata": {
    "execution": {
     "iopub.execute_input": "2022-08-01T12:37:06.972183Z",
     "iopub.status.busy": "2022-08-01T12:37:06.971535Z",
     "iopub.status.idle": "2022-08-01T12:37:06.974331Z",
     "shell.execute_reply": "2022-08-01T12:37:06.974769Z"
    },
    "papermill": {
     "duration": 0.031831,
     "end_time": "2022-08-01T12:37:06.974917",
     "exception": false,
     "start_time": "2022-08-01T12:37:06.943086",
     "status": "completed"
    },
    "tags": []
   },
   "outputs": [
    {
     "data": {
      "text/html": [
       "<div>\n",
       "<style scoped>\n",
       "    .dataframe tbody tr th:only-of-type {\n",
       "        vertical-align: middle;\n",
       "    }\n",
       "\n",
       "    .dataframe tbody tr th {\n",
       "        vertical-align: top;\n",
       "    }\n",
       "\n",
       "    .dataframe thead th {\n",
       "        text-align: right;\n",
       "    }\n",
       "</style>\n",
       "<table border=\"1\" class=\"dataframe\">\n",
       "  <thead>\n",
       "    <tr style=\"text-align: right;\">\n",
       "      <th></th>\n",
       "      <th>id</th>\n",
       "      <th>vendor</th>\n",
       "      <th>lat</th>\n",
       "      <th>lon</th>\n",
       "      <th>days_on_site</th>\n",
       "      <th>bathrooms</th>\n",
       "      <th>parking_lots</th>\n",
       "      <th>num_bedrooms</th>\n",
       "      <th>m2</th>\n",
       "      <th>final_price</th>\n",
       "      <th>price_square_meter</th>\n",
       "    </tr>\n",
       "  </thead>\n",
       "  <tbody>\n",
       "    <tr>\n",
       "      <th>0</th>\n",
       "      <td>1</td>\n",
       "      <td>Investemx</td>\n",
       "      <td>19.421317</td>\n",
       "      <td>-99.164182</td>\n",
       "      <td>5.0</td>\n",
       "      <td>2.0</td>\n",
       "      <td>2</td>\n",
       "      <td>2.0</td>\n",
       "      <td>127.0</td>\n",
       "      <td>9000000.0</td>\n",
       "      <td>70866.141732</td>\n",
       "    </tr>\n",
       "    <tr>\n",
       "      <th>1</th>\n",
       "      <td>2</td>\n",
       "      <td>Avitana</td>\n",
       "      <td>19.421029</td>\n",
       "      <td>-99.163541</td>\n",
       "      <td>7.0</td>\n",
       "      <td>1.0</td>\n",
       "      <td>1</td>\n",
       "      <td>1.0</td>\n",
       "      <td>54.0</td>\n",
       "      <td>4264000.0</td>\n",
       "      <td>78962.962963</td>\n",
       "    </tr>\n",
       "    <tr>\n",
       "      <th>2</th>\n",
       "      <td>3</td>\n",
       "      <td>Ebranuncios</td>\n",
       "      <td>19.407814</td>\n",
       "      <td>-99.161872</td>\n",
       "      <td>4.0</td>\n",
       "      <td>3.0</td>\n",
       "      <td>2</td>\n",
       "      <td>3.0</td>\n",
       "      <td>163.0</td>\n",
       "      <td>8093500.0</td>\n",
       "      <td>49653.374233</td>\n",
       "    </tr>\n",
       "  </tbody>\n",
       "</table>\n",
       "</div>"
      ],
      "text/plain": [
       "   id       vendor        lat        lon  days_on_site  bathrooms  \\\n",
       "0   1    Investemx  19.421317 -99.164182           5.0        2.0   \n",
       "1   2      Avitana  19.421029 -99.163541           7.0        1.0   \n",
       "2   3  Ebranuncios  19.407814 -99.161872           4.0        3.0   \n",
       "\n",
       "   parking_lots  num_bedrooms     m2  final_price  price_square_meter  \n",
       "0             2           2.0  127.0    9000000.0        70866.141732  \n",
       "1             1           1.0   54.0    4264000.0        78962.962963  \n",
       "2             2           3.0  163.0    8093500.0        49653.374233  "
      ]
     },
     "execution_count": 12,
     "metadata": {},
     "output_type": "execute_result"
    }
   ],
   "source": [
    "df_filtro.head(3)"
   ]
  },
  {
   "cell_type": "markdown",
   "id": "cd9d1094",
   "metadata": {
    "papermill": {
     "duration": 0.015859,
     "end_time": "2022-08-01T12:37:07.007156",
     "exception": false,
     "start_time": "2022-08-01T12:37:06.991297",
     "status": "completed"
    },
    "tags": []
   },
   "source": [
    "### Almacenamiento"
   ]
  },
  {
   "cell_type": "code",
   "execution_count": 13,
   "id": "122e9cf4",
   "metadata": {
    "execution": {
     "iopub.execute_input": "2022-08-01T12:37:07.047132Z",
     "iopub.status.busy": "2022-08-01T12:37:07.046278Z",
     "iopub.status.idle": "2022-08-01T12:37:07.062000Z",
     "shell.execute_reply": "2022-08-01T12:37:07.061462Z"
    },
    "papermill": {
     "duration": 0.037308,
     "end_time": "2022-08-01T12:37:07.062161",
     "exception": false,
     "start_time": "2022-08-01T12:37:07.024853",
     "status": "completed"
    },
    "tags": []
   },
   "outputs": [
    {
     "name": "stdout",
     "output_type": "stream",
     "text": [
      "datos_crudos.csv\n"
     ]
    }
   ],
   "source": [
    "df_almacenamiento = df_filtro.copy()\n",
    "dir_almacenamiento = 'data/procesado/'\n",
    "archivo_almacenamiento = 'datos_crudos.csv'\n",
    "df_almacenamiento.to_csv(f'{dir_almacenamiento}{archivo_almacenamiento}', index=False)\n",
    "print(archivo_almacenamiento)"
   ]
  }
 ],
 "metadata": {
  "kernelspec": {
   "display_name": "Python 3",
   "language": "python",
   "name": "python3"
  },
  "language_info": {
   "codemirror_mode": {
    "name": "ipython",
    "version": 3
   },
   "file_extension": ".py",
   "mimetype": "text/x-python",
   "name": "python",
   "nbconvert_exporter": "python",
   "pygments_lexer": "ipython3",
   "version": "3.6.10"
  },
  "papermill": {
   "default_parameters": {},
   "duration": 2.367101,
   "end_time": "2022-08-01T12:37:07.401802",
   "environment_variables": {},
   "exception": null,
   "input_path": "01_datos_crudos.ipynb",
   "output_path": "01_datos_crudos.ipynb",
   "parameters": {},
   "start_time": "2022-08-01T12:37:05.034701",
   "version": "2.3.4"
  }
 },
 "nbformat": 4,
 "nbformat_minor": 5
}