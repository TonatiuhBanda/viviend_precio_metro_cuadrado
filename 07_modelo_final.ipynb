{
 "cells": [
  {
   "cell_type": "code",
   "execution_count": 1,
   "id": "37640f65",
   "metadata": {
    "execution": {
     "iopub.execute_input": "2022-08-01T12:37:30.052692Z",
     "iopub.status.busy": "2022-08-01T12:37:30.052049Z",
     "iopub.status.idle": "2022-08-01T12:37:31.036289Z",
     "shell.execute_reply": "2022-08-01T12:37:31.036827Z"
    },
    "papermill": {
     "duration": 1.009091,
     "end_time": "2022-08-01T12:37:31.037034",
     "exception": false,
     "start_time": "2022-08-01T12:37:30.027943",
     "status": "completed"
    },
    "tags": []
   },
   "outputs": [],
   "source": [
    "import pandas as pd\n",
    "import numpy as np\n",
    "\n",
    "from sklearn.model_selection import train_test_split\n",
    "from sklearn.metrics import mean_squared_error\n",
    "from sklearn.metrics import r2_score\n",
    "\n",
    "from sklearn.ensemble import RandomForestRegressor\n",
    "#from sklearn.ensemble import GradientBoostingRegressor\n",
    "\n",
    "from sklearn.model_selection import cross_val_score"
   ]
  },
  {
   "cell_type": "markdown",
   "id": "30cb0c61",
   "metadata": {
    "papermill": {
     "duration": 0.015381,
     "end_time": "2022-08-01T12:37:31.068718",
     "exception": false,
     "start_time": "2022-08-01T12:37:31.053337",
     "status": "completed"
    },
    "tags": []
   },
   "source": [
    "### Archivo CSV"
   ]
  },
  {
   "cell_type": "code",
   "execution_count": 2,
   "id": "0c56ad97",
   "metadata": {
    "execution": {
     "iopub.execute_input": "2022-08-01T12:37:31.100982Z",
     "iopub.status.busy": "2022-08-01T12:37:31.100069Z",
     "iopub.status.idle": "2022-08-01T12:37:31.145385Z",
     "shell.execute_reply": "2022-08-01T12:37:31.145891Z"
    },
    "papermill": {
     "duration": 0.064285,
     "end_time": "2022-08-01T12:37:31.146065",
     "exception": false,
     "start_time": "2022-08-01T12:37:31.081780",
     "status": "completed"
    },
    "tags": []
   },
   "outputs": [
    {
     "data": {
      "text/html": [
       "<div>\n",
       "<style scoped>\n",
       "    .dataframe tbody tr th:only-of-type {\n",
       "        vertical-align: middle;\n",
       "    }\n",
       "\n",
       "    .dataframe tbody tr th {\n",
       "        vertical-align: top;\n",
       "    }\n",
       "\n",
       "    .dataframe thead th {\n",
       "        text-align: right;\n",
       "    }\n",
       "</style>\n",
       "<table border=\"1\" class=\"dataframe\">\n",
       "  <thead>\n",
       "    <tr style=\"text-align: right;\">\n",
       "      <th></th>\n",
       "      <th>id</th>\n",
       "      <th>vendor</th>\n",
       "      <th>lat</th>\n",
       "      <th>lon</th>\n",
       "      <th>days_on_site</th>\n",
       "      <th>bathrooms</th>\n",
       "      <th>parking_lots</th>\n",
       "      <th>num_bedrooms</th>\n",
       "      <th>m2</th>\n",
       "      <th>final_price</th>\n",
       "      <th>...</th>\n",
       "      <th>days_on_site_x2_sc</th>\n",
       "      <th>bathrooms_x2_sc</th>\n",
       "      <th>parking_lots_x2_sc</th>\n",
       "      <th>num_bedrooms_x2_sc</th>\n",
       "      <th>m2_x2_sc</th>\n",
       "      <th>ciudad</th>\n",
       "      <th>codigo_postal</th>\n",
       "      <th>codigo_postal_mod_06700</th>\n",
       "      <th>codigo_postal_mod_06760</th>\n",
       "      <th>codigo_postal_mod_otro_cp</th>\n",
       "    </tr>\n",
       "  </thead>\n",
       "  <tbody>\n",
       "    <tr>\n",
       "      <th>0</th>\n",
       "      <td>1</td>\n",
       "      <td>Investemx</td>\n",
       "      <td>19.421317</td>\n",
       "      <td>-99.164182</td>\n",
       "      <td>5.0</td>\n",
       "      <td>2.0</td>\n",
       "      <td>2</td>\n",
       "      <td>2.0</td>\n",
       "      <td>127.0</td>\n",
       "      <td>9000000.0</td>\n",
       "      <td>...</td>\n",
       "      <td>0.000045</td>\n",
       "      <td>0.005682</td>\n",
       "      <td>0.375</td>\n",
       "      <td>0.2</td>\n",
       "      <td>0.178682</td>\n",
       "      <td>Ciudad de México</td>\n",
       "      <td>6700.0</td>\n",
       "      <td>1</td>\n",
       "      <td>0</td>\n",
       "      <td>0</td>\n",
       "    </tr>\n",
       "    <tr>\n",
       "      <th>1</th>\n",
       "      <td>2</td>\n",
       "      <td>Avitana</td>\n",
       "      <td>19.421029</td>\n",
       "      <td>-99.163541</td>\n",
       "      <td>7.0</td>\n",
       "      <td>1.0</td>\n",
       "      <td>1</td>\n",
       "      <td>1.0</td>\n",
       "      <td>54.0</td>\n",
       "      <td>4264000.0</td>\n",
       "      <td>...</td>\n",
       "      <td>0.000090</td>\n",
       "      <td>0.000000</td>\n",
       "      <td>0.000</td>\n",
       "      <td>0.0</td>\n",
       "      <td>0.023030</td>\n",
       "      <td>Ciudad de México</td>\n",
       "      <td>6700.0</td>\n",
       "      <td>1</td>\n",
       "      <td>0</td>\n",
       "      <td>0</td>\n",
       "    </tr>\n",
       "  </tbody>\n",
       "</table>\n",
       "<p>2 rows × 37 columns</p>\n",
       "</div>"
      ],
      "text/plain": [
       "   id     vendor        lat        lon  days_on_site  bathrooms  parking_lots  \\\n",
       "0   1  Investemx  19.421317 -99.164182           5.0        2.0             2   \n",
       "1   2    Avitana  19.421029 -99.163541           7.0        1.0             1   \n",
       "\n",
       "   num_bedrooms     m2  final_price  ...  days_on_site_x2_sc  bathrooms_x2_sc  \\\n",
       "0           2.0  127.0    9000000.0  ...            0.000045         0.005682   \n",
       "1           1.0   54.0    4264000.0  ...            0.000090         0.000000   \n",
       "\n",
       "   parking_lots_x2_sc  num_bedrooms_x2_sc  m2_x2_sc            ciudad  \\\n",
       "0               0.375                 0.2  0.178682  Ciudad de México   \n",
       "1               0.000                 0.0  0.023030  Ciudad de México   \n",
       "\n",
       "   codigo_postal  codigo_postal_mod_06700  codigo_postal_mod_06760  \\\n",
       "0         6700.0                        1                        0   \n",
       "1         6700.0                        1                        0   \n",
       "\n",
       "   codigo_postal_mod_otro_cp  \n",
       "0                          0  \n",
       "1                          0  \n",
       "\n",
       "[2 rows x 37 columns]"
      ]
     },
     "execution_count": 2,
     "metadata": {},
     "output_type": "execute_result"
    }
   ],
   "source": [
    "dir_procesado = 'data/procesado/'\n",
    "archivo = 'datos_latitud_longitud.csv'\n",
    "df = pd.read_csv(f'{dir_procesado}{archivo}')\n",
    "\n",
    "df.head(2)"
   ]
  },
  {
   "cell_type": "markdown",
   "id": "445b0bf8",
   "metadata": {
    "papermill": {
     "duration": 0.015638,
     "end_time": "2022-08-01T12:37:31.180715",
     "exception": false,
     "start_time": "2022-08-01T12:37:31.165077",
     "status": "completed"
    },
    "tags": []
   },
   "source": [
    "### Datos entrenamiento y evaluación"
   ]
  },
  {
   "cell_type": "code",
   "execution_count": 3,
   "id": "4a339e7e",
   "metadata": {
    "execution": {
     "iopub.execute_input": "2022-08-01T12:37:31.219572Z",
     "iopub.status.busy": "2022-08-01T12:37:31.218299Z",
     "iopub.status.idle": "2022-08-01T12:37:31.220878Z",
     "shell.execute_reply": "2022-08-01T12:37:31.221799Z"
    },
    "papermill": {
     "duration": 0.025133,
     "end_time": "2022-08-01T12:37:31.222080",
     "exception": false,
     "start_time": "2022-08-01T12:37:31.196947",
     "status": "completed"
    },
    "tags": []
   },
   "outputs": [],
   "source": [
    "lista_features = [\n",
    "    'vendor_mod_Bienesraiceslomelin',\n",
    "    'vendor_mod_Buscatuhogarmexico',\n",
    "    'vendor_mod_Houm',\n",
    "    'vendor_mod_Metros Cuadrados Expertos',\n",
    "    'vendor_mod_Rent A House Cdmx',\n",
    "    'vendor_mod_otros',\n",
    "    'days_on_site_sc',\n",
    "    'bathrooms_sc',\n",
    "    'parking_lots_sc',\n",
    "    'num_bedrooms_sc',\n",
    "    'm2_sc',\n",
    "#     'days_on_site_x2_sc',\n",
    "#     'bathrooms_x2_sc',\n",
    "#     'parking_lots_x2_sc',\n",
    "#     'num_bedrooms_x2_sc',\n",
    "#     'm2_x2_sc',\n",
    "    'codigo_postal_mod_06700',\n",
    "    'codigo_postal_mod_06760',\n",
    "    'codigo_postal_mod_otro_cp'\n",
    "]"
   ]
  },
  {
   "cell_type": "code",
   "execution_count": 4,
   "id": "9b5681c3",
   "metadata": {
    "execution": {
     "iopub.execute_input": "2022-08-01T12:37:31.261922Z",
     "iopub.status.busy": "2022-08-01T12:37:31.261291Z",
     "iopub.status.idle": "2022-08-01T12:37:31.263382Z",
     "shell.execute_reply": "2022-08-01T12:37:31.263824Z"
    },
    "papermill": {
     "duration": 0.022023,
     "end_time": "2022-08-01T12:37:31.263976",
     "exception": false,
     "start_time": "2022-08-01T12:37:31.241953",
     "status": "completed"
    },
    "tags": []
   },
   "outputs": [],
   "source": [
    "X = df[lista_features]\n",
    "\n",
    "y = df['price_square_meter']"
   ]
  },
  {
   "cell_type": "code",
   "execution_count": 5,
   "id": "269b8bae",
   "metadata": {
    "execution": {
     "iopub.execute_input": "2022-08-01T12:37:31.301497Z",
     "iopub.status.busy": "2022-08-01T12:37:31.299662Z",
     "iopub.status.idle": "2022-08-01T12:37:31.303307Z",
     "shell.execute_reply": "2022-08-01T12:37:31.303852Z"
    },
    "papermill": {
     "duration": 0.023437,
     "end_time": "2022-08-01T12:37:31.304036",
     "exception": false,
     "start_time": "2022-08-01T12:37:31.280599",
     "status": "completed"
    },
    "tags": []
   },
   "outputs": [],
   "source": [
    "X_train, X_test, y_train, y_test = train_test_split(X, y, test_size=0.3, random_state=75)"
   ]
  },
  {
   "cell_type": "markdown",
   "id": "386ca8b5",
   "metadata": {
    "papermill": {
     "duration": 0.01382,
     "end_time": "2022-08-01T12:37:31.332042",
     "exception": false,
     "start_time": "2022-08-01T12:37:31.318222",
     "status": "completed"
    },
    "tags": []
   },
   "source": [
    "### Modelo CV"
   ]
  },
  {
   "cell_type": "code",
   "execution_count": 6,
   "id": "de153a99",
   "metadata": {
    "execution": {
     "iopub.execute_input": "2022-08-01T12:37:31.363558Z",
     "iopub.status.busy": "2022-08-01T12:37:31.362919Z",
     "iopub.status.idle": "2022-08-01T12:37:31.878378Z",
     "shell.execute_reply": "2022-08-01T12:37:31.878925Z"
    },
    "papermill": {
     "duration": 0.533414,
     "end_time": "2022-08-01T12:37:31.879125",
     "exception": false,
     "start_time": "2022-08-01T12:37:31.345711",
     "status": "completed"
    },
    "tags": []
   },
   "outputs": [
    {
     "data": {
      "text/plain": [
       "array([ 0.40968964,  0.25017129,  0.52802014,  0.23838526, -0.03007615,\n",
       "        0.42415411,  0.45689344,  0.12798266])"
      ]
     },
     "execution_count": 6,
     "metadata": {},
     "output_type": "execute_result"
    }
   ],
   "source": [
    "model_cv = RandomForestRegressor(n_estimators=700, random_state=75)\n",
    "scores = cross_val_score(model_cv, X, y, cv=8)\n",
    "scores"
   ]
  },
  {
   "cell_type": "markdown",
   "id": "71fbdfde",
   "metadata": {
    "papermill": {
     "duration": 0.016752,
     "end_time": "2022-08-01T12:37:31.912720",
     "exception": false,
     "start_time": "2022-08-01T12:37:31.895968",
     "status": "completed"
    },
    "tags": []
   },
   "source": [
    "### Modelo"
   ]
  },
  {
   "cell_type": "code",
   "execution_count": 7,
   "id": "62487834",
   "metadata": {
    "execution": {
     "iopub.execute_input": "2022-08-01T12:37:31.950059Z",
     "iopub.status.busy": "2022-08-01T12:37:31.949084Z",
     "iopub.status.idle": "2022-08-01T12:37:32.016883Z",
     "shell.execute_reply": "2022-08-01T12:37:32.017326Z"
    },
    "papermill": {
     "duration": 0.088333,
     "end_time": "2022-08-01T12:37:32.017490",
     "exception": false,
     "start_time": "2022-08-01T12:37:31.929157",
     "status": "completed"
    },
    "tags": []
   },
   "outputs": [
    {
     "data": {
      "text/plain": [
       "RandomForestRegressor(n_estimators=700, random_state=75)"
      ]
     },
     "execution_count": 7,
     "metadata": {},
     "output_type": "execute_result"
    }
   ],
   "source": [
    "model = RandomForestRegressor(n_estimators=700, random_state=75)\n",
    "model.fit(X_train, y_train)"
   ]
  },
  {
   "cell_type": "code",
   "execution_count": 8,
   "id": "637b7896",
   "metadata": {
    "execution": {
     "iopub.execute_input": "2022-08-01T12:37:32.057057Z",
     "iopub.status.busy": "2022-08-01T12:37:32.056397Z",
     "iopub.status.idle": "2022-08-01T12:37:32.065321Z",
     "shell.execute_reply": "2022-08-01T12:37:32.065793Z"
    },
    "jupyter": {
     "source_hidden": true
    },
    "papermill": {
     "duration": 0.032115,
     "end_time": "2022-08-01T12:37:32.065958",
     "exception": false,
     "start_time": "2022-08-01T12:37:32.033843",
     "status": "completed"
    },
    "tags": []
   },
   "outputs": [],
   "source": [
    "# importance = model.feature_importances_\n",
    "# df_importance = pd.DataFrame(\n",
    "#     {'Feature':lista_features,\n",
    "#      'Importancia':importance})\n",
    "\n",
    "# df_importance.sort_values('Importancia', ascending=False, inplace=True)\n",
    "# df_importance.head(10)"
   ]
  },
  {
   "cell_type": "markdown",
   "id": "611d03f8",
   "metadata": {
    "papermill": {
     "duration": 0.015437,
     "end_time": "2022-08-01T12:37:32.096234",
     "exception": false,
     "start_time": "2022-08-01T12:37:32.080797",
     "status": "completed"
    },
    "tags": []
   },
   "source": [
    "### Entrenamiento"
   ]
  },
  {
   "cell_type": "code",
   "execution_count": 9,
   "id": "43c5b9bb",
   "metadata": {
    "execution": {
     "iopub.execute_input": "2022-08-01T12:37:32.132507Z",
     "iopub.status.busy": "2022-08-01T12:37:32.131915Z",
     "iopub.status.idle": "2022-08-01T12:37:32.135657Z",
     "shell.execute_reply": "2022-08-01T12:37:32.136168Z"
    },
    "papermill": {
     "duration": 0.024867,
     "end_time": "2022-08-01T12:37:32.136354",
     "exception": false,
     "start_time": "2022-08-01T12:37:32.111487",
     "status": "completed"
    },
    "tags": []
   },
   "outputs": [],
   "source": [
    "y_pred = model.predict(X_train)"
   ]
  },
  {
   "cell_type": "code",
   "execution_count": 10,
   "id": "a1a72f4d",
   "metadata": {
    "execution": {
     "iopub.execute_input": "2022-08-01T12:37:32.177578Z",
     "iopub.status.busy": "2022-08-01T12:37:32.176831Z",
     "iopub.status.idle": "2022-08-01T12:37:32.179509Z",
     "shell.execute_reply": "2022-08-01T12:37:32.179975Z"
    },
    "papermill": {
     "duration": 0.026261,
     "end_time": "2022-08-01T12:37:32.180136",
     "exception": false,
     "start_time": "2022-08-01T12:37:32.153875",
     "status": "completed"
    },
    "tags": []
   },
   "outputs": [
    {
     "data": {
      "text/plain": [
       "0.9217703213685062"
      ]
     },
     "execution_count": 10,
     "metadata": {},
     "output_type": "execute_result"
    }
   ],
   "source": [
    "r2_score(y_train, y_pred)"
   ]
  },
  {
   "cell_type": "code",
   "execution_count": 11,
   "id": "13caac22",
   "metadata": {
    "execution": {
     "iopub.execute_input": "2022-08-01T12:37:32.216197Z",
     "iopub.status.busy": "2022-08-01T12:37:32.215456Z",
     "iopub.status.idle": "2022-08-01T12:37:32.218341Z",
     "shell.execute_reply": "2022-08-01T12:37:32.218838Z"
    },
    "papermill": {
     "duration": 0.023578,
     "end_time": "2022-08-01T12:37:32.219009",
     "exception": false,
     "start_time": "2022-08-01T12:37:32.195431",
     "status": "completed"
    },
    "tags": []
   },
   "outputs": [
    {
     "name": "stdout",
     "output_type": "stream",
     "text": [
      "28,408,696.98\n"
     ]
    }
   ],
   "source": [
    "print(\"{:,.2f}\".format(mean_squared_error(y_train, y_pred)))"
   ]
  },
  {
   "cell_type": "markdown",
   "id": "907f7d16",
   "metadata": {
    "papermill": {
     "duration": 0.016298,
     "end_time": "2022-08-01T12:37:32.252279",
     "exception": false,
     "start_time": "2022-08-01T12:37:32.235981",
     "status": "completed"
    },
    "tags": []
   },
   "source": [
    "### Evaluación"
   ]
  },
  {
   "cell_type": "code",
   "execution_count": 12,
   "id": "a15e1331",
   "metadata": {
    "execution": {
     "iopub.execute_input": "2022-08-01T12:37:32.293306Z",
     "iopub.status.busy": "2022-08-01T12:37:32.292407Z",
     "iopub.status.idle": "2022-08-01T12:37:32.298242Z",
     "shell.execute_reply": "2022-08-01T12:37:32.298843Z"
    },
    "papermill": {
     "duration": 0.028728,
     "end_time": "2022-08-01T12:37:32.299023",
     "exception": false,
     "start_time": "2022-08-01T12:37:32.270295",
     "status": "completed"
    },
    "tags": []
   },
   "outputs": [],
   "source": [
    "y_pred = model.predict(X_test)"
   ]
  },
  {
   "cell_type": "code",
   "execution_count": 13,
   "id": "cb462648",
   "metadata": {
    "execution": {
     "iopub.execute_input": "2022-08-01T12:37:32.338503Z",
     "iopub.status.busy": "2022-08-01T12:37:32.337585Z",
     "iopub.status.idle": "2022-08-01T12:37:32.340463Z",
     "shell.execute_reply": "2022-08-01T12:37:32.340947Z"
    },
    "papermill": {
     "duration": 0.025608,
     "end_time": "2022-08-01T12:37:32.341120",
     "exception": false,
     "start_time": "2022-08-01T12:37:32.315512",
     "status": "completed"
    },
    "tags": []
   },
   "outputs": [
    {
     "data": {
      "text/plain": [
       "0.4034985084040147"
      ]
     },
     "execution_count": 13,
     "metadata": {},
     "output_type": "execute_result"
    }
   ],
   "source": [
    "r2_score(y_test, y_pred)"
   ]
  },
  {
   "cell_type": "code",
   "execution_count": 14,
   "id": "d8f64daa",
   "metadata": {
    "execution": {
     "iopub.execute_input": "2022-08-01T12:37:32.380034Z",
     "iopub.status.busy": "2022-08-01T12:37:32.379320Z",
     "iopub.status.idle": "2022-08-01T12:37:32.382192Z",
     "shell.execute_reply": "2022-08-01T12:37:32.382664Z"
    },
    "papermill": {
     "duration": 0.024972,
     "end_time": "2022-08-01T12:37:32.382839",
     "exception": false,
     "start_time": "2022-08-01T12:37:32.357867",
     "status": "completed"
    },
    "tags": []
   },
   "outputs": [
    {
     "name": "stdout",
     "output_type": "stream",
     "text": [
      "210,152,502.49\n"
     ]
    }
   ],
   "source": [
    "print(\"{:,.2f}\".format(mean_squared_error(y_test, y_pred)))"
   ]
  },
  {
   "cell_type": "markdown",
   "id": "2a02049d",
   "metadata": {
    "papermill": {
     "duration": 0.018857,
     "end_time": "2022-08-01T12:37:32.421502",
     "exception": false,
     "start_time": "2022-08-01T12:37:32.402645",
     "status": "completed"
    },
    "tags": []
   },
   "source": [
    "### Modelo dataset completo"
   ]
  },
  {
   "cell_type": "code",
   "execution_count": 15,
   "id": "41f3ab04",
   "metadata": {
    "execution": {
     "iopub.execute_input": "2022-08-01T12:37:32.463367Z",
     "iopub.status.busy": "2022-08-01T12:37:32.462745Z",
     "iopub.status.idle": "2022-08-01T12:37:32.544912Z",
     "shell.execute_reply": "2022-08-01T12:37:32.545355Z"
    },
    "papermill": {
     "duration": 0.105751,
     "end_time": "2022-08-01T12:37:32.545509",
     "exception": false,
     "start_time": "2022-08-01T12:37:32.439758",
     "status": "completed"
    },
    "tags": []
   },
   "outputs": [
    {
     "data": {
      "text/plain": [
       "RandomForestRegressor(n_estimators=700, random_state=75)"
      ]
     },
     "execution_count": 15,
     "metadata": {},
     "output_type": "execute_result"
    }
   ],
   "source": [
    "model = RandomForestRegressor(n_estimators=700, random_state=75)\n",
    "model.fit(X, y)"
   ]
  },
  {
   "cell_type": "code",
   "execution_count": 16,
   "id": "6bcd861e",
   "metadata": {
    "execution": {
     "iopub.execute_input": "2022-08-01T12:37:32.587629Z",
     "iopub.status.busy": "2022-08-01T12:37:32.586661Z",
     "iopub.status.idle": "2022-08-01T12:37:32.597581Z",
     "shell.execute_reply": "2022-08-01T12:37:32.597022Z"
    },
    "papermill": {
     "duration": 0.034594,
     "end_time": "2022-08-01T12:37:32.597743",
     "exception": false,
     "start_time": "2022-08-01T12:37:32.563149",
     "status": "completed"
    },
    "tags": []
   },
   "outputs": [
    {
     "data": {
      "text/html": [
       "<div>\n",
       "<style scoped>\n",
       "    .dataframe tbody tr th:only-of-type {\n",
       "        vertical-align: middle;\n",
       "    }\n",
       "\n",
       "    .dataframe tbody tr th {\n",
       "        vertical-align: top;\n",
       "    }\n",
       "\n",
       "    .dataframe thead th {\n",
       "        text-align: right;\n",
       "    }\n",
       "</style>\n",
       "<table border=\"1\" class=\"dataframe\">\n",
       "  <thead>\n",
       "    <tr style=\"text-align: right;\">\n",
       "      <th></th>\n",
       "      <th>Feature</th>\n",
       "      <th>Importancia</th>\n",
       "    </tr>\n",
       "  </thead>\n",
       "  <tbody>\n",
       "    <tr>\n",
       "      <th>10</th>\n",
       "      <td>m2_sc</td>\n",
       "      <td>0.490777</td>\n",
       "    </tr>\n",
       "    <tr>\n",
       "      <th>6</th>\n",
       "      <td>days_on_site_sc</td>\n",
       "      <td>0.162152</td>\n",
       "    </tr>\n",
       "    <tr>\n",
       "      <th>9</th>\n",
       "      <td>num_bedrooms_sc</td>\n",
       "      <td>0.065628</td>\n",
       "    </tr>\n",
       "    <tr>\n",
       "      <th>8</th>\n",
       "      <td>parking_lots_sc</td>\n",
       "      <td>0.060021</td>\n",
       "    </tr>\n",
       "    <tr>\n",
       "      <th>11</th>\n",
       "      <td>codigo_postal_mod_06700</td>\n",
       "      <td>0.055528</td>\n",
       "    </tr>\n",
       "    <tr>\n",
       "      <th>5</th>\n",
       "      <td>vendor_mod_otros</td>\n",
       "      <td>0.051471</td>\n",
       "    </tr>\n",
       "    <tr>\n",
       "      <th>7</th>\n",
       "      <td>bathrooms_sc</td>\n",
       "      <td>0.038422</td>\n",
       "    </tr>\n",
       "    <tr>\n",
       "      <th>12</th>\n",
       "      <td>codigo_postal_mod_06760</td>\n",
       "      <td>0.018828</td>\n",
       "    </tr>\n",
       "    <tr>\n",
       "      <th>2</th>\n",
       "      <td>vendor_mod_Houm</td>\n",
       "      <td>0.018380</td>\n",
       "    </tr>\n",
       "    <tr>\n",
       "      <th>13</th>\n",
       "      <td>codigo_postal_mod_otro_cp</td>\n",
       "      <td>0.015592</td>\n",
       "    </tr>\n",
       "  </tbody>\n",
       "</table>\n",
       "</div>"
      ],
      "text/plain": [
       "                      Feature  Importancia\n",
       "10                      m2_sc     0.490777\n",
       "6             days_on_site_sc     0.162152\n",
       "9             num_bedrooms_sc     0.065628\n",
       "8             parking_lots_sc     0.060021\n",
       "11    codigo_postal_mod_06700     0.055528\n",
       "5            vendor_mod_otros     0.051471\n",
       "7                bathrooms_sc     0.038422\n",
       "12    codigo_postal_mod_06760     0.018828\n",
       "2             vendor_mod_Houm     0.018380\n",
       "13  codigo_postal_mod_otro_cp     0.015592"
      ]
     },
     "execution_count": 16,
     "metadata": {},
     "output_type": "execute_result"
    }
   ],
   "source": [
    "importance = model.feature_importances_\n",
    "df_importance = pd.DataFrame(\n",
    "    {'Feature':lista_features,\n",
    "     'Importancia':importance})\n",
    "\n",
    "df_importance.sort_values('Importancia', ascending=False, inplace=True)\n",
    "df_importance.head(10)"
   ]
  }
 ],
 "metadata": {
  "kernelspec": {
   "display_name": "Python 3",
   "language": "python",
   "name": "python3"
  },
  "language_info": {
   "codemirror_mode": {
    "name": "ipython",
    "version": 3
   },
   "file_extension": ".py",
   "mimetype": "text/x-python",
   "name": "python",
   "nbconvert_exporter": "python",
   "pygments_lexer": "ipython3",
   "version": "3.6.10"
  },
  "papermill": {
   "default_parameters": {},
   "duration": 4.073541,
   "end_time": "2022-08-01T12:37:33.036902",
   "environment_variables": {},
   "exception": null,
   "input_path": "07_modelo_gbr.ipynb",
   "output_path": "07_modelo_gbr.ipynb",
   "parameters": {},
   "start_time": "2022-08-01T12:37:28.963361",
   "version": "2.3.4"
  }
 },
 "nbformat": 4,
 "nbformat_minor": 5
}
