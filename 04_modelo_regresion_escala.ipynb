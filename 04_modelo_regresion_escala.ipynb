{
 "cells": [
  {
   "cell_type": "code",
   "execution_count": 1,
   "id": "ef137a63",
   "metadata": {
    "execution": {
     "iopub.execute_input": "2022-08-01T12:37:15.891519Z",
     "iopub.status.busy": "2022-08-01T12:37:15.890475Z",
     "iopub.status.idle": "2022-08-01T12:37:16.820626Z",
     "shell.execute_reply": "2022-08-01T12:37:16.819531Z"
    },
    "papermill": {
     "duration": 0.960397,
     "end_time": "2022-08-01T12:37:16.820811",
     "exception": false,
     "start_time": "2022-08-01T12:37:15.860414",
     "status": "completed"
    },
    "tags": []
   },
   "outputs": [],
   "source": [
    "import pandas as pd\n",
    "import numpy as np\n",
    "\n",
    "from sklearn.model_selection import train_test_split\n",
    "from sklearn.linear_model import LinearRegression\n",
    "\n",
    "from sklearn.metrics import mean_squared_error\n",
    "from sklearn.metrics import r2_score\n",
    "\n",
    "from sklearn.preprocessing import MinMaxScaler"
   ]
  },
  {
   "cell_type": "markdown",
   "id": "a82ae6e4",
   "metadata": {
    "papermill": {
     "duration": 0.01975,
     "end_time": "2022-08-01T12:37:16.860448",
     "exception": false,
     "start_time": "2022-08-01T12:37:16.840698",
     "status": "completed"
    },
    "tags": []
   },
   "source": [
    "### Archivo CSV"
   ]
  },
  {
   "cell_type": "code",
   "execution_count": 2,
   "id": "33352041",
   "metadata": {
    "execution": {
     "iopub.execute_input": "2022-08-01T12:37:16.903356Z",
     "iopub.status.busy": "2022-08-01T12:37:16.902757Z",
     "iopub.status.idle": "2022-08-01T12:37:16.929764Z",
     "shell.execute_reply": "2022-08-01T12:37:16.930247Z"
    },
    "papermill": {
     "duration": 0.051479,
     "end_time": "2022-08-01T12:37:16.930412",
     "exception": false,
     "start_time": "2022-08-01T12:37:16.878933",
     "status": "completed"
    },
    "tags": []
   },
   "outputs": [
    {
     "data": {
      "text/html": [
       "<div>\n",
       "<style scoped>\n",
       "    .dataframe tbody tr th:only-of-type {\n",
       "        vertical-align: middle;\n",
       "    }\n",
       "\n",
       "    .dataframe tbody tr th {\n",
       "        vertical-align: top;\n",
       "    }\n",
       "\n",
       "    .dataframe thead th {\n",
       "        text-align: right;\n",
       "    }\n",
       "</style>\n",
       "<table border=\"1\" class=\"dataframe\">\n",
       "  <thead>\n",
       "    <tr style=\"text-align: right;\">\n",
       "      <th></th>\n",
       "      <th>id</th>\n",
       "      <th>vendor</th>\n",
       "      <th>lat</th>\n",
       "      <th>lon</th>\n",
       "      <th>days_on_site</th>\n",
       "      <th>bathrooms</th>\n",
       "      <th>parking_lots</th>\n",
       "      <th>num_bedrooms</th>\n",
       "      <th>m2</th>\n",
       "      <th>final_price</th>\n",
       "      <th>price_square_meter</th>\n",
       "    </tr>\n",
       "  </thead>\n",
       "  <tbody>\n",
       "    <tr>\n",
       "      <th>0</th>\n",
       "      <td>1</td>\n",
       "      <td>Investemx</td>\n",
       "      <td>19.421317</td>\n",
       "      <td>-99.164182</td>\n",
       "      <td>5.0</td>\n",
       "      <td>2.0</td>\n",
       "      <td>2</td>\n",
       "      <td>2.0</td>\n",
       "      <td>127.0</td>\n",
       "      <td>9000000.0</td>\n",
       "      <td>70866.141732</td>\n",
       "    </tr>\n",
       "    <tr>\n",
       "      <th>1</th>\n",
       "      <td>2</td>\n",
       "      <td>Avitana</td>\n",
       "      <td>19.421029</td>\n",
       "      <td>-99.163541</td>\n",
       "      <td>7.0</td>\n",
       "      <td>1.0</td>\n",
       "      <td>1</td>\n",
       "      <td>1.0</td>\n",
       "      <td>54.0</td>\n",
       "      <td>4264000.0</td>\n",
       "      <td>78962.962963</td>\n",
       "    </tr>\n",
       "  </tbody>\n",
       "</table>\n",
       "</div>"
      ],
      "text/plain": [
       "   id     vendor        lat        lon  days_on_site  bathrooms  parking_lots  \\\n",
       "0   1  Investemx  19.421317 -99.164182           5.0        2.0             2   \n",
       "1   2    Avitana  19.421029 -99.163541           7.0        1.0             1   \n",
       "\n",
       "   num_bedrooms     m2  final_price  price_square_meter  \n",
       "0           2.0  127.0    9000000.0        70866.141732  \n",
       "1           1.0   54.0    4264000.0        78962.962963  "
      ]
     },
     "execution_count": 2,
     "metadata": {},
     "output_type": "execute_result"
    }
   ],
   "source": [
    "dir_procesado = 'data/procesado/'\n",
    "archivo = 'datos_crudos.csv'\n",
    "df = pd.read_csv(f'{dir_procesado}{archivo}')\n",
    "\n",
    "df.head(2)"
   ]
  },
  {
   "cell_type": "markdown",
   "id": "79b4fa18",
   "metadata": {
    "papermill": {
     "duration": 0.019267,
     "end_time": "2022-08-01T12:37:16.969061",
     "exception": false,
     "start_time": "2022-08-01T12:37:16.949794",
     "status": "completed"
    },
    "tags": []
   },
   "source": [
    "### Columna \"vendor\""
   ]
  },
  {
   "cell_type": "code",
   "execution_count": 3,
   "id": "23346813",
   "metadata": {
    "execution": {
     "iopub.execute_input": "2022-08-01T12:37:17.018172Z",
     "iopub.status.busy": "2022-08-01T12:37:17.015257Z",
     "iopub.status.idle": "2022-08-01T12:37:17.023643Z",
     "shell.execute_reply": "2022-08-01T12:37:17.024201Z"
    },
    "papermill": {
     "duration": 0.035112,
     "end_time": "2022-08-01T12:37:17.024402",
     "exception": false,
     "start_time": "2022-08-01T12:37:16.989290",
     "status": "completed"
    },
    "tags": []
   },
   "outputs": [],
   "source": [
    "df_col = df.groupby('vendor').agg({'id':'count'})\n",
    "df_col.reset_index(drop=False, inplace=True)\n",
    "df_col.sort_values(['id'], ascending=False, inplace=True)\n",
    "\n",
    "total_col = df_col['id'].sum()\n",
    "df_col['total_porcentaje'] = df_col['id'].apply(lambda x: x/total_col*100)\n",
    "df_col['total_porcentaje_acumulado'] = df_col['total_porcentaje'].cumsum()"
   ]
  },
  {
   "cell_type": "code",
   "execution_count": 4,
   "id": "9195f8e0",
   "metadata": {
    "execution": {
     "iopub.execute_input": "2022-08-01T12:37:17.073146Z",
     "iopub.status.busy": "2022-08-01T12:37:17.072168Z",
     "iopub.status.idle": "2022-08-01T12:37:17.076004Z",
     "shell.execute_reply": "2022-08-01T12:37:17.076641Z"
    },
    "papermill": {
     "duration": 0.033763,
     "end_time": "2022-08-01T12:37:17.076812",
     "exception": false,
     "start_time": "2022-08-01T12:37:17.043049",
     "status": "completed"
    },
    "tags": []
   },
   "outputs": [
    {
     "data": {
      "text/html": [
       "<div>\n",
       "<style scoped>\n",
       "    .dataframe tbody tr th:only-of-type {\n",
       "        vertical-align: middle;\n",
       "    }\n",
       "\n",
       "    .dataframe tbody tr th {\n",
       "        vertical-align: top;\n",
       "    }\n",
       "\n",
       "    .dataframe thead th {\n",
       "        text-align: right;\n",
       "    }\n",
       "</style>\n",
       "<table border=\"1\" class=\"dataframe\">\n",
       "  <thead>\n",
       "    <tr style=\"text-align: right;\">\n",
       "      <th></th>\n",
       "      <th>vendor</th>\n",
       "      <th>id</th>\n",
       "      <th>total_porcentaje</th>\n",
       "      <th>total_porcentaje_acumulado</th>\n",
       "    </tr>\n",
       "  </thead>\n",
       "  <tbody>\n",
       "    <tr>\n",
       "      <th>94</th>\n",
       "      <td>Metros Cuadrados Expertos</td>\n",
       "      <td>115</td>\n",
       "      <td>11.758691</td>\n",
       "      <td>11.758691</td>\n",
       "    </tr>\n",
       "    <tr>\n",
       "      <th>124</th>\n",
       "      <td>Rent A House Cdmx</td>\n",
       "      <td>111</td>\n",
       "      <td>11.349693</td>\n",
       "      <td>23.108384</td>\n",
       "    </tr>\n",
       "    <tr>\n",
       "      <th>13</th>\n",
       "      <td>Buscatuhogarmexico</td>\n",
       "      <td>95</td>\n",
       "      <td>9.713701</td>\n",
       "      <td>32.822086</td>\n",
       "    </tr>\n",
       "    <tr>\n",
       "      <th>11</th>\n",
       "      <td>Bienesraiceslomelin</td>\n",
       "      <td>42</td>\n",
       "      <td>4.294479</td>\n",
       "      <td>37.116564</td>\n",
       "    </tr>\n",
       "    <tr>\n",
       "      <th>74</th>\n",
       "      <td>Houm</td>\n",
       "      <td>39</td>\n",
       "      <td>3.987730</td>\n",
       "      <td>41.104294</td>\n",
       "    </tr>\n",
       "    <tr>\n",
       "      <th>140</th>\n",
       "      <td>Zona Ryg</td>\n",
       "      <td>36</td>\n",
       "      <td>3.680982</td>\n",
       "      <td>44.785276</td>\n",
       "    </tr>\n",
       "    <tr>\n",
       "      <th>2</th>\n",
       "      <td>Airnetwork Asesores Inmob</td>\n",
       "      <td>31</td>\n",
       "      <td>3.169734</td>\n",
       "      <td>47.955010</td>\n",
       "    </tr>\n",
       "    <tr>\n",
       "      <th>1</th>\n",
       "      <td>Aire Y Acero Inmobiliaria</td>\n",
       "      <td>31</td>\n",
       "      <td>3.169734</td>\n",
       "      <td>51.124744</td>\n",
       "    </tr>\n",
       "    <tr>\n",
       "      <th>76</th>\n",
       "      <td>Incitybienesraices</td>\n",
       "      <td>27</td>\n",
       "      <td>2.760736</td>\n",
       "      <td>53.885481</td>\n",
       "    </tr>\n",
       "    <tr>\n",
       "      <th>41</th>\n",
       "      <td>Consultores Patrimoniales</td>\n",
       "      <td>26</td>\n",
       "      <td>2.658487</td>\n",
       "      <td>56.543967</td>\n",
       "    </tr>\n",
       "  </tbody>\n",
       "</table>\n",
       "</div>"
      ],
      "text/plain": [
       "                        vendor   id  total_porcentaje  \\\n",
       "94   Metros Cuadrados Expertos  115         11.758691   \n",
       "124          Rent A House Cdmx  111         11.349693   \n",
       "13          Buscatuhogarmexico   95          9.713701   \n",
       "11         Bienesraiceslomelin   42          4.294479   \n",
       "74                        Houm   39          3.987730   \n",
       "140                   Zona Ryg   36          3.680982   \n",
       "2    Airnetwork Asesores Inmob   31          3.169734   \n",
       "1    Aire Y Acero Inmobiliaria   31          3.169734   \n",
       "76          Incitybienesraices   27          2.760736   \n",
       "41   Consultores Patrimoniales   26          2.658487   \n",
       "\n",
       "     total_porcentaje_acumulado  \n",
       "94                    11.758691  \n",
       "124                   23.108384  \n",
       "13                    32.822086  \n",
       "11                    37.116564  \n",
       "74                    41.104294  \n",
       "140                   44.785276  \n",
       "2                     47.955010  \n",
       "1                     51.124744  \n",
       "76                    53.885481  \n",
       "41                    56.543967  "
      ]
     },
     "execution_count": 4,
     "metadata": {},
     "output_type": "execute_result"
    }
   ],
   "source": [
    "df_col.head(10)"
   ]
  },
  {
   "cell_type": "code",
   "execution_count": 5,
   "id": "741c9f48",
   "metadata": {
    "execution": {
     "iopub.execute_input": "2022-08-01T12:37:17.122954Z",
     "iopub.status.busy": "2022-08-01T12:37:17.122257Z",
     "iopub.status.idle": "2022-08-01T12:37:17.125070Z",
     "shell.execute_reply": "2022-08-01T12:37:17.125526Z"
    },
    "papermill": {
     "duration": 0.028159,
     "end_time": "2022-08-01T12:37:17.125680",
     "exception": false,
     "start_time": "2022-08-01T12:37:17.097521",
     "status": "completed"
    },
    "tags": []
   },
   "outputs": [
    {
     "data": {
      "text/plain": [
       "array(['Metros Cuadrados Expertos', 'Rent A House Cdmx',\n",
       "       'Buscatuhogarmexico', 'Bienesraiceslomelin', 'Houm'], dtype=object)"
      ]
     },
     "execution_count": 5,
     "metadata": {},
     "output_type": "execute_result"
    }
   ],
   "source": [
    "lista_col = df_col['vendor'].values[:5]\n",
    "lista_col"
   ]
  },
  {
   "cell_type": "markdown",
   "id": "f72a7037",
   "metadata": {
    "papermill": {
     "duration": 0.018843,
     "end_time": "2022-08-01T12:37:17.164930",
     "exception": false,
     "start_time": "2022-08-01T12:37:17.146087",
     "status": "completed"
    },
    "tags": []
   },
   "source": [
    "### Conjunto de datos para modelo"
   ]
  },
  {
   "cell_type": "code",
   "execution_count": 6,
   "id": "8d40a972",
   "metadata": {
    "execution": {
     "iopub.execute_input": "2022-08-01T12:37:17.216065Z",
     "iopub.status.busy": "2022-08-01T12:37:17.214628Z",
     "iopub.status.idle": "2022-08-01T12:37:17.217276Z",
     "shell.execute_reply": "2022-08-01T12:37:17.217859Z"
    },
    "papermill": {
     "duration": 0.034328,
     "end_time": "2022-08-01T12:37:17.218052",
     "exception": false,
     "start_time": "2022-08-01T12:37:17.183724",
     "status": "completed"
    },
    "tags": []
   },
   "outputs": [],
   "source": [
    "df_modelo = df.copy()\n",
    "df_modelo['vendor_mod'] = df_modelo['vendor'].apply(lambda x: x if x in lista_col else 'otros')"
   ]
  },
  {
   "cell_type": "code",
   "execution_count": 7,
   "id": "217f8e41",
   "metadata": {
    "execution": {
     "iopub.execute_input": "2022-08-01T12:37:17.274563Z",
     "iopub.status.busy": "2022-08-01T12:37:17.267395Z",
     "iopub.status.idle": "2022-08-01T12:37:17.277356Z",
     "shell.execute_reply": "2022-08-01T12:37:17.277838Z"
    },
    "papermill": {
     "duration": 0.038117,
     "end_time": "2022-08-01T12:37:17.278000",
     "exception": false,
     "start_time": "2022-08-01T12:37:17.239883",
     "status": "completed"
    },
    "tags": []
   },
   "outputs": [
    {
     "name": "stdout",
     "output_type": "stream",
     "text": [
      "<class 'pandas.core.frame.DataFrame'>\n",
      "RangeIndex: 978 entries, 0 to 977\n",
      "Data columns (total 12 columns):\n",
      " #   Column              Non-Null Count  Dtype  \n",
      "---  ------              --------------  -----  \n",
      " 0   id                  978 non-null    int64  \n",
      " 1   vendor              978 non-null    object \n",
      " 2   lat                 978 non-null    float64\n",
      " 3   lon                 978 non-null    float64\n",
      " 4   days_on_site        978 non-null    float64\n",
      " 5   bathrooms           978 non-null    float64\n",
      " 6   parking_lots        978 non-null    int64  \n",
      " 7   num_bedrooms        978 non-null    float64\n",
      " 8   m2                  978 non-null    float64\n",
      " 9   final_price         978 non-null    float64\n",
      " 10  price_square_meter  978 non-null    float64\n",
      " 11  vendor_mod          978 non-null    object \n",
      "dtypes: float64(8), int64(2), object(2)\n",
      "memory usage: 91.8+ KB\n"
     ]
    }
   ],
   "source": [
    "df_modelo.info()"
   ]
  },
  {
   "cell_type": "markdown",
   "id": "dce865cb",
   "metadata": {
    "papermill": {
     "duration": 0.019715,
     "end_time": "2022-08-01T12:37:17.317073",
     "exception": false,
     "start_time": "2022-08-01T12:37:17.297358",
     "status": "completed"
    },
    "tags": []
   },
   "source": [
    "### One Hot Encoder"
   ]
  },
  {
   "cell_type": "code",
   "execution_count": 8,
   "id": "bc1205b4",
   "metadata": {
    "execution": {
     "iopub.execute_input": "2022-08-01T12:37:17.365067Z",
     "iopub.status.busy": "2022-08-01T12:37:17.364091Z",
     "iopub.status.idle": "2022-08-01T12:37:17.383368Z",
     "shell.execute_reply": "2022-08-01T12:37:17.383839Z"
    },
    "papermill": {
     "duration": 0.047436,
     "end_time": "2022-08-01T12:37:17.383998",
     "exception": false,
     "start_time": "2022-08-01T12:37:17.336562",
     "status": "completed"
    },
    "tags": []
   },
   "outputs": [
    {
     "data": {
      "text/html": [
       "<div>\n",
       "<style scoped>\n",
       "    .dataframe tbody tr th:only-of-type {\n",
       "        vertical-align: middle;\n",
       "    }\n",
       "\n",
       "    .dataframe tbody tr th {\n",
       "        vertical-align: top;\n",
       "    }\n",
       "\n",
       "    .dataframe thead th {\n",
       "        text-align: right;\n",
       "    }\n",
       "</style>\n",
       "<table border=\"1\" class=\"dataframe\">\n",
       "  <thead>\n",
       "    <tr style=\"text-align: right;\">\n",
       "      <th></th>\n",
       "      <th>id</th>\n",
       "      <th>vendor</th>\n",
       "      <th>lat</th>\n",
       "      <th>lon</th>\n",
       "      <th>days_on_site</th>\n",
       "      <th>bathrooms</th>\n",
       "      <th>parking_lots</th>\n",
       "      <th>num_bedrooms</th>\n",
       "      <th>m2</th>\n",
       "      <th>final_price</th>\n",
       "      <th>price_square_meter</th>\n",
       "      <th>vendor_mod_Bienesraiceslomelin</th>\n",
       "      <th>vendor_mod_Buscatuhogarmexico</th>\n",
       "      <th>vendor_mod_Houm</th>\n",
       "      <th>vendor_mod_Metros Cuadrados Expertos</th>\n",
       "      <th>vendor_mod_Rent A House Cdmx</th>\n",
       "      <th>vendor_mod_otros</th>\n",
       "    </tr>\n",
       "  </thead>\n",
       "  <tbody>\n",
       "    <tr>\n",
       "      <th>0</th>\n",
       "      <td>1</td>\n",
       "      <td>Investemx</td>\n",
       "      <td>19.421317</td>\n",
       "      <td>-99.164182</td>\n",
       "      <td>5.0</td>\n",
       "      <td>2.0</td>\n",
       "      <td>2</td>\n",
       "      <td>2.0</td>\n",
       "      <td>127.0</td>\n",
       "      <td>9000000.0</td>\n",
       "      <td>70866.141732</td>\n",
       "      <td>0</td>\n",
       "      <td>0</td>\n",
       "      <td>0</td>\n",
       "      <td>0</td>\n",
       "      <td>0</td>\n",
       "      <td>1</td>\n",
       "    </tr>\n",
       "    <tr>\n",
       "      <th>1</th>\n",
       "      <td>2</td>\n",
       "      <td>Avitana</td>\n",
       "      <td>19.421029</td>\n",
       "      <td>-99.163541</td>\n",
       "      <td>7.0</td>\n",
       "      <td>1.0</td>\n",
       "      <td>1</td>\n",
       "      <td>1.0</td>\n",
       "      <td>54.0</td>\n",
       "      <td>4264000.0</td>\n",
       "      <td>78962.962963</td>\n",
       "      <td>0</td>\n",
       "      <td>0</td>\n",
       "      <td>0</td>\n",
       "      <td>0</td>\n",
       "      <td>0</td>\n",
       "      <td>1</td>\n",
       "    </tr>\n",
       "    <tr>\n",
       "      <th>2</th>\n",
       "      <td>3</td>\n",
       "      <td>Ebranuncios</td>\n",
       "      <td>19.407814</td>\n",
       "      <td>-99.161872</td>\n",
       "      <td>4.0</td>\n",
       "      <td>3.0</td>\n",
       "      <td>2</td>\n",
       "      <td>3.0</td>\n",
       "      <td>163.0</td>\n",
       "      <td>8093500.0</td>\n",
       "      <td>49653.374233</td>\n",
       "      <td>0</td>\n",
       "      <td>0</td>\n",
       "      <td>0</td>\n",
       "      <td>0</td>\n",
       "      <td>0</td>\n",
       "      <td>1</td>\n",
       "    </tr>\n",
       "  </tbody>\n",
       "</table>\n",
       "</div>"
      ],
      "text/plain": [
       "   id       vendor        lat        lon  days_on_site  bathrooms  \\\n",
       "0   1    Investemx  19.421317 -99.164182           5.0        2.0   \n",
       "1   2      Avitana  19.421029 -99.163541           7.0        1.0   \n",
       "2   3  Ebranuncios  19.407814 -99.161872           4.0        3.0   \n",
       "\n",
       "   parking_lots  num_bedrooms     m2  final_price  price_square_meter  \\\n",
       "0             2           2.0  127.0    9000000.0        70866.141732   \n",
       "1             1           1.0   54.0    4264000.0        78962.962963   \n",
       "2             2           3.0  163.0    8093500.0        49653.374233   \n",
       "\n",
       "   vendor_mod_Bienesraiceslomelin  vendor_mod_Buscatuhogarmexico  \\\n",
       "0                               0                              0   \n",
       "1                               0                              0   \n",
       "2                               0                              0   \n",
       "\n",
       "   vendor_mod_Houm  vendor_mod_Metros Cuadrados Expertos  \\\n",
       "0                0                                     0   \n",
       "1                0                                     0   \n",
       "2                0                                     0   \n",
       "\n",
       "   vendor_mod_Rent A House Cdmx  vendor_mod_otros  \n",
       "0                             0                 1  \n",
       "1                             0                 1  \n",
       "2                             0                 1  "
      ]
     },
     "execution_count": 8,
     "metadata": {},
     "output_type": "execute_result"
    }
   ],
   "source": [
    "df_ohe = pd.get_dummies(df_modelo, columns=['vendor_mod'])\n",
    "df_ohe.head(3)"
   ]
  },
  {
   "cell_type": "markdown",
   "id": "7c0d1af0",
   "metadata": {
    "papermill": {
     "duration": 0.021768,
     "end_time": "2022-08-01T12:37:17.427505",
     "exception": false,
     "start_time": "2022-08-01T12:37:17.405737",
     "status": "completed"
    },
    "tags": []
   },
   "source": [
    "### Conjunto de datos para modelo X^2"
   ]
  },
  {
   "cell_type": "code",
   "execution_count": 9,
   "id": "12fb65c0",
   "metadata": {
    "execution": {
     "iopub.execute_input": "2022-08-01T12:37:17.474047Z",
     "iopub.status.busy": "2022-08-01T12:37:17.473420Z",
     "iopub.status.idle": "2022-08-01T12:37:17.475407Z",
     "shell.execute_reply": "2022-08-01T12:37:17.475944Z"
    },
    "papermill": {
     "duration": 0.026976,
     "end_time": "2022-08-01T12:37:17.476126",
     "exception": false,
     "start_time": "2022-08-01T12:37:17.449150",
     "status": "completed"
    },
    "tags": []
   },
   "outputs": [],
   "source": [
    "lista_x2 = [\n",
    "    'days_on_site',\n",
    "    'bathrooms',\n",
    "    'parking_lots',\n",
    "    'num_bedrooms',\n",
    "    'm2']"
   ]
  },
  {
   "cell_type": "code",
   "execution_count": 10,
   "id": "c6376218",
   "metadata": {
    "execution": {
     "iopub.execute_input": "2022-08-01T12:37:17.529092Z",
     "iopub.status.busy": "2022-08-01T12:37:17.528224Z",
     "iopub.status.idle": "2022-08-01T12:37:17.530797Z",
     "shell.execute_reply": "2022-08-01T12:37:17.530303Z"
    },
    "papermill": {
     "duration": 0.034282,
     "end_time": "2022-08-01T12:37:17.530932",
     "exception": false,
     "start_time": "2022-08-01T12:37:17.496650",
     "status": "completed"
    },
    "tags": []
   },
   "outputs": [],
   "source": [
    "df_sq = df_ohe.copy()\n",
    "for col in lista_x2:\n",
    "    df_sq[f'{col}_x2'] = df_sq[col].apply(lambda x: x**2)"
   ]
  },
  {
   "cell_type": "code",
   "execution_count": 11,
   "id": "14c4dfe4",
   "metadata": {
    "execution": {
     "iopub.execute_input": "2022-08-01T12:37:17.583347Z",
     "iopub.status.busy": "2022-08-01T12:37:17.582388Z",
     "iopub.status.idle": "2022-08-01T12:37:17.606955Z",
     "shell.execute_reply": "2022-08-01T12:37:17.606390Z"
    },
    "papermill": {
     "duration": 0.051507,
     "end_time": "2022-08-01T12:37:17.607103",
     "exception": false,
     "start_time": "2022-08-01T12:37:17.555596",
     "status": "completed"
    },
    "tags": []
   },
   "outputs": [
    {
     "data": {
      "text/html": [
       "<div>\n",
       "<style scoped>\n",
       "    .dataframe tbody tr th:only-of-type {\n",
       "        vertical-align: middle;\n",
       "    }\n",
       "\n",
       "    .dataframe tbody tr th {\n",
       "        vertical-align: top;\n",
       "    }\n",
       "\n",
       "    .dataframe thead th {\n",
       "        text-align: right;\n",
       "    }\n",
       "</style>\n",
       "<table border=\"1\" class=\"dataframe\">\n",
       "  <thead>\n",
       "    <tr style=\"text-align: right;\">\n",
       "      <th></th>\n",
       "      <th>id</th>\n",
       "      <th>vendor</th>\n",
       "      <th>lat</th>\n",
       "      <th>lon</th>\n",
       "      <th>days_on_site</th>\n",
       "      <th>bathrooms</th>\n",
       "      <th>parking_lots</th>\n",
       "      <th>num_bedrooms</th>\n",
       "      <th>m2</th>\n",
       "      <th>final_price</th>\n",
       "      <th>...</th>\n",
       "      <th>vendor_mod_Buscatuhogarmexico</th>\n",
       "      <th>vendor_mod_Houm</th>\n",
       "      <th>vendor_mod_Metros Cuadrados Expertos</th>\n",
       "      <th>vendor_mod_Rent A House Cdmx</th>\n",
       "      <th>vendor_mod_otros</th>\n",
       "      <th>days_on_site_x2</th>\n",
       "      <th>bathrooms_x2</th>\n",
       "      <th>parking_lots_x2</th>\n",
       "      <th>num_bedrooms_x2</th>\n",
       "      <th>m2_x2</th>\n",
       "    </tr>\n",
       "  </thead>\n",
       "  <tbody>\n",
       "    <tr>\n",
       "      <th>0</th>\n",
       "      <td>1</td>\n",
       "      <td>Investemx</td>\n",
       "      <td>19.421317</td>\n",
       "      <td>-99.164182</td>\n",
       "      <td>5.0</td>\n",
       "      <td>2.0</td>\n",
       "      <td>2</td>\n",
       "      <td>2.0</td>\n",
       "      <td>127.0</td>\n",
       "      <td>9000000.0</td>\n",
       "      <td>...</td>\n",
       "      <td>0</td>\n",
       "      <td>0</td>\n",
       "      <td>0</td>\n",
       "      <td>0</td>\n",
       "      <td>1</td>\n",
       "      <td>25.0</td>\n",
       "      <td>4.0</td>\n",
       "      <td>4</td>\n",
       "      <td>4.0</td>\n",
       "      <td>16129.0</td>\n",
       "    </tr>\n",
       "    <tr>\n",
       "      <th>1</th>\n",
       "      <td>2</td>\n",
       "      <td>Avitana</td>\n",
       "      <td>19.421029</td>\n",
       "      <td>-99.163541</td>\n",
       "      <td>7.0</td>\n",
       "      <td>1.0</td>\n",
       "      <td>1</td>\n",
       "      <td>1.0</td>\n",
       "      <td>54.0</td>\n",
       "      <td>4264000.0</td>\n",
       "      <td>...</td>\n",
       "      <td>0</td>\n",
       "      <td>0</td>\n",
       "      <td>0</td>\n",
       "      <td>0</td>\n",
       "      <td>1</td>\n",
       "      <td>49.0</td>\n",
       "      <td>1.0</td>\n",
       "      <td>1</td>\n",
       "      <td>1.0</td>\n",
       "      <td>2916.0</td>\n",
       "    </tr>\n",
       "    <tr>\n",
       "      <th>2</th>\n",
       "      <td>3</td>\n",
       "      <td>Ebranuncios</td>\n",
       "      <td>19.407814</td>\n",
       "      <td>-99.161872</td>\n",
       "      <td>4.0</td>\n",
       "      <td>3.0</td>\n",
       "      <td>2</td>\n",
       "      <td>3.0</td>\n",
       "      <td>163.0</td>\n",
       "      <td>8093500.0</td>\n",
       "      <td>...</td>\n",
       "      <td>0</td>\n",
       "      <td>0</td>\n",
       "      <td>0</td>\n",
       "      <td>0</td>\n",
       "      <td>1</td>\n",
       "      <td>16.0</td>\n",
       "      <td>9.0</td>\n",
       "      <td>4</td>\n",
       "      <td>9.0</td>\n",
       "      <td>26569.0</td>\n",
       "    </tr>\n",
       "  </tbody>\n",
       "</table>\n",
       "<p>3 rows × 22 columns</p>\n",
       "</div>"
      ],
      "text/plain": [
       "   id       vendor        lat        lon  days_on_site  bathrooms  \\\n",
       "0   1    Investemx  19.421317 -99.164182           5.0        2.0   \n",
       "1   2      Avitana  19.421029 -99.163541           7.0        1.0   \n",
       "2   3  Ebranuncios  19.407814 -99.161872           4.0        3.0   \n",
       "\n",
       "   parking_lots  num_bedrooms     m2  final_price  ...  \\\n",
       "0             2           2.0  127.0    9000000.0  ...   \n",
       "1             1           1.0   54.0    4264000.0  ...   \n",
       "2             2           3.0  163.0    8093500.0  ...   \n",
       "\n",
       "   vendor_mod_Buscatuhogarmexico  vendor_mod_Houm  \\\n",
       "0                              0                0   \n",
       "1                              0                0   \n",
       "2                              0                0   \n",
       "\n",
       "   vendor_mod_Metros Cuadrados Expertos  vendor_mod_Rent A House Cdmx  \\\n",
       "0                                     0                             0   \n",
       "1                                     0                             0   \n",
       "2                                     0                             0   \n",
       "\n",
       "   vendor_mod_otros  days_on_site_x2  bathrooms_x2  parking_lots_x2  \\\n",
       "0                 1             25.0           4.0                4   \n",
       "1                 1             49.0           1.0                1   \n",
       "2                 1             16.0           9.0                4   \n",
       "\n",
       "   num_bedrooms_x2    m2_x2  \n",
       "0              4.0  16129.0  \n",
       "1              1.0   2916.0  \n",
       "2              9.0  26569.0  \n",
       "\n",
       "[3 rows x 22 columns]"
      ]
     },
     "execution_count": 11,
     "metadata": {},
     "output_type": "execute_result"
    }
   ],
   "source": [
    "df_sq.head(3)"
   ]
  },
  {
   "cell_type": "markdown",
   "id": "da4b14ca",
   "metadata": {
    "papermill": {
     "duration": 0.023977,
     "end_time": "2022-08-01T12:37:17.653608",
     "exception": false,
     "start_time": "2022-08-01T12:37:17.629631",
     "status": "completed"
    },
    "tags": []
   },
   "source": [
    "### Conjunto de datos escalado"
   ]
  },
  {
   "cell_type": "code",
   "execution_count": 12,
   "id": "8d03a1aa",
   "metadata": {
    "execution": {
     "iopub.execute_input": "2022-08-01T12:37:17.703838Z",
     "iopub.status.busy": "2022-08-01T12:37:17.703124Z",
     "iopub.status.idle": "2022-08-01T12:37:17.759525Z",
     "shell.execute_reply": "2022-08-01T12:37:17.758909Z"
    },
    "papermill": {
     "duration": 0.083636,
     "end_time": "2022-08-01T12:37:17.759674",
     "exception": false,
     "start_time": "2022-08-01T12:37:17.676038",
     "status": "completed"
    },
    "tags": []
   },
   "outputs": [],
   "source": [
    "df_sc = df_sq.copy()\n",
    "\n",
    "lista_escala = [\n",
    "    'days_on_site',\n",
    "    'bathrooms',\n",
    "    'parking_lots',\n",
    "    'num_bedrooms',\n",
    "    'm2',\n",
    "    'days_on_site_x2',\n",
    "    'bathrooms_x2',\n",
    "    'parking_lots_x2',\n",
    "    'num_bedrooms_x2',\n",
    "    'm2_x2']\n",
    "\n",
    "for col in lista_escala:\n",
    "    scaler = MinMaxScaler()\n",
    "    df_sc[f'{col}_sc'] = scaler.fit_transform(df_sc[[col]])"
   ]
  },
  {
   "cell_type": "code",
   "execution_count": 13,
   "id": "d90b12dd",
   "metadata": {
    "execution": {
     "iopub.execute_input": "2022-08-01T12:37:17.808041Z",
     "iopub.status.busy": "2022-08-01T12:37:17.806678Z",
     "iopub.status.idle": "2022-08-01T12:37:17.829018Z",
     "shell.execute_reply": "2022-08-01T12:37:17.829485Z"
    },
    "papermill": {
     "duration": 0.048391,
     "end_time": "2022-08-01T12:37:17.829641",
     "exception": false,
     "start_time": "2022-08-01T12:37:17.781250",
     "status": "completed"
    },
    "tags": []
   },
   "outputs": [
    {
     "data": {
      "text/html": [
       "<div>\n",
       "<style scoped>\n",
       "    .dataframe tbody tr th:only-of-type {\n",
       "        vertical-align: middle;\n",
       "    }\n",
       "\n",
       "    .dataframe tbody tr th {\n",
       "        vertical-align: top;\n",
       "    }\n",
       "\n",
       "    .dataframe thead th {\n",
       "        text-align: right;\n",
       "    }\n",
       "</style>\n",
       "<table border=\"1\" class=\"dataframe\">\n",
       "  <thead>\n",
       "    <tr style=\"text-align: right;\">\n",
       "      <th></th>\n",
       "      <th>id</th>\n",
       "      <th>vendor</th>\n",
       "      <th>lat</th>\n",
       "      <th>lon</th>\n",
       "      <th>days_on_site</th>\n",
       "      <th>bathrooms</th>\n",
       "      <th>parking_lots</th>\n",
       "      <th>num_bedrooms</th>\n",
       "      <th>m2</th>\n",
       "      <th>final_price</th>\n",
       "      <th>...</th>\n",
       "      <th>days_on_site_sc</th>\n",
       "      <th>bathrooms_sc</th>\n",
       "      <th>parking_lots_sc</th>\n",
       "      <th>num_bedrooms_sc</th>\n",
       "      <th>m2_sc</th>\n",
       "      <th>days_on_site_x2_sc</th>\n",
       "      <th>bathrooms_x2_sc</th>\n",
       "      <th>parking_lots_x2_sc</th>\n",
       "      <th>num_bedrooms_x2_sc</th>\n",
       "      <th>m2_x2_sc</th>\n",
       "    </tr>\n",
       "  </thead>\n",
       "  <tbody>\n",
       "    <tr>\n",
       "      <th>0</th>\n",
       "      <td>1</td>\n",
       "      <td>Investemx</td>\n",
       "      <td>19.421317</td>\n",
       "      <td>-99.164182</td>\n",
       "      <td>5.0</td>\n",
       "      <td>2.0</td>\n",
       "      <td>2</td>\n",
       "      <td>2.0</td>\n",
       "      <td>127.0</td>\n",
       "      <td>9000000.0</td>\n",
       "      <td>...</td>\n",
       "      <td>0.005487</td>\n",
       "      <td>0.045455</td>\n",
       "      <td>0.5</td>\n",
       "      <td>0.333333</td>\n",
       "      <td>0.366412</td>\n",
       "      <td>0.000045</td>\n",
       "      <td>0.005682</td>\n",
       "      <td>0.375</td>\n",
       "      <td>0.200000</td>\n",
       "      <td>0.178682</td>\n",
       "    </tr>\n",
       "    <tr>\n",
       "      <th>1</th>\n",
       "      <td>2</td>\n",
       "      <td>Avitana</td>\n",
       "      <td>19.421029</td>\n",
       "      <td>-99.163541</td>\n",
       "      <td>7.0</td>\n",
       "      <td>1.0</td>\n",
       "      <td>1</td>\n",
       "      <td>1.0</td>\n",
       "      <td>54.0</td>\n",
       "      <td>4264000.0</td>\n",
       "      <td>...</td>\n",
       "      <td>0.008230</td>\n",
       "      <td>0.000000</td>\n",
       "      <td>0.0</td>\n",
       "      <td>0.000000</td>\n",
       "      <td>0.087786</td>\n",
       "      <td>0.000090</td>\n",
       "      <td>0.000000</td>\n",
       "      <td>0.000</td>\n",
       "      <td>0.000000</td>\n",
       "      <td>0.023030</td>\n",
       "    </tr>\n",
       "    <tr>\n",
       "      <th>2</th>\n",
       "      <td>3</td>\n",
       "      <td>Ebranuncios</td>\n",
       "      <td>19.407814</td>\n",
       "      <td>-99.161872</td>\n",
       "      <td>4.0</td>\n",
       "      <td>3.0</td>\n",
       "      <td>2</td>\n",
       "      <td>3.0</td>\n",
       "      <td>163.0</td>\n",
       "      <td>8093500.0</td>\n",
       "      <td>...</td>\n",
       "      <td>0.004115</td>\n",
       "      <td>0.090909</td>\n",
       "      <td>0.5</td>\n",
       "      <td>0.666667</td>\n",
       "      <td>0.503817</td>\n",
       "      <td>0.000028</td>\n",
       "      <td>0.015152</td>\n",
       "      <td>0.375</td>\n",
       "      <td>0.533333</td>\n",
       "      <td>0.301668</td>\n",
       "    </tr>\n",
       "  </tbody>\n",
       "</table>\n",
       "<p>3 rows × 32 columns</p>\n",
       "</div>"
      ],
      "text/plain": [
       "   id       vendor        lat        lon  days_on_site  bathrooms  \\\n",
       "0   1    Investemx  19.421317 -99.164182           5.0        2.0   \n",
       "1   2      Avitana  19.421029 -99.163541           7.0        1.0   \n",
       "2   3  Ebranuncios  19.407814 -99.161872           4.0        3.0   \n",
       "\n",
       "   parking_lots  num_bedrooms     m2  final_price  ...  days_on_site_sc  \\\n",
       "0             2           2.0  127.0    9000000.0  ...         0.005487   \n",
       "1             1           1.0   54.0    4264000.0  ...         0.008230   \n",
       "2             2           3.0  163.0    8093500.0  ...         0.004115   \n",
       "\n",
       "   bathrooms_sc  parking_lots_sc  num_bedrooms_sc     m2_sc  \\\n",
       "0      0.045455              0.5         0.333333  0.366412   \n",
       "1      0.000000              0.0         0.000000  0.087786   \n",
       "2      0.090909              0.5         0.666667  0.503817   \n",
       "\n",
       "   days_on_site_x2_sc  bathrooms_x2_sc  parking_lots_x2_sc  \\\n",
       "0            0.000045         0.005682               0.375   \n",
       "1            0.000090         0.000000               0.000   \n",
       "2            0.000028         0.015152               0.375   \n",
       "\n",
       "   num_bedrooms_x2_sc  m2_x2_sc  \n",
       "0            0.200000  0.178682  \n",
       "1            0.000000  0.023030  \n",
       "2            0.533333  0.301668  \n",
       "\n",
       "[3 rows x 32 columns]"
      ]
     },
     "execution_count": 13,
     "metadata": {},
     "output_type": "execute_result"
    }
   ],
   "source": [
    "df_sc.head(3)"
   ]
  },
  {
   "cell_type": "markdown",
   "id": "3acda2e2",
   "metadata": {
    "papermill": {
     "duration": 0.022927,
     "end_time": "2022-08-01T12:37:17.876116",
     "exception": false,
     "start_time": "2022-08-01T12:37:17.853189",
     "status": "completed"
    },
    "tags": []
   },
   "source": [
    "### Datos entrenamiento y evaluación"
   ]
  },
  {
   "cell_type": "code",
   "execution_count": 14,
   "id": "37d716b3",
   "metadata": {
    "execution": {
     "iopub.execute_input": "2022-08-01T12:37:17.926338Z",
     "iopub.status.busy": "2022-08-01T12:37:17.925145Z",
     "iopub.status.idle": "2022-08-01T12:37:17.928242Z",
     "shell.execute_reply": "2022-08-01T12:37:17.928742Z"
    },
    "papermill": {
     "duration": 0.030665,
     "end_time": "2022-08-01T12:37:17.928904",
     "exception": false,
     "start_time": "2022-08-01T12:37:17.898239",
     "status": "completed"
    },
    "tags": []
   },
   "outputs": [],
   "source": [
    "X = df_sc[[\n",
    "    'vendor_mod_Bienesraiceslomelin',\n",
    "    'vendor_mod_Buscatuhogarmexico',\n",
    "    'vendor_mod_Houm',\n",
    "    'vendor_mod_Metros Cuadrados Expertos',\n",
    "    'vendor_mod_Rent A House Cdmx',\n",
    "    'vendor_mod_otros',\n",
    "    'days_on_site_sc',\n",
    "    'bathrooms_sc',\n",
    "    'parking_lots_sc',\n",
    "    'num_bedrooms_sc',\n",
    "    'm2_sc',\n",
    "    'days_on_site_x2_sc',\n",
    "    'bathrooms_x2_sc',\n",
    "    'parking_lots_x2_sc',\n",
    "    'num_bedrooms_x2_sc',\n",
    "    'm2_x2_sc']]\n",
    "\n",
    "y = df_sc['price_square_meter']"
   ]
  },
  {
   "cell_type": "code",
   "execution_count": 15,
   "id": "34d347d2",
   "metadata": {
    "execution": {
     "iopub.execute_input": "2022-08-01T12:37:17.978732Z",
     "iopub.status.busy": "2022-08-01T12:37:17.977792Z",
     "iopub.status.idle": "2022-08-01T12:37:17.981129Z",
     "shell.execute_reply": "2022-08-01T12:37:17.981678Z"
    },
    "papermill": {
     "duration": 0.030464,
     "end_time": "2022-08-01T12:37:17.981850",
     "exception": false,
     "start_time": "2022-08-01T12:37:17.951386",
     "status": "completed"
    },
    "tags": []
   },
   "outputs": [],
   "source": [
    "X_train, X_test, y_train, y_test = train_test_split(X, y, test_size=0.3, random_state=75)"
   ]
  },
  {
   "cell_type": "markdown",
   "id": "144d8bea",
   "metadata": {
    "papermill": {
     "duration": 0.02273,
     "end_time": "2022-08-01T12:37:18.028406",
     "exception": false,
     "start_time": "2022-08-01T12:37:18.005676",
     "status": "completed"
    },
    "tags": []
   },
   "source": [
    "### Modelo base (regresión lineal)"
   ]
  },
  {
   "cell_type": "code",
   "execution_count": 16,
   "id": "9995ccb4",
   "metadata": {
    "execution": {
     "iopub.execute_input": "2022-08-01T12:37:18.081303Z",
     "iopub.status.busy": "2022-08-01T12:37:18.080465Z",
     "iopub.status.idle": "2022-08-01T12:37:18.088365Z",
     "shell.execute_reply": "2022-08-01T12:37:18.089345Z"
    },
    "papermill": {
     "duration": 0.037764,
     "end_time": "2022-08-01T12:37:18.089626",
     "exception": false,
     "start_time": "2022-08-01T12:37:18.051862",
     "status": "completed"
    },
    "tags": []
   },
   "outputs": [
    {
     "data": {
      "text/plain": [
       "LinearRegression()"
      ]
     },
     "execution_count": 16,
     "metadata": {},
     "output_type": "execute_result"
    }
   ],
   "source": [
    "model = LinearRegression()\n",
    "model.fit(X_train, y_train)"
   ]
  },
  {
   "cell_type": "markdown",
   "id": "5581f2b5",
   "metadata": {
    "papermill": {
     "duration": 0.053323,
     "end_time": "2022-08-01T12:37:18.197084",
     "exception": false,
     "start_time": "2022-08-01T12:37:18.143761",
     "status": "completed"
    },
    "tags": []
   },
   "source": [
    "### Entrenamiento"
   ]
  },
  {
   "cell_type": "code",
   "execution_count": 17,
   "id": "84ef50d8",
   "metadata": {
    "execution": {
     "iopub.execute_input": "2022-08-01T12:37:18.251082Z",
     "iopub.status.busy": "2022-08-01T12:37:18.249853Z",
     "iopub.status.idle": "2022-08-01T12:37:18.253294Z",
     "shell.execute_reply": "2022-08-01T12:37:18.254270Z"
    },
    "papermill": {
     "duration": 0.033935,
     "end_time": "2022-08-01T12:37:18.254595",
     "exception": false,
     "start_time": "2022-08-01T12:37:18.220660",
     "status": "completed"
    },
    "tags": []
   },
   "outputs": [],
   "source": [
    "y_pred = model.predict(X_train)"
   ]
  },
  {
   "cell_type": "code",
   "execution_count": 18,
   "id": "562402a2",
   "metadata": {
    "execution": {
     "iopub.execute_input": "2022-08-01T12:37:18.373120Z",
     "iopub.status.busy": "2022-08-01T12:37:18.371794Z",
     "iopub.status.idle": "2022-08-01T12:37:18.377149Z",
     "shell.execute_reply": "2022-08-01T12:37:18.377622Z"
    },
    "papermill": {
     "duration": 0.065062,
     "end_time": "2022-08-01T12:37:18.377782",
     "exception": false,
     "start_time": "2022-08-01T12:37:18.312720",
     "status": "completed"
    },
    "tags": []
   },
   "outputs": [
    {
     "data": {
      "text/plain": [
       "0.30059007840683327"
      ]
     },
     "execution_count": 18,
     "metadata": {},
     "output_type": "execute_result"
    }
   ],
   "source": [
    "r2_score(y_train, y_pred)"
   ]
  },
  {
   "cell_type": "code",
   "execution_count": 19,
   "id": "f6b63024",
   "metadata": {
    "execution": {
     "iopub.execute_input": "2022-08-01T12:37:18.429406Z",
     "iopub.status.busy": "2022-08-01T12:37:18.428799Z",
     "iopub.status.idle": "2022-08-01T12:37:18.431171Z",
     "shell.execute_reply": "2022-08-01T12:37:18.431632Z"
    },
    "papermill": {
     "duration": 0.030199,
     "end_time": "2022-08-01T12:37:18.431789",
     "exception": false,
     "start_time": "2022-08-01T12:37:18.401590",
     "status": "completed"
    },
    "tags": []
   },
   "outputs": [
    {
     "name": "stdout",
     "output_type": "stream",
     "text": [
      "253,987,040.17\n"
     ]
    }
   ],
   "source": [
    "print(\"{:,.2f}\".format(mean_squared_error(y_train, y_pred)))"
   ]
  },
  {
   "cell_type": "markdown",
   "id": "1653ddbf",
   "metadata": {
    "papermill": {
     "duration": 0.024575,
     "end_time": "2022-08-01T12:37:18.481506",
     "exception": false,
     "start_time": "2022-08-01T12:37:18.456931",
     "status": "completed"
    },
    "tags": []
   },
   "source": [
    "### Evaluación"
   ]
  },
  {
   "cell_type": "code",
   "execution_count": 20,
   "id": "3169e42e",
   "metadata": {
    "execution": {
     "iopub.execute_input": "2022-08-01T12:37:18.534525Z",
     "iopub.status.busy": "2022-08-01T12:37:18.533929Z",
     "iopub.status.idle": "2022-08-01T12:37:18.536175Z",
     "shell.execute_reply": "2022-08-01T12:37:18.536654Z"
    },
    "papermill": {
     "duration": 0.031238,
     "end_time": "2022-08-01T12:37:18.536813",
     "exception": false,
     "start_time": "2022-08-01T12:37:18.505575",
     "status": "completed"
    },
    "tags": []
   },
   "outputs": [],
   "source": [
    "y_pred = model.predict(X_test)"
   ]
  },
  {
   "cell_type": "code",
   "execution_count": 21,
   "id": "efbe321f",
   "metadata": {
    "execution": {
     "iopub.execute_input": "2022-08-01T12:37:18.592300Z",
     "iopub.status.busy": "2022-08-01T12:37:18.591584Z",
     "iopub.status.idle": "2022-08-01T12:37:18.595109Z",
     "shell.execute_reply": "2022-08-01T12:37:18.594589Z"
    },
    "papermill": {
     "duration": 0.033859,
     "end_time": "2022-08-01T12:37:18.595252",
     "exception": false,
     "start_time": "2022-08-01T12:37:18.561393",
     "status": "completed"
    },
    "tags": []
   },
   "outputs": [
    {
     "data": {
      "text/plain": [
       "0.2585038185149111"
      ]
     },
     "execution_count": 21,
     "metadata": {},
     "output_type": "execute_result"
    }
   ],
   "source": [
    "r2_score(y_test, y_pred)"
   ]
  },
  {
   "cell_type": "code",
   "execution_count": 22,
   "id": "d29b1c62",
   "metadata": {
    "execution": {
     "iopub.execute_input": "2022-08-01T12:37:18.649608Z",
     "iopub.status.busy": "2022-08-01T12:37:18.648935Z",
     "iopub.status.idle": "2022-08-01T12:37:18.651509Z",
     "shell.execute_reply": "2022-08-01T12:37:18.651985Z"
    },
    "papermill": {
     "duration": 0.032639,
     "end_time": "2022-08-01T12:37:18.652148",
     "exception": false,
     "start_time": "2022-08-01T12:37:18.619509",
     "status": "completed"
    },
    "tags": []
   },
   "outputs": [
    {
     "name": "stdout",
     "output_type": "stream",
     "text": [
      "261,235,353.67\n"
     ]
    }
   ],
   "source": [
    "print(\"{:,.2f}\".format(mean_squared_error(y_test, y_pred)))"
   ]
  }
 ],
 "metadata": {
  "kernelspec": {
   "display_name": "Python 3",
   "language": "python",
   "name": "python3"
  },
  "language_info": {
   "codemirror_mode": {
    "name": "ipython",
    "version": 3
   },
   "file_extension": ".py",
   "mimetype": "text/x-python",
   "name": "python",
   "nbconvert_exporter": "python",
   "pygments_lexer": "ipython3",
   "version": "3.6.10"
  },
  "papermill": {
   "default_parameters": {},
   "duration": 4.212912,
   "end_time": "2022-08-01T12:37:19.103778",
   "environment_variables": {},
   "exception": null,
   "input_path": "04_modelo_regresion_escala.ipynb",
   "output_path": "04_modelo_regresion_escala.ipynb",
   "parameters": {},
   "start_time": "2022-08-01T12:37:14.890866",
   "version": "2.3.4"
  }
 },
 "nbformat": 4,
 "nbformat_minor": 5
}