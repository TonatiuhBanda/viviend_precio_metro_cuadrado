{
 "cells": [
  {
   "cell_type": "code",
   "execution_count": 1,
   "id": "7c358835",
   "metadata": {
    "execution": {
     "iopub.execute_input": "2022-08-01T12:37:20.239318Z",
     "iopub.status.busy": "2022-08-01T12:37:20.238683Z",
     "iopub.status.idle": "2022-08-01T12:37:21.238479Z",
     "shell.execute_reply": "2022-08-01T12:37:21.237752Z"
    },
    "papermill": {
     "duration": 1.022661,
     "end_time": "2022-08-01T12:37:21.238661",
     "exception": false,
     "start_time": "2022-08-01T12:37:20.216000",
     "status": "completed"
    },
    "tags": []
   },
   "outputs": [],
   "source": [
    "import pandas as pd\n",
    "import numpy as np\n",
    "\n",
    "from sklearn.model_selection import train_test_split\n",
    "from sklearn.linear_model import LinearRegression\n",
    "\n",
    "from sklearn.metrics import mean_squared_error\n",
    "from sklearn.metrics import r2_score"
   ]
  },
  {
   "cell_type": "markdown",
   "id": "05946b4d",
   "metadata": {
    "papermill": {
     "duration": 0.010721,
     "end_time": "2022-08-01T12:37:21.261704",
     "exception": false,
     "start_time": "2022-08-01T12:37:21.250983",
     "status": "completed"
    },
    "tags": []
   },
   "source": [
    "### Archivo CSV"
   ]
  },
  {
   "cell_type": "code",
   "execution_count": 2,
   "id": "9a3c9426",
   "metadata": {
    "execution": {
     "iopub.execute_input": "2022-08-01T12:37:21.289452Z",
     "iopub.status.busy": "2022-08-01T12:37:21.288830Z",
     "iopub.status.idle": "2022-08-01T12:37:21.333141Z",
     "shell.execute_reply": "2022-08-01T12:37:21.333638Z"
    },
    "papermill": {
     "duration": 0.05923,
     "end_time": "2022-08-01T12:37:21.333796",
     "exception": false,
     "start_time": "2022-08-01T12:37:21.274566",
     "status": "completed"
    },
    "tags": []
   },
   "outputs": [
    {
     "data": {
      "text/html": [
       "<div>\n",
       "<style scoped>\n",
       "    .dataframe tbody tr th:only-of-type {\n",
       "        vertical-align: middle;\n",
       "    }\n",
       "\n",
       "    .dataframe tbody tr th {\n",
       "        vertical-align: top;\n",
       "    }\n",
       "\n",
       "    .dataframe thead th {\n",
       "        text-align: right;\n",
       "    }\n",
       "</style>\n",
       "<table border=\"1\" class=\"dataframe\">\n",
       "  <thead>\n",
       "    <tr style=\"text-align: right;\">\n",
       "      <th></th>\n",
       "      <th>id</th>\n",
       "      <th>vendor</th>\n",
       "      <th>lat</th>\n",
       "      <th>lon</th>\n",
       "      <th>days_on_site</th>\n",
       "      <th>bathrooms</th>\n",
       "      <th>parking_lots</th>\n",
       "      <th>num_bedrooms</th>\n",
       "      <th>m2</th>\n",
       "      <th>final_price</th>\n",
       "      <th>...</th>\n",
       "      <th>days_on_site_x2_sc</th>\n",
       "      <th>bathrooms_x2_sc</th>\n",
       "      <th>parking_lots_x2_sc</th>\n",
       "      <th>num_bedrooms_x2_sc</th>\n",
       "      <th>m2_x2_sc</th>\n",
       "      <th>ciudad</th>\n",
       "      <th>codigo_postal</th>\n",
       "      <th>codigo_postal_mod_06700</th>\n",
       "      <th>codigo_postal_mod_06760</th>\n",
       "      <th>codigo_postal_mod_otro_cp</th>\n",
       "    </tr>\n",
       "  </thead>\n",
       "  <tbody>\n",
       "    <tr>\n",
       "      <th>0</th>\n",
       "      <td>1</td>\n",
       "      <td>Investemx</td>\n",
       "      <td>19.421317</td>\n",
       "      <td>-99.164182</td>\n",
       "      <td>5.0</td>\n",
       "      <td>2.0</td>\n",
       "      <td>2</td>\n",
       "      <td>2.0</td>\n",
       "      <td>127.0</td>\n",
       "      <td>9000000.0</td>\n",
       "      <td>...</td>\n",
       "      <td>0.000045</td>\n",
       "      <td>0.005682</td>\n",
       "      <td>0.375</td>\n",
       "      <td>0.2</td>\n",
       "      <td>0.178682</td>\n",
       "      <td>Ciudad de México</td>\n",
       "      <td>6700.0</td>\n",
       "      <td>1</td>\n",
       "      <td>0</td>\n",
       "      <td>0</td>\n",
       "    </tr>\n",
       "    <tr>\n",
       "      <th>1</th>\n",
       "      <td>2</td>\n",
       "      <td>Avitana</td>\n",
       "      <td>19.421029</td>\n",
       "      <td>-99.163541</td>\n",
       "      <td>7.0</td>\n",
       "      <td>1.0</td>\n",
       "      <td>1</td>\n",
       "      <td>1.0</td>\n",
       "      <td>54.0</td>\n",
       "      <td>4264000.0</td>\n",
       "      <td>...</td>\n",
       "      <td>0.000090</td>\n",
       "      <td>0.000000</td>\n",
       "      <td>0.000</td>\n",
       "      <td>0.0</td>\n",
       "      <td>0.023030</td>\n",
       "      <td>Ciudad de México</td>\n",
       "      <td>6700.0</td>\n",
       "      <td>1</td>\n",
       "      <td>0</td>\n",
       "      <td>0</td>\n",
       "    </tr>\n",
       "  </tbody>\n",
       "</table>\n",
       "<p>2 rows × 37 columns</p>\n",
       "</div>"
      ],
      "text/plain": [
       "   id     vendor        lat        lon  days_on_site  bathrooms  parking_lots  \\\n",
       "0   1  Investemx  19.421317 -99.164182           5.0        2.0             2   \n",
       "1   2    Avitana  19.421029 -99.163541           7.0        1.0             1   \n",
       "\n",
       "   num_bedrooms     m2  final_price  ...  days_on_site_x2_sc  bathrooms_x2_sc  \\\n",
       "0           2.0  127.0    9000000.0  ...            0.000045         0.005682   \n",
       "1           1.0   54.0    4264000.0  ...            0.000090         0.000000   \n",
       "\n",
       "   parking_lots_x2_sc  num_bedrooms_x2_sc  m2_x2_sc            ciudad  \\\n",
       "0               0.375                 0.2  0.178682  Ciudad de México   \n",
       "1               0.000                 0.0  0.023030  Ciudad de México   \n",
       "\n",
       "   codigo_postal  codigo_postal_mod_06700  codigo_postal_mod_06760  \\\n",
       "0         6700.0                        1                        0   \n",
       "1         6700.0                        1                        0   \n",
       "\n",
       "   codigo_postal_mod_otro_cp  \n",
       "0                          0  \n",
       "1                          0  \n",
       "\n",
       "[2 rows x 37 columns]"
      ]
     },
     "execution_count": 2,
     "metadata": {},
     "output_type": "execute_result"
    }
   ],
   "source": [
    "dir_procesado = 'data/procesado/'\n",
    "archivo = 'datos_latitud_longitud.csv'\n",
    "df = pd.read_csv(f'{dir_procesado}{archivo}')\n",
    "\n",
    "df.head(2)"
   ]
  },
  {
   "cell_type": "code",
   "execution_count": 3,
   "id": "3ce53b11",
   "metadata": {
    "execution": {
     "iopub.execute_input": "2022-08-01T12:37:21.360887Z",
     "iopub.status.busy": "2022-08-01T12:37:21.360147Z",
     "iopub.status.idle": "2022-08-01T12:37:21.372657Z",
     "shell.execute_reply": "2022-08-01T12:37:21.373142Z"
    },
    "papermill": {
     "duration": 0.028641,
     "end_time": "2022-08-01T12:37:21.373304",
     "exception": false,
     "start_time": "2022-08-01T12:37:21.344663",
     "status": "completed"
    },
    "tags": []
   },
   "outputs": [
    {
     "name": "stdout",
     "output_type": "stream",
     "text": [
      "<class 'pandas.core.frame.DataFrame'>\n",
      "RangeIndex: 978 entries, 0 to 977\n",
      "Data columns (total 37 columns):\n",
      " #   Column                                Non-Null Count  Dtype  \n",
      "---  ------                                --------------  -----  \n",
      " 0   id                                    978 non-null    int64  \n",
      " 1   vendor                                978 non-null    object \n",
      " 2   lat                                   978 non-null    float64\n",
      " 3   lon                                   978 non-null    float64\n",
      " 4   days_on_site                          978 non-null    float64\n",
      " 5   bathrooms                             978 non-null    float64\n",
      " 6   parking_lots                          978 non-null    int64  \n",
      " 7   num_bedrooms                          978 non-null    float64\n",
      " 8   m2                                    978 non-null    float64\n",
      " 9   final_price                           978 non-null    float64\n",
      " 10  price_square_meter                    978 non-null    float64\n",
      " 11  vendor_mod_Bienesraiceslomelin        978 non-null    int64  \n",
      " 12  vendor_mod_Buscatuhogarmexico         978 non-null    int64  \n",
      " 13  vendor_mod_Houm                       978 non-null    int64  \n",
      " 14  vendor_mod_Metros Cuadrados Expertos  978 non-null    int64  \n",
      " 15  vendor_mod_Rent A House Cdmx          978 non-null    int64  \n",
      " 16  vendor_mod_otros                      978 non-null    int64  \n",
      " 17  days_on_site_x2                       978 non-null    float64\n",
      " 18  bathrooms_x2                          978 non-null    float64\n",
      " 19  parking_lots_x2                       978 non-null    int64  \n",
      " 20  num_bedrooms_x2                       978 non-null    float64\n",
      " 21  m2_x2                                 978 non-null    float64\n",
      " 22  days_on_site_sc                       978 non-null    float64\n",
      " 23  bathrooms_sc                          978 non-null    float64\n",
      " 24  parking_lots_sc                       978 non-null    float64\n",
      " 25  num_bedrooms_sc                       978 non-null    float64\n",
      " 26  m2_sc                                 978 non-null    float64\n",
      " 27  days_on_site_x2_sc                    978 non-null    float64\n",
      " 28  bathrooms_x2_sc                       978 non-null    float64\n",
      " 29  parking_lots_x2_sc                    978 non-null    float64\n",
      " 30  num_bedrooms_x2_sc                    978 non-null    float64\n",
      " 31  m2_x2_sc                              978 non-null    float64\n",
      " 32  ciudad                                978 non-null    object \n",
      " 33  codigo_postal                         959 non-null    float64\n",
      " 34  codigo_postal_mod_06700               978 non-null    int64  \n",
      " 35  codigo_postal_mod_06760               978 non-null    int64  \n",
      " 36  codigo_postal_mod_otro_cp             978 non-null    int64  \n",
      "dtypes: float64(23), int64(12), object(2)\n",
      "memory usage: 282.8+ KB\n"
     ]
    }
   ],
   "source": [
    "df.info()"
   ]
  },
  {
   "cell_type": "markdown",
   "id": "dbd05434",
   "metadata": {
    "papermill": {
     "duration": 0.011278,
     "end_time": "2022-08-01T12:37:21.397047",
     "exception": false,
     "start_time": "2022-08-01T12:37:21.385769",
     "status": "completed"
    },
    "tags": []
   },
   "source": [
    "### Datos entrenamiento y evaluación"
   ]
  },
  {
   "cell_type": "code",
   "execution_count": 4,
   "id": "4912bc9c",
   "metadata": {
    "execution": {
     "iopub.execute_input": "2022-08-01T12:37:21.428002Z",
     "iopub.status.busy": "2022-08-01T12:37:21.427381Z",
     "iopub.status.idle": "2022-08-01T12:37:21.429423Z",
     "shell.execute_reply": "2022-08-01T12:37:21.429863Z"
    },
    "papermill": {
     "duration": 0.020079,
     "end_time": "2022-08-01T12:37:21.430024",
     "exception": false,
     "start_time": "2022-08-01T12:37:21.409945",
     "status": "completed"
    },
    "tags": []
   },
   "outputs": [],
   "source": [
    "X = df[[\n",
    "    'vendor_mod_Bienesraiceslomelin',\n",
    "    'vendor_mod_Buscatuhogarmexico',\n",
    "    'vendor_mod_Houm',\n",
    "    'vendor_mod_Metros Cuadrados Expertos',\n",
    "    'vendor_mod_Rent A House Cdmx',\n",
    "    'vendor_mod_otros',\n",
    "    'days_on_site_sc',\n",
    "    'bathrooms_sc',\n",
    "    'parking_lots_sc',\n",
    "    'num_bedrooms_sc',\n",
    "    'm2_sc',\n",
    "    'days_on_site_x2_sc',\n",
    "    'bathrooms_x2_sc',\n",
    "    'parking_lots_x2_sc',\n",
    "    'num_bedrooms_x2_sc',\n",
    "    'm2_x2_sc',\n",
    "    'codigo_postal_mod_06700',\n",
    "    'codigo_postal_mod_06760',\n",
    "    'codigo_postal_mod_otro_cp'\n",
    "]]\n",
    "\n",
    "y = df['price_square_meter']"
   ]
  },
  {
   "cell_type": "code",
   "execution_count": 5,
   "id": "3669360f",
   "metadata": {
    "execution": {
     "iopub.execute_input": "2022-08-01T12:37:21.459089Z",
     "iopub.status.busy": "2022-08-01T12:37:21.458210Z",
     "iopub.status.idle": "2022-08-01T12:37:21.461677Z",
     "shell.execute_reply": "2022-08-01T12:37:21.462150Z"
    },
    "papermill": {
     "duration": 0.020874,
     "end_time": "2022-08-01T12:37:21.462312",
     "exception": false,
     "start_time": "2022-08-01T12:37:21.441438",
     "status": "completed"
    },
    "tags": []
   },
   "outputs": [],
   "source": [
    "X_train, X_test, y_train, y_test = train_test_split(X, y, test_size=0.3, random_state=75)"
   ]
  },
  {
   "cell_type": "markdown",
   "id": "b3a27b0a",
   "metadata": {
    "papermill": {
     "duration": 0.01248,
     "end_time": "2022-08-01T12:37:21.485921",
     "exception": false,
     "start_time": "2022-08-01T12:37:21.473441",
     "status": "completed"
    },
    "tags": []
   },
   "source": [
    "### Modelo base (regresión lineal)"
   ]
  },
  {
   "cell_type": "code",
   "execution_count": 6,
   "id": "15d436b3",
   "metadata": {
    "execution": {
     "iopub.execute_input": "2022-08-01T12:37:21.514777Z",
     "iopub.status.busy": "2022-08-01T12:37:21.513489Z",
     "iopub.status.idle": "2022-08-01T12:37:21.527931Z",
     "shell.execute_reply": "2022-08-01T12:37:21.528813Z"
    },
    "papermill": {
     "duration": 0.030029,
     "end_time": "2022-08-01T12:37:21.529113",
     "exception": false,
     "start_time": "2022-08-01T12:37:21.499084",
     "status": "completed"
    },
    "tags": []
   },
   "outputs": [
    {
     "data": {
      "text/plain": [
       "LinearRegression()"
      ]
     },
     "execution_count": 6,
     "metadata": {},
     "output_type": "execute_result"
    }
   ],
   "source": [
    "model = LinearRegression()\n",
    "model.fit(X_train, y_train)"
   ]
  },
  {
   "cell_type": "markdown",
   "id": "93f5d0cb",
   "metadata": {
    "papermill": {
     "duration": 0.027123,
     "end_time": "2022-08-01T12:37:21.583097",
     "exception": false,
     "start_time": "2022-08-01T12:37:21.555974",
     "status": "completed"
    },
    "tags": []
   },
   "source": [
    "### Entrenamiento"
   ]
  },
  {
   "cell_type": "code",
   "execution_count": 7,
   "id": "1cb197bd",
   "metadata": {
    "execution": {
     "iopub.execute_input": "2022-08-01T12:37:21.642123Z",
     "iopub.status.busy": "2022-08-01T12:37:21.641479Z",
     "iopub.status.idle": "2022-08-01T12:37:21.646975Z",
     "shell.execute_reply": "2022-08-01T12:37:21.647906Z"
    },
    "papermill": {
     "duration": 0.038035,
     "end_time": "2022-08-01T12:37:21.648217",
     "exception": false,
     "start_time": "2022-08-01T12:37:21.610182",
     "status": "completed"
    },
    "tags": []
   },
   "outputs": [],
   "source": [
    "y_pred = model.predict(X_train)"
   ]
  },
  {
   "cell_type": "code",
   "execution_count": 8,
   "id": "eaee5802",
   "metadata": {
    "execution": {
     "iopub.execute_input": "2022-08-01T12:37:21.721407Z",
     "iopub.status.busy": "2022-08-01T12:37:21.719041Z",
     "iopub.status.idle": "2022-08-01T12:37:21.725234Z",
     "shell.execute_reply": "2022-08-01T12:37:21.722585Z"
    },
    "papermill": {
     "duration": 0.043366,
     "end_time": "2022-08-01T12:37:21.725486",
     "exception": false,
     "start_time": "2022-08-01T12:37:21.682120",
     "status": "completed"
    },
    "tags": []
   },
   "outputs": [
    {
     "data": {
      "text/plain": [
       "0.3060075214548732"
      ]
     },
     "execution_count": 8,
     "metadata": {},
     "output_type": "execute_result"
    }
   ],
   "source": [
    "r2_score(y_train, y_pred)"
   ]
  },
  {
   "cell_type": "code",
   "execution_count": 9,
   "id": "e9eff2df",
   "metadata": {
    "execution": {
     "iopub.execute_input": "2022-08-01T12:37:21.775762Z",
     "iopub.status.busy": "2022-08-01T12:37:21.774945Z",
     "iopub.status.idle": "2022-08-01T12:37:21.777540Z",
     "shell.execute_reply": "2022-08-01T12:37:21.778018Z"
    },
    "papermill": {
     "duration": 0.024673,
     "end_time": "2022-08-01T12:37:21.778180",
     "exception": false,
     "start_time": "2022-08-01T12:37:21.753507",
     "status": "completed"
    },
    "tags": []
   },
   "outputs": [
    {
     "name": "stdout",
     "output_type": "stream",
     "text": [
      "252,019,724.18\n"
     ]
    }
   ],
   "source": [
    "print(\"{:,.2f}\".format(mean_squared_error(y_train, y_pred)))"
   ]
  },
  {
   "cell_type": "markdown",
   "id": "e515e660",
   "metadata": {
    "papermill": {
     "duration": 0.013557,
     "end_time": "2022-08-01T12:37:21.804560",
     "exception": false,
     "start_time": "2022-08-01T12:37:21.791003",
     "status": "completed"
    },
    "tags": []
   },
   "source": [
    "### Evaluación"
   ]
  },
  {
   "cell_type": "code",
   "execution_count": 10,
   "id": "7b5992f4",
   "metadata": {
    "execution": {
     "iopub.execute_input": "2022-08-01T12:37:21.841917Z",
     "iopub.status.busy": "2022-08-01T12:37:21.841245Z",
     "iopub.status.idle": "2022-08-01T12:37:21.843859Z",
     "shell.execute_reply": "2022-08-01T12:37:21.843330Z"
    },
    "papermill": {
     "duration": 0.023654,
     "end_time": "2022-08-01T12:37:21.844008",
     "exception": false,
     "start_time": "2022-08-01T12:37:21.820354",
     "status": "completed"
    },
    "tags": []
   },
   "outputs": [],
   "source": [
    "y_pred = model.predict(X_test)"
   ]
  },
  {
   "cell_type": "code",
   "execution_count": 11,
   "id": "a67a6133",
   "metadata": {
    "execution": {
     "iopub.execute_input": "2022-08-01T12:37:21.875887Z",
     "iopub.status.busy": "2022-08-01T12:37:21.875147Z",
     "iopub.status.idle": "2022-08-01T12:37:21.877879Z",
     "shell.execute_reply": "2022-08-01T12:37:21.878359Z"
    },
    "papermill": {
     "duration": 0.021634,
     "end_time": "2022-08-01T12:37:21.878527",
     "exception": false,
     "start_time": "2022-08-01T12:37:21.856893",
     "status": "completed"
    },
    "tags": []
   },
   "outputs": [
    {
     "data": {
      "text/plain": [
       "0.2705482875795402"
      ]
     },
     "execution_count": 11,
     "metadata": {},
     "output_type": "execute_result"
    }
   ],
   "source": [
    "r2_score(y_test, y_pred)"
   ]
  },
  {
   "cell_type": "code",
   "execution_count": 12,
   "id": "cf7493ae",
   "metadata": {
    "execution": {
     "iopub.execute_input": "2022-08-01T12:37:21.910519Z",
     "iopub.status.busy": "2022-08-01T12:37:21.909552Z",
     "iopub.status.idle": "2022-08-01T12:37:21.913253Z",
     "shell.execute_reply": "2022-08-01T12:37:21.912688Z"
    },
    "papermill": {
     "duration": 0.02161,
     "end_time": "2022-08-01T12:37:21.913400",
     "exception": false,
     "start_time": "2022-08-01T12:37:21.891790",
     "status": "completed"
    },
    "tags": []
   },
   "outputs": [
    {
     "name": "stdout",
     "output_type": "stream",
     "text": [
      "256,991,985.72\n"
     ]
    }
   ],
   "source": [
    "print(\"{:,.2f}\".format(mean_squared_error(y_test, y_pred)))"
   ]
  }
 ],
 "metadata": {
  "kernelspec": {
   "display_name": "Python 3",
   "language": "python",
   "name": "python3"
  },
  "language_info": {
   "codemirror_mode": {
    "name": "ipython",
    "version": 3
   },
   "file_extension": ".py",
   "mimetype": "text/x-python",
   "name": "python",
   "nbconvert_exporter": "python",
   "pygments_lexer": "ipython3",
   "version": "3.6.10"
  },
  "papermill": {
   "default_parameters": {},
   "duration": 3.032734,
   "end_time": "2022-08-01T12:37:22.353384",
   "environment_variables": {},
   "exception": null,
   "input_path": "05_modelo_regresion_lat_lon_parte_2.ipynb",
   "output_path": "05_modelo_regresion_lat_lon_parte_2.ipynb",
   "parameters": {},
   "start_time": "2022-08-01T12:37:19.320650",
   "version": "2.3.4"
  }
 },
 "nbformat": 4,
 "nbformat_minor": 5
}