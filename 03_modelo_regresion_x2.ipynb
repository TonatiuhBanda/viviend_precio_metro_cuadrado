{
 "cells": [
  {
   "cell_type": "code",
   "execution_count": 1,
   "id": "d04bf821",
   "metadata": {
    "execution": {
     "iopub.execute_input": "2022-08-01T12:37:11.761887Z",
     "iopub.status.busy": "2022-08-01T12:37:11.761165Z",
     "iopub.status.idle": "2022-08-01T12:37:12.730443Z",
     "shell.execute_reply": "2022-08-01T12:37:12.730918Z"
    },
    "papermill": {
     "duration": 0.996573,
     "end_time": "2022-08-01T12:37:12.731089",
     "exception": false,
     "start_time": "2022-08-01T12:37:11.734516",
     "status": "completed"
    },
    "tags": []
   },
   "outputs": [],
   "source": [
    "import pandas as pd\n",
    "import numpy as np\n",
    "\n",
    "from sklearn.model_selection import train_test_split\n",
    "from sklearn.linear_model import LinearRegression\n",
    "\n",
    "from sklearn.metrics import mean_squared_error\n",
    "from sklearn.metrics import r2_score"
   ]
  },
  {
   "cell_type": "markdown",
   "id": "a6f52b3a",
   "metadata": {
    "papermill": {
     "duration": 0.017107,
     "end_time": "2022-08-01T12:37:12.766443",
     "exception": false,
     "start_time": "2022-08-01T12:37:12.749336",
     "status": "completed"
    },
    "tags": []
   },
   "source": [
    "### Archivo CSV"
   ]
  },
  {
   "cell_type": "code",
   "execution_count": 2,
   "id": "d6f7097b",
   "metadata": {
    "execution": {
     "iopub.execute_input": "2022-08-01T12:37:12.809731Z",
     "iopub.status.busy": "2022-08-01T12:37:12.808742Z",
     "iopub.status.idle": "2022-08-01T12:37:12.838053Z",
     "shell.execute_reply": "2022-08-01T12:37:12.838806Z"
    },
    "papermill": {
     "duration": 0.053358,
     "end_time": "2022-08-01T12:37:12.839046",
     "exception": false,
     "start_time": "2022-08-01T12:37:12.785688",
     "status": "completed"
    },
    "tags": []
   },
   "outputs": [
    {
     "data": {
      "text/html": [
       "<div>\n",
       "<style scoped>\n",
       "    .dataframe tbody tr th:only-of-type {\n",
       "        vertical-align: middle;\n",
       "    }\n",
       "\n",
       "    .dataframe tbody tr th {\n",
       "        vertical-align: top;\n",
       "    }\n",
       "\n",
       "    .dataframe thead th {\n",
       "        text-align: right;\n",
       "    }\n",
       "</style>\n",
       "<table border=\"1\" class=\"dataframe\">\n",
       "  <thead>\n",
       "    <tr style=\"text-align: right;\">\n",
       "      <th></th>\n",
       "      <th>id</th>\n",
       "      <th>vendor</th>\n",
       "      <th>lat</th>\n",
       "      <th>lon</th>\n",
       "      <th>days_on_site</th>\n",
       "      <th>bathrooms</th>\n",
       "      <th>parking_lots</th>\n",
       "      <th>num_bedrooms</th>\n",
       "      <th>m2</th>\n",
       "      <th>final_price</th>\n",
       "      <th>price_square_meter</th>\n",
       "    </tr>\n",
       "  </thead>\n",
       "  <tbody>\n",
       "    <tr>\n",
       "      <th>0</th>\n",
       "      <td>1</td>\n",
       "      <td>Investemx</td>\n",
       "      <td>19.421317</td>\n",
       "      <td>-99.164182</td>\n",
       "      <td>5.0</td>\n",
       "      <td>2.0</td>\n",
       "      <td>2</td>\n",
       "      <td>2.0</td>\n",
       "      <td>127.0</td>\n",
       "      <td>9000000.0</td>\n",
       "      <td>70866.141732</td>\n",
       "    </tr>\n",
       "    <tr>\n",
       "      <th>1</th>\n",
       "      <td>2</td>\n",
       "      <td>Avitana</td>\n",
       "      <td>19.421029</td>\n",
       "      <td>-99.163541</td>\n",
       "      <td>7.0</td>\n",
       "      <td>1.0</td>\n",
       "      <td>1</td>\n",
       "      <td>1.0</td>\n",
       "      <td>54.0</td>\n",
       "      <td>4264000.0</td>\n",
       "      <td>78962.962963</td>\n",
       "    </tr>\n",
       "  </tbody>\n",
       "</table>\n",
       "</div>"
      ],
      "text/plain": [
       "   id     vendor        lat        lon  days_on_site  bathrooms  parking_lots  \\\n",
       "0   1  Investemx  19.421317 -99.164182           5.0        2.0             2   \n",
       "1   2    Avitana  19.421029 -99.163541           7.0        1.0             1   \n",
       "\n",
       "   num_bedrooms     m2  final_price  price_square_meter  \n",
       "0           2.0  127.0    9000000.0        70866.141732  \n",
       "1           1.0   54.0    4264000.0        78962.962963  "
      ]
     },
     "execution_count": 2,
     "metadata": {},
     "output_type": "execute_result"
    }
   ],
   "source": [
    "dir_procesado = 'data/procesado/'\n",
    "archivo = 'datos_crudos.csv'\n",
    "df = pd.read_csv(f'{dir_procesado}{archivo}')\n",
    "\n",
    "df.head(2)"
   ]
  },
  {
   "cell_type": "markdown",
   "id": "1a90f802",
   "metadata": {
    "papermill": {
     "duration": 0.017626,
     "end_time": "2022-08-01T12:37:12.881051",
     "exception": false,
     "start_time": "2022-08-01T12:37:12.863425",
     "status": "completed"
    },
    "tags": []
   },
   "source": [
    "### Columna \"vendor\""
   ]
  },
  {
   "cell_type": "code",
   "execution_count": 3,
   "id": "2cb76740",
   "metadata": {
    "execution": {
     "iopub.execute_input": "2022-08-01T12:37:12.933852Z",
     "iopub.status.busy": "2022-08-01T12:37:12.933112Z",
     "iopub.status.idle": "2022-08-01T12:37:12.941101Z",
     "shell.execute_reply": "2022-08-01T12:37:12.941653Z"
    },
    "papermill": {
     "duration": 0.032919,
     "end_time": "2022-08-01T12:37:12.941849",
     "exception": false,
     "start_time": "2022-08-01T12:37:12.908930",
     "status": "completed"
    },
    "tags": []
   },
   "outputs": [],
   "source": [
    "df_col = df.groupby('vendor').agg({'id':'count'})\n",
    "df_col.reset_index(drop=False, inplace=True)\n",
    "df_col.sort_values(['id'], ascending=False, inplace=True)\n",
    "\n",
    "total_col = df_col['id'].sum()\n",
    "df_col['total_porcentaje'] = df_col['id'].apply(lambda x: x/total_col*100)\n",
    "df_col['total_porcentaje_acumulado'] = df_col['total_porcentaje'].cumsum()"
   ]
  },
  {
   "cell_type": "code",
   "execution_count": 4,
   "id": "013780fd",
   "metadata": {
    "execution": {
     "iopub.execute_input": "2022-08-01T12:37:12.986428Z",
     "iopub.status.busy": "2022-08-01T12:37:12.985720Z",
     "iopub.status.idle": "2022-08-01T12:37:12.988691Z",
     "shell.execute_reply": "2022-08-01T12:37:12.989137Z"
    },
    "papermill": {
     "duration": 0.029515,
     "end_time": "2022-08-01T12:37:12.989286",
     "exception": false,
     "start_time": "2022-08-01T12:37:12.959771",
     "status": "completed"
    },
    "tags": []
   },
   "outputs": [
    {
     "data": {
      "text/html": [
       "<div>\n",
       "<style scoped>\n",
       "    .dataframe tbody tr th:only-of-type {\n",
       "        vertical-align: middle;\n",
       "    }\n",
       "\n",
       "    .dataframe tbody tr th {\n",
       "        vertical-align: top;\n",
       "    }\n",
       "\n",
       "    .dataframe thead th {\n",
       "        text-align: right;\n",
       "    }\n",
       "</style>\n",
       "<table border=\"1\" class=\"dataframe\">\n",
       "  <thead>\n",
       "    <tr style=\"text-align: right;\">\n",
       "      <th></th>\n",
       "      <th>vendor</th>\n",
       "      <th>id</th>\n",
       "      <th>total_porcentaje</th>\n",
       "      <th>total_porcentaje_acumulado</th>\n",
       "    </tr>\n",
       "  </thead>\n",
       "  <tbody>\n",
       "    <tr>\n",
       "      <th>94</th>\n",
       "      <td>Metros Cuadrados Expertos</td>\n",
       "      <td>115</td>\n",
       "      <td>11.758691</td>\n",
       "      <td>11.758691</td>\n",
       "    </tr>\n",
       "    <tr>\n",
       "      <th>124</th>\n",
       "      <td>Rent A House Cdmx</td>\n",
       "      <td>111</td>\n",
       "      <td>11.349693</td>\n",
       "      <td>23.108384</td>\n",
       "    </tr>\n",
       "    <tr>\n",
       "      <th>13</th>\n",
       "      <td>Buscatuhogarmexico</td>\n",
       "      <td>95</td>\n",
       "      <td>9.713701</td>\n",
       "      <td>32.822086</td>\n",
       "    </tr>\n",
       "    <tr>\n",
       "      <th>11</th>\n",
       "      <td>Bienesraiceslomelin</td>\n",
       "      <td>42</td>\n",
       "      <td>4.294479</td>\n",
       "      <td>37.116564</td>\n",
       "    </tr>\n",
       "    <tr>\n",
       "      <th>74</th>\n",
       "      <td>Houm</td>\n",
       "      <td>39</td>\n",
       "      <td>3.987730</td>\n",
       "      <td>41.104294</td>\n",
       "    </tr>\n",
       "    <tr>\n",
       "      <th>140</th>\n",
       "      <td>Zona Ryg</td>\n",
       "      <td>36</td>\n",
       "      <td>3.680982</td>\n",
       "      <td>44.785276</td>\n",
       "    </tr>\n",
       "    <tr>\n",
       "      <th>2</th>\n",
       "      <td>Airnetwork Asesores Inmob</td>\n",
       "      <td>31</td>\n",
       "      <td>3.169734</td>\n",
       "      <td>47.955010</td>\n",
       "    </tr>\n",
       "    <tr>\n",
       "      <th>1</th>\n",
       "      <td>Aire Y Acero Inmobiliaria</td>\n",
       "      <td>31</td>\n",
       "      <td>3.169734</td>\n",
       "      <td>51.124744</td>\n",
       "    </tr>\n",
       "    <tr>\n",
       "      <th>76</th>\n",
       "      <td>Incitybienesraices</td>\n",
       "      <td>27</td>\n",
       "      <td>2.760736</td>\n",
       "      <td>53.885481</td>\n",
       "    </tr>\n",
       "    <tr>\n",
       "      <th>41</th>\n",
       "      <td>Consultores Patrimoniales</td>\n",
       "      <td>26</td>\n",
       "      <td>2.658487</td>\n",
       "      <td>56.543967</td>\n",
       "    </tr>\n",
       "  </tbody>\n",
       "</table>\n",
       "</div>"
      ],
      "text/plain": [
       "                        vendor   id  total_porcentaje  \\\n",
       "94   Metros Cuadrados Expertos  115         11.758691   \n",
       "124          Rent A House Cdmx  111         11.349693   \n",
       "13          Buscatuhogarmexico   95          9.713701   \n",
       "11         Bienesraiceslomelin   42          4.294479   \n",
       "74                        Houm   39          3.987730   \n",
       "140                   Zona Ryg   36          3.680982   \n",
       "2    Airnetwork Asesores Inmob   31          3.169734   \n",
       "1    Aire Y Acero Inmobiliaria   31          3.169734   \n",
       "76          Incitybienesraices   27          2.760736   \n",
       "41   Consultores Patrimoniales   26          2.658487   \n",
       "\n",
       "     total_porcentaje_acumulado  \n",
       "94                    11.758691  \n",
       "124                   23.108384  \n",
       "13                    32.822086  \n",
       "11                    37.116564  \n",
       "74                    41.104294  \n",
       "140                   44.785276  \n",
       "2                     47.955010  \n",
       "1                     51.124744  \n",
       "76                    53.885481  \n",
       "41                    56.543967  "
      ]
     },
     "execution_count": 4,
     "metadata": {},
     "output_type": "execute_result"
    }
   ],
   "source": [
    "df_col.head(10)"
   ]
  },
  {
   "cell_type": "code",
   "execution_count": 5,
   "id": "fe1355a2",
   "metadata": {
    "execution": {
     "iopub.execute_input": "2022-08-01T12:37:13.030711Z",
     "iopub.status.busy": "2022-08-01T12:37:13.029940Z",
     "iopub.status.idle": "2022-08-01T12:37:13.032727Z",
     "shell.execute_reply": "2022-08-01T12:37:13.033168Z"
    },
    "papermill": {
     "duration": 0.025794,
     "end_time": "2022-08-01T12:37:13.033331",
     "exception": false,
     "start_time": "2022-08-01T12:37:13.007537",
     "status": "completed"
    },
    "tags": []
   },
   "outputs": [
    {
     "data": {
      "text/plain": [
       "array(['Metros Cuadrados Expertos', 'Rent A House Cdmx',\n",
       "       'Buscatuhogarmexico', 'Bienesraiceslomelin', 'Houm'], dtype=object)"
      ]
     },
     "execution_count": 5,
     "metadata": {},
     "output_type": "execute_result"
    }
   ],
   "source": [
    "lista_col = df_col['vendor'].values[:5]\n",
    "lista_col"
   ]
  },
  {
   "cell_type": "markdown",
   "id": "7add98fd",
   "metadata": {
    "papermill": {
     "duration": 0.017199,
     "end_time": "2022-08-01T12:37:13.067847",
     "exception": false,
     "start_time": "2022-08-01T12:37:13.050648",
     "status": "completed"
    },
    "tags": []
   },
   "source": [
    "### Conjunto de datos para modelo"
   ]
  },
  {
   "cell_type": "code",
   "execution_count": 6,
   "id": "d6540749",
   "metadata": {
    "execution": {
     "iopub.execute_input": "2022-08-01T12:37:13.113833Z",
     "iopub.status.busy": "2022-08-01T12:37:13.113193Z",
     "iopub.status.idle": "2022-08-01T12:37:13.115274Z",
     "shell.execute_reply": "2022-08-01T12:37:13.115789Z"
    },
    "papermill": {
     "duration": 0.03079,
     "end_time": "2022-08-01T12:37:13.115964",
     "exception": false,
     "start_time": "2022-08-01T12:37:13.085174",
     "status": "completed"
    },
    "tags": []
   },
   "outputs": [],
   "source": [
    "df_modelo = df.copy()\n",
    "df_modelo['vendor_mod'] = df_modelo['vendor'].apply(lambda x: x if x in lista_col else 'otros')"
   ]
  },
  {
   "cell_type": "code",
   "execution_count": 7,
   "id": "1059bfd6",
   "metadata": {
    "execution": {
     "iopub.execute_input": "2022-08-01T12:37:13.165884Z",
     "iopub.status.busy": "2022-08-01T12:37:13.165272Z",
     "iopub.status.idle": "2022-08-01T12:37:13.167854Z",
     "shell.execute_reply": "2022-08-01T12:37:13.168312Z"
    },
    "papermill": {
     "duration": 0.033526,
     "end_time": "2022-08-01T12:37:13.168473",
     "exception": false,
     "start_time": "2022-08-01T12:37:13.134947",
     "status": "completed"
    },
    "tags": []
   },
   "outputs": [
    {
     "name": "stdout",
     "output_type": "stream",
     "text": [
      "<class 'pandas.core.frame.DataFrame'>\n",
      "RangeIndex: 978 entries, 0 to 977\n",
      "Data columns (total 12 columns):\n",
      " #   Column              Non-Null Count  Dtype  \n",
      "---  ------              --------------  -----  \n",
      " 0   id                  978 non-null    int64  \n",
      " 1   vendor              978 non-null    object \n",
      " 2   lat                 978 non-null    float64\n",
      " 3   lon                 978 non-null    float64\n",
      " 4   days_on_site        978 non-null    float64\n",
      " 5   bathrooms           978 non-null    float64\n",
      " 6   parking_lots        978 non-null    int64  \n",
      " 7   num_bedrooms        978 non-null    float64\n",
      " 8   m2                  978 non-null    float64\n",
      " 9   final_price         978 non-null    float64\n",
      " 10  price_square_meter  978 non-null    float64\n",
      " 11  vendor_mod          978 non-null    object \n",
      "dtypes: float64(8), int64(2), object(2)\n",
      "memory usage: 91.8+ KB\n"
     ]
    }
   ],
   "source": [
    "df_modelo.info()"
   ]
  },
  {
   "cell_type": "markdown",
   "id": "f9005b8e",
   "metadata": {
    "papermill": {
     "duration": 0.017917,
     "end_time": "2022-08-01T12:37:13.206152",
     "exception": false,
     "start_time": "2022-08-01T12:37:13.188235",
     "status": "completed"
    },
    "tags": []
   },
   "source": [
    "### One Hot Encoder"
   ]
  },
  {
   "cell_type": "code",
   "execution_count": 8,
   "id": "5a4f254b",
   "metadata": {
    "execution": {
     "iopub.execute_input": "2022-08-01T12:37:13.250355Z",
     "iopub.status.busy": "2022-08-01T12:37:13.249285Z",
     "iopub.status.idle": "2022-08-01T12:37:13.270079Z",
     "shell.execute_reply": "2022-08-01T12:37:13.269389Z"
    },
    "papermill": {
     "duration": 0.046267,
     "end_time": "2022-08-01T12:37:13.270240",
     "exception": false,
     "start_time": "2022-08-01T12:37:13.223973",
     "status": "completed"
    },
    "tags": []
   },
   "outputs": [
    {
     "data": {
      "text/html": [
       "<div>\n",
       "<style scoped>\n",
       "    .dataframe tbody tr th:only-of-type {\n",
       "        vertical-align: middle;\n",
       "    }\n",
       "\n",
       "    .dataframe tbody tr th {\n",
       "        vertical-align: top;\n",
       "    }\n",
       "\n",
       "    .dataframe thead th {\n",
       "        text-align: right;\n",
       "    }\n",
       "</style>\n",
       "<table border=\"1\" class=\"dataframe\">\n",
       "  <thead>\n",
       "    <tr style=\"text-align: right;\">\n",
       "      <th></th>\n",
       "      <th>id</th>\n",
       "      <th>vendor</th>\n",
       "      <th>lat</th>\n",
       "      <th>lon</th>\n",
       "      <th>days_on_site</th>\n",
       "      <th>bathrooms</th>\n",
       "      <th>parking_lots</th>\n",
       "      <th>num_bedrooms</th>\n",
       "      <th>m2</th>\n",
       "      <th>final_price</th>\n",
       "      <th>price_square_meter</th>\n",
       "      <th>vendor_mod_Bienesraiceslomelin</th>\n",
       "      <th>vendor_mod_Buscatuhogarmexico</th>\n",
       "      <th>vendor_mod_Houm</th>\n",
       "      <th>vendor_mod_Metros Cuadrados Expertos</th>\n",
       "      <th>vendor_mod_Rent A House Cdmx</th>\n",
       "      <th>vendor_mod_otros</th>\n",
       "    </tr>\n",
       "  </thead>\n",
       "  <tbody>\n",
       "    <tr>\n",
       "      <th>0</th>\n",
       "      <td>1</td>\n",
       "      <td>Investemx</td>\n",
       "      <td>19.421317</td>\n",
       "      <td>-99.164182</td>\n",
       "      <td>5.0</td>\n",
       "      <td>2.0</td>\n",
       "      <td>2</td>\n",
       "      <td>2.0</td>\n",
       "      <td>127.0</td>\n",
       "      <td>9000000.0</td>\n",
       "      <td>70866.141732</td>\n",
       "      <td>0</td>\n",
       "      <td>0</td>\n",
       "      <td>0</td>\n",
       "      <td>0</td>\n",
       "      <td>0</td>\n",
       "      <td>1</td>\n",
       "    </tr>\n",
       "    <tr>\n",
       "      <th>1</th>\n",
       "      <td>2</td>\n",
       "      <td>Avitana</td>\n",
       "      <td>19.421029</td>\n",
       "      <td>-99.163541</td>\n",
       "      <td>7.0</td>\n",
       "      <td>1.0</td>\n",
       "      <td>1</td>\n",
       "      <td>1.0</td>\n",
       "      <td>54.0</td>\n",
       "      <td>4264000.0</td>\n",
       "      <td>78962.962963</td>\n",
       "      <td>0</td>\n",
       "      <td>0</td>\n",
       "      <td>0</td>\n",
       "      <td>0</td>\n",
       "      <td>0</td>\n",
       "      <td>1</td>\n",
       "    </tr>\n",
       "    <tr>\n",
       "      <th>2</th>\n",
       "      <td>3</td>\n",
       "      <td>Ebranuncios</td>\n",
       "      <td>19.407814</td>\n",
       "      <td>-99.161872</td>\n",
       "      <td>4.0</td>\n",
       "      <td>3.0</td>\n",
       "      <td>2</td>\n",
       "      <td>3.0</td>\n",
       "      <td>163.0</td>\n",
       "      <td>8093500.0</td>\n",
       "      <td>49653.374233</td>\n",
       "      <td>0</td>\n",
       "      <td>0</td>\n",
       "      <td>0</td>\n",
       "      <td>0</td>\n",
       "      <td>0</td>\n",
       "      <td>1</td>\n",
       "    </tr>\n",
       "  </tbody>\n",
       "</table>\n",
       "</div>"
      ],
      "text/plain": [
       "   id       vendor        lat        lon  days_on_site  bathrooms  \\\n",
       "0   1    Investemx  19.421317 -99.164182           5.0        2.0   \n",
       "1   2      Avitana  19.421029 -99.163541           7.0        1.0   \n",
       "2   3  Ebranuncios  19.407814 -99.161872           4.0        3.0   \n",
       "\n",
       "   parking_lots  num_bedrooms     m2  final_price  price_square_meter  \\\n",
       "0             2           2.0  127.0    9000000.0        70866.141732   \n",
       "1             1           1.0   54.0    4264000.0        78962.962963   \n",
       "2             2           3.0  163.0    8093500.0        49653.374233   \n",
       "\n",
       "   vendor_mod_Bienesraiceslomelin  vendor_mod_Buscatuhogarmexico  \\\n",
       "0                               0                              0   \n",
       "1                               0                              0   \n",
       "2                               0                              0   \n",
       "\n",
       "   vendor_mod_Houm  vendor_mod_Metros Cuadrados Expertos  \\\n",
       "0                0                                     0   \n",
       "1                0                                     0   \n",
       "2                0                                     0   \n",
       "\n",
       "   vendor_mod_Rent A House Cdmx  vendor_mod_otros  \n",
       "0                             0                 1  \n",
       "1                             0                 1  \n",
       "2                             0                 1  "
      ]
     },
     "execution_count": 8,
     "metadata": {},
     "output_type": "execute_result"
    }
   ],
   "source": [
    "df_ohe = pd.get_dummies(df_modelo, columns=['vendor_mod'])\n",
    "df_ohe.head(3)"
   ]
  },
  {
   "cell_type": "markdown",
   "id": "e21913c9",
   "metadata": {
    "papermill": {
     "duration": 0.020989,
     "end_time": "2022-08-01T12:37:13.313543",
     "exception": false,
     "start_time": "2022-08-01T12:37:13.292554",
     "status": "completed"
    },
    "tags": []
   },
   "source": [
    "### Conjunto de datos para modelo X^2"
   ]
  },
  {
   "cell_type": "code",
   "execution_count": 9,
   "id": "3e326d52",
   "metadata": {
    "execution": {
     "iopub.execute_input": "2022-08-01T12:37:13.356632Z",
     "iopub.status.busy": "2022-08-01T12:37:13.355700Z",
     "iopub.status.idle": "2022-08-01T12:37:13.357852Z",
     "shell.execute_reply": "2022-08-01T12:37:13.358345Z"
    },
    "papermill": {
     "duration": 0.024842,
     "end_time": "2022-08-01T12:37:13.358515",
     "exception": false,
     "start_time": "2022-08-01T12:37:13.333673",
     "status": "completed"
    },
    "tags": []
   },
   "outputs": [],
   "source": [
    "lista_x2 = [\n",
    "    'days_on_site',\n",
    "    'bathrooms',\n",
    "    'parking_lots',\n",
    "    'num_bedrooms',\n",
    "    'm2']"
   ]
  },
  {
   "cell_type": "code",
   "execution_count": 10,
   "id": "aa14fae9",
   "metadata": {
    "execution": {
     "iopub.execute_input": "2022-08-01T12:37:13.410469Z",
     "iopub.status.busy": "2022-08-01T12:37:13.409580Z",
     "iopub.status.idle": "2022-08-01T12:37:13.411972Z",
     "shell.execute_reply": "2022-08-01T12:37:13.412496Z"
    },
    "papermill": {
     "duration": 0.033133,
     "end_time": "2022-08-01T12:37:13.412697",
     "exception": false,
     "start_time": "2022-08-01T12:37:13.379564",
     "status": "completed"
    },
    "tags": []
   },
   "outputs": [],
   "source": [
    "df_sq = df_ohe.copy()\n",
    "for col in lista_x2:\n",
    "    df_sq[f'{col}_x2'] = df_sq[col].apply(lambda x: x**2)"
   ]
  },
  {
   "cell_type": "code",
   "execution_count": 11,
   "id": "9406a619",
   "metadata": {
    "execution": {
     "iopub.execute_input": "2022-08-01T12:37:13.469695Z",
     "iopub.status.busy": "2022-08-01T12:37:13.466200Z",
     "iopub.status.idle": "2022-08-01T12:37:13.489013Z",
     "shell.execute_reply": "2022-08-01T12:37:13.489526Z"
    },
    "papermill": {
     "duration": 0.051576,
     "end_time": "2022-08-01T12:37:13.489702",
     "exception": false,
     "start_time": "2022-08-01T12:37:13.438126",
     "status": "completed"
    },
    "tags": []
   },
   "outputs": [
    {
     "data": {
      "text/html": [
       "<div>\n",
       "<style scoped>\n",
       "    .dataframe tbody tr th:only-of-type {\n",
       "        vertical-align: middle;\n",
       "    }\n",
       "\n",
       "    .dataframe tbody tr th {\n",
       "        vertical-align: top;\n",
       "    }\n",
       "\n",
       "    .dataframe thead th {\n",
       "        text-align: right;\n",
       "    }\n",
       "</style>\n",
       "<table border=\"1\" class=\"dataframe\">\n",
       "  <thead>\n",
       "    <tr style=\"text-align: right;\">\n",
       "      <th></th>\n",
       "      <th>id</th>\n",
       "      <th>vendor</th>\n",
       "      <th>lat</th>\n",
       "      <th>lon</th>\n",
       "      <th>days_on_site</th>\n",
       "      <th>bathrooms</th>\n",
       "      <th>parking_lots</th>\n",
       "      <th>num_bedrooms</th>\n",
       "      <th>m2</th>\n",
       "      <th>final_price</th>\n",
       "      <th>...</th>\n",
       "      <th>vendor_mod_Buscatuhogarmexico</th>\n",
       "      <th>vendor_mod_Houm</th>\n",
       "      <th>vendor_mod_Metros Cuadrados Expertos</th>\n",
       "      <th>vendor_mod_Rent A House Cdmx</th>\n",
       "      <th>vendor_mod_otros</th>\n",
       "      <th>days_on_site_x2</th>\n",
       "      <th>bathrooms_x2</th>\n",
       "      <th>parking_lots_x2</th>\n",
       "      <th>num_bedrooms_x2</th>\n",
       "      <th>m2_x2</th>\n",
       "    </tr>\n",
       "  </thead>\n",
       "  <tbody>\n",
       "    <tr>\n",
       "      <th>0</th>\n",
       "      <td>1</td>\n",
       "      <td>Investemx</td>\n",
       "      <td>19.421317</td>\n",
       "      <td>-99.164182</td>\n",
       "      <td>5.0</td>\n",
       "      <td>2.0</td>\n",
       "      <td>2</td>\n",
       "      <td>2.0</td>\n",
       "      <td>127.0</td>\n",
       "      <td>9000000.0</td>\n",
       "      <td>...</td>\n",
       "      <td>0</td>\n",
       "      <td>0</td>\n",
       "      <td>0</td>\n",
       "      <td>0</td>\n",
       "      <td>1</td>\n",
       "      <td>25.0</td>\n",
       "      <td>4.0</td>\n",
       "      <td>4</td>\n",
       "      <td>4.0</td>\n",
       "      <td>16129.0</td>\n",
       "    </tr>\n",
       "    <tr>\n",
       "      <th>1</th>\n",
       "      <td>2</td>\n",
       "      <td>Avitana</td>\n",
       "      <td>19.421029</td>\n",
       "      <td>-99.163541</td>\n",
       "      <td>7.0</td>\n",
       "      <td>1.0</td>\n",
       "      <td>1</td>\n",
       "      <td>1.0</td>\n",
       "      <td>54.0</td>\n",
       "      <td>4264000.0</td>\n",
       "      <td>...</td>\n",
       "      <td>0</td>\n",
       "      <td>0</td>\n",
       "      <td>0</td>\n",
       "      <td>0</td>\n",
       "      <td>1</td>\n",
       "      <td>49.0</td>\n",
       "      <td>1.0</td>\n",
       "      <td>1</td>\n",
       "      <td>1.0</td>\n",
       "      <td>2916.0</td>\n",
       "    </tr>\n",
       "    <tr>\n",
       "      <th>2</th>\n",
       "      <td>3</td>\n",
       "      <td>Ebranuncios</td>\n",
       "      <td>19.407814</td>\n",
       "      <td>-99.161872</td>\n",
       "      <td>4.0</td>\n",
       "      <td>3.0</td>\n",
       "      <td>2</td>\n",
       "      <td>3.0</td>\n",
       "      <td>163.0</td>\n",
       "      <td>8093500.0</td>\n",
       "      <td>...</td>\n",
       "      <td>0</td>\n",
       "      <td>0</td>\n",
       "      <td>0</td>\n",
       "      <td>0</td>\n",
       "      <td>1</td>\n",
       "      <td>16.0</td>\n",
       "      <td>9.0</td>\n",
       "      <td>4</td>\n",
       "      <td>9.0</td>\n",
       "      <td>26569.0</td>\n",
       "    </tr>\n",
       "  </tbody>\n",
       "</table>\n",
       "<p>3 rows × 22 columns</p>\n",
       "</div>"
      ],
      "text/plain": [
       "   id       vendor        lat        lon  days_on_site  bathrooms  \\\n",
       "0   1    Investemx  19.421317 -99.164182           5.0        2.0   \n",
       "1   2      Avitana  19.421029 -99.163541           7.0        1.0   \n",
       "2   3  Ebranuncios  19.407814 -99.161872           4.0        3.0   \n",
       "\n",
       "   parking_lots  num_bedrooms     m2  final_price  ...  \\\n",
       "0             2           2.0  127.0    9000000.0  ...   \n",
       "1             1           1.0   54.0    4264000.0  ...   \n",
       "2             2           3.0  163.0    8093500.0  ...   \n",
       "\n",
       "   vendor_mod_Buscatuhogarmexico  vendor_mod_Houm  \\\n",
       "0                              0                0   \n",
       "1                              0                0   \n",
       "2                              0                0   \n",
       "\n",
       "   vendor_mod_Metros Cuadrados Expertos  vendor_mod_Rent A House Cdmx  \\\n",
       "0                                     0                             0   \n",
       "1                                     0                             0   \n",
       "2                                     0                             0   \n",
       "\n",
       "   vendor_mod_otros  days_on_site_x2  bathrooms_x2  parking_lots_x2  \\\n",
       "0                 1             25.0           4.0                4   \n",
       "1                 1             49.0           1.0                1   \n",
       "2                 1             16.0           9.0                4   \n",
       "\n",
       "   num_bedrooms_x2    m2_x2  \n",
       "0              4.0  16129.0  \n",
       "1              1.0   2916.0  \n",
       "2              9.0  26569.0  \n",
       "\n",
       "[3 rows x 22 columns]"
      ]
     },
     "execution_count": 11,
     "metadata": {},
     "output_type": "execute_result"
    }
   ],
   "source": [
    "df_sq.head(3)"
   ]
  },
  {
   "cell_type": "markdown",
   "id": "78e433cc",
   "metadata": {
    "papermill": {
     "duration": 0.020425,
     "end_time": "2022-08-01T12:37:13.532052",
     "exception": false,
     "start_time": "2022-08-01T12:37:13.511627",
     "status": "completed"
    },
    "tags": []
   },
   "source": [
    "### Datos entrenamiento y evaluación"
   ]
  },
  {
   "cell_type": "code",
   "execution_count": 12,
   "id": "a516607b",
   "metadata": {
    "execution": {
     "iopub.execute_input": "2022-08-01T12:37:13.609231Z",
     "iopub.status.busy": "2022-08-01T12:37:13.608598Z",
     "iopub.status.idle": "2022-08-01T12:37:13.612508Z",
     "shell.execute_reply": "2022-08-01T12:37:13.613101Z"
    },
    "papermill": {
     "duration": 0.058833,
     "end_time": "2022-08-01T12:37:13.613300",
     "exception": false,
     "start_time": "2022-08-01T12:37:13.554467",
     "status": "completed"
    },
    "tags": []
   },
   "outputs": [],
   "source": [
    "X = df_sq.drop(columns=[\n",
    "    'id',\n",
    "    'vendor',\n",
    "    'lat',\n",
    "    'lon',\n",
    "    'final_price',\n",
    "    'price_square_meter'])\n",
    "\n",
    "y = df_sq['price_square_meter']"
   ]
  },
  {
   "cell_type": "code",
   "execution_count": 13,
   "id": "20348d2c",
   "metadata": {
    "execution": {
     "iopub.execute_input": "2022-08-01T12:37:13.658194Z",
     "iopub.status.busy": "2022-08-01T12:37:13.657203Z",
     "iopub.status.idle": "2022-08-01T12:37:13.661970Z",
     "shell.execute_reply": "2022-08-01T12:37:13.662576Z"
    },
    "papermill": {
     "duration": 0.029845,
     "end_time": "2022-08-01T12:37:13.662776",
     "exception": false,
     "start_time": "2022-08-01T12:37:13.632931",
     "status": "completed"
    },
    "tags": []
   },
   "outputs": [],
   "source": [
    "X_train, X_test, y_train, y_test = train_test_split(X, y, test_size=0.3, random_state=75)"
   ]
  },
  {
   "cell_type": "markdown",
   "id": "0333d90d",
   "metadata": {
    "papermill": {
     "duration": 0.021483,
     "end_time": "2022-08-01T12:37:13.706027",
     "exception": false,
     "start_time": "2022-08-01T12:37:13.684544",
     "status": "completed"
    },
    "tags": []
   },
   "source": [
    "### Modelo base (regresión lineal)"
   ]
  },
  {
   "cell_type": "code",
   "execution_count": 14,
   "id": "6bcf18e4",
   "metadata": {
    "execution": {
     "iopub.execute_input": "2022-08-01T12:37:13.753853Z",
     "iopub.status.busy": "2022-08-01T12:37:13.752691Z",
     "iopub.status.idle": "2022-08-01T12:37:13.762810Z",
     "shell.execute_reply": "2022-08-01T12:37:13.763778Z"
    },
    "papermill": {
     "duration": 0.037798,
     "end_time": "2022-08-01T12:37:13.764061",
     "exception": false,
     "start_time": "2022-08-01T12:37:13.726263",
     "status": "completed"
    },
    "tags": []
   },
   "outputs": [
    {
     "data": {
      "text/plain": [
       "LinearRegression()"
      ]
     },
     "execution_count": 14,
     "metadata": {},
     "output_type": "execute_result"
    }
   ],
   "source": [
    "model = LinearRegression()\n",
    "model.fit(X_train, y_train)"
   ]
  },
  {
   "cell_type": "markdown",
   "id": "ce62ca84",
   "metadata": {
    "papermill": {
     "duration": 0.048215,
     "end_time": "2022-08-01T12:37:13.862231",
     "exception": false,
     "start_time": "2022-08-01T12:37:13.814016",
     "status": "completed"
    },
    "tags": []
   },
   "source": [
    "### Entrenamiento"
   ]
  },
  {
   "cell_type": "code",
   "execution_count": 15,
   "id": "ffbd82e6",
   "metadata": {
    "execution": {
     "iopub.execute_input": "2022-08-01T12:37:13.915725Z",
     "iopub.status.busy": "2022-08-01T12:37:13.914440Z",
     "iopub.status.idle": "2022-08-01T12:37:13.919280Z",
     "shell.execute_reply": "2022-08-01T12:37:13.920219Z"
    },
    "papermill": {
     "duration": 0.033069,
     "end_time": "2022-08-01T12:37:13.920537",
     "exception": false,
     "start_time": "2022-08-01T12:37:13.887468",
     "status": "completed"
    },
    "tags": []
   },
   "outputs": [],
   "source": [
    "y_pred = model.predict(X_train)"
   ]
  },
  {
   "cell_type": "code",
   "execution_count": 16,
   "id": "49e4aee1",
   "metadata": {
    "execution": {
     "iopub.execute_input": "2022-08-01T12:37:14.048291Z",
     "iopub.status.busy": "2022-08-01T12:37:14.047577Z",
     "iopub.status.idle": "2022-08-01T12:37:14.050504Z",
     "shell.execute_reply": "2022-08-01T12:37:14.050991Z"
    },
    "papermill": {
     "duration": 0.038843,
     "end_time": "2022-08-01T12:37:14.051161",
     "exception": false,
     "start_time": "2022-08-01T12:37:14.012318",
     "status": "completed"
    },
    "tags": []
   },
   "outputs": [
    {
     "data": {
      "text/plain": [
       "0.30265656841443045"
      ]
     },
     "execution_count": 16,
     "metadata": {},
     "output_type": "execute_result"
    }
   ],
   "source": [
    "r2_score(y_train, y_pred)"
   ]
  },
  {
   "cell_type": "code",
   "execution_count": 17,
   "id": "afc11856",
   "metadata": {
    "execution": {
     "iopub.execute_input": "2022-08-01T12:37:14.097556Z",
     "iopub.status.busy": "2022-08-01T12:37:14.096734Z",
     "iopub.status.idle": "2022-08-01T12:37:14.099471Z",
     "shell.execute_reply": "2022-08-01T12:37:14.099948Z"
    },
    "papermill": {
     "duration": 0.028312,
     "end_time": "2022-08-01T12:37:14.100111",
     "exception": false,
     "start_time": "2022-08-01T12:37:14.071799",
     "status": "completed"
    },
    "tags": []
   },
   "outputs": [
    {
     "name": "stdout",
     "output_type": "stream",
     "text": [
      "253,236,605.18\n"
     ]
    }
   ],
   "source": [
    "print(\"{:,.2f}\".format(mean_squared_error(y_train, y_pred)))"
   ]
  },
  {
   "cell_type": "markdown",
   "id": "2fadf720",
   "metadata": {
    "papermill": {
     "duration": 0.021822,
     "end_time": "2022-08-01T12:37:14.144564",
     "exception": false,
     "start_time": "2022-08-01T12:37:14.122742",
     "status": "completed"
    },
    "tags": []
   },
   "source": [
    "### Evaluación"
   ]
  },
  {
   "cell_type": "code",
   "execution_count": 18,
   "id": "5404108c",
   "metadata": {
    "execution": {
     "iopub.execute_input": "2022-08-01T12:37:14.196404Z",
     "iopub.status.busy": "2022-08-01T12:37:14.195694Z",
     "iopub.status.idle": "2022-08-01T12:37:14.197760Z",
     "shell.execute_reply": "2022-08-01T12:37:14.198255Z"
    },
    "papermill": {
     "duration": 0.030591,
     "end_time": "2022-08-01T12:37:14.198434",
     "exception": false,
     "start_time": "2022-08-01T12:37:14.167843",
     "status": "completed"
    },
    "tags": []
   },
   "outputs": [],
   "source": [
    "y_pred = model.predict(X_test)"
   ]
  },
  {
   "cell_type": "code",
   "execution_count": 19,
   "id": "701db014",
   "metadata": {
    "execution": {
     "iopub.execute_input": "2022-08-01T12:37:14.248829Z",
     "iopub.status.busy": "2022-08-01T12:37:14.247928Z",
     "iopub.status.idle": "2022-08-01T12:37:14.251050Z",
     "shell.execute_reply": "2022-08-01T12:37:14.251510Z"
    },
    "papermill": {
     "duration": 0.030694,
     "end_time": "2022-08-01T12:37:14.251665",
     "exception": false,
     "start_time": "2022-08-01T12:37:14.220971",
     "status": "completed"
    },
    "tags": []
   },
   "outputs": [
    {
     "data": {
      "text/plain": [
       "0.25994386027841765"
      ]
     },
     "execution_count": 19,
     "metadata": {},
     "output_type": "execute_result"
    }
   ],
   "source": [
    "r2_score(y_test, y_pred)"
   ]
  },
  {
   "cell_type": "code",
   "execution_count": 20,
   "id": "cc3569ae",
   "metadata": {
    "execution": {
     "iopub.execute_input": "2022-08-01T12:37:14.306702Z",
     "iopub.status.busy": "2022-08-01T12:37:14.306014Z",
     "iopub.status.idle": "2022-08-01T12:37:14.308742Z",
     "shell.execute_reply": "2022-08-01T12:37:14.309206Z"
    },
    "papermill": {
     "duration": 0.034325,
     "end_time": "2022-08-01T12:37:14.309365",
     "exception": false,
     "start_time": "2022-08-01T12:37:14.275040",
     "status": "completed"
    },
    "tags": []
   },
   "outputs": [
    {
     "name": "stdout",
     "output_type": "stream",
     "text": [
      "260,728,014.83\n"
     ]
    }
   ],
   "source": [
    "print(\"{:,.2f}\".format(mean_squared_error(y_test, y_pred)))"
   ]
  }
 ],
 "metadata": {
  "kernelspec": {
   "display_name": "Python 3",
   "language": "python",
   "name": "python3"
  },
  "language_info": {
   "codemirror_mode": {
    "name": "ipython",
    "version": 3
   },
   "file_extension": ".py",
   "mimetype": "text/x-python",
   "name": "python",
   "nbconvert_exporter": "python",
   "pygments_lexer": "ipython3",
   "version": "3.6.10"
  },
  "papermill": {
   "default_parameters": {},
   "duration": 3.862483,
   "end_time": "2022-08-01T12:37:14.756235",
   "environment_variables": {},
   "exception": null,
   "input_path": "03_modelo_regresion_x2.ipynb",
   "output_path": "03_modelo_regresion_x2.ipynb",
   "parameters": {},
   "start_time": "2022-08-01T12:37:10.893752",
   "version": "2.3.4"
  }
 },
 "nbformat": 4,
 "nbformat_minor": 5
}