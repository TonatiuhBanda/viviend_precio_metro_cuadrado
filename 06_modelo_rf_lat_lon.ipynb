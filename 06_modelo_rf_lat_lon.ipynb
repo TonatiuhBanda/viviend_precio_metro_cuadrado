{
 "cells": [
  {
   "cell_type": "code",
   "execution_count": 1,
   "id": "def504f1",
   "metadata": {
    "execution": {
     "iopub.execute_input": "2022-08-01T12:37:26.497475Z",
     "iopub.status.busy": "2022-08-01T12:37:26.496838Z",
     "iopub.status.idle": "2022-08-01T12:37:27.506192Z",
     "shell.execute_reply": "2022-08-01T12:37:27.506751Z"
    },
    "papermill": {
     "duration": 1.027101,
     "end_time": "2022-08-01T12:37:27.506942",
     "exception": false,
     "start_time": "2022-08-01T12:37:26.479841",
     "status": "completed"
    },
    "tags": []
   },
   "outputs": [],
   "source": [
    "import pandas as pd\n",
    "import numpy as np\n",
    "\n",
    "from sklearn.model_selection import train_test_split\n",
    "#from sklearn.linear_model import LinearRegression\n",
    "\n",
    "from sklearn.metrics import mean_squared_error\n",
    "from sklearn.metrics import r2_score\n",
    "\n",
    "#from sklearn.preprocessing import MinMaxScaler\n",
    "#from geopy.geocoders import Nominatim\n",
    "\n",
    "from sklearn.ensemble import RandomForestRegressor"
   ]
  },
  {
   "cell_type": "markdown",
   "id": "e6aa0a55",
   "metadata": {
    "papermill": {
     "duration": 0.014063,
     "end_time": "2022-08-01T12:37:27.537616",
     "exception": false,
     "start_time": "2022-08-01T12:37:27.523553",
     "status": "completed"
    },
    "tags": []
   },
   "source": [
    "### Archivo CSV"
   ]
  },
  {
   "cell_type": "code",
   "execution_count": 2,
   "id": "89dcf0f6",
   "metadata": {
    "execution": {
     "iopub.execute_input": "2022-08-01T12:37:27.566829Z",
     "iopub.status.busy": "2022-08-01T12:37:27.566212Z",
     "iopub.status.idle": "2022-08-01T12:37:27.615404Z",
     "shell.execute_reply": "2022-08-01T12:37:27.615929Z"
    },
    "papermill": {
     "duration": 0.066587,
     "end_time": "2022-08-01T12:37:27.616103",
     "exception": false,
     "start_time": "2022-08-01T12:37:27.549516",
     "status": "completed"
    },
    "tags": []
   },
   "outputs": [
    {
     "data": {
      "text/html": [
       "<div>\n",
       "<style scoped>\n",
       "    .dataframe tbody tr th:only-of-type {\n",
       "        vertical-align: middle;\n",
       "    }\n",
       "\n",
       "    .dataframe tbody tr th {\n",
       "        vertical-align: top;\n",
       "    }\n",
       "\n",
       "    .dataframe thead th {\n",
       "        text-align: right;\n",
       "    }\n",
       "</style>\n",
       "<table border=\"1\" class=\"dataframe\">\n",
       "  <thead>\n",
       "    <tr style=\"text-align: right;\">\n",
       "      <th></th>\n",
       "      <th>id</th>\n",
       "      <th>vendor</th>\n",
       "      <th>lat</th>\n",
       "      <th>lon</th>\n",
       "      <th>days_on_site</th>\n",
       "      <th>bathrooms</th>\n",
       "      <th>parking_lots</th>\n",
       "      <th>num_bedrooms</th>\n",
       "      <th>m2</th>\n",
       "      <th>final_price</th>\n",
       "      <th>...</th>\n",
       "      <th>days_on_site_x2_sc</th>\n",
       "      <th>bathrooms_x2_sc</th>\n",
       "      <th>parking_lots_x2_sc</th>\n",
       "      <th>num_bedrooms_x2_sc</th>\n",
       "      <th>m2_x2_sc</th>\n",
       "      <th>ciudad</th>\n",
       "      <th>codigo_postal</th>\n",
       "      <th>codigo_postal_mod_06700</th>\n",
       "      <th>codigo_postal_mod_06760</th>\n",
       "      <th>codigo_postal_mod_otro_cp</th>\n",
       "    </tr>\n",
       "  </thead>\n",
       "  <tbody>\n",
       "    <tr>\n",
       "      <th>0</th>\n",
       "      <td>1</td>\n",
       "      <td>Investemx</td>\n",
       "      <td>19.421317</td>\n",
       "      <td>-99.164182</td>\n",
       "      <td>5.0</td>\n",
       "      <td>2.0</td>\n",
       "      <td>2</td>\n",
       "      <td>2.0</td>\n",
       "      <td>127.0</td>\n",
       "      <td>9000000.0</td>\n",
       "      <td>...</td>\n",
       "      <td>0.000045</td>\n",
       "      <td>0.005682</td>\n",
       "      <td>0.375</td>\n",
       "      <td>0.2</td>\n",
       "      <td>0.178682</td>\n",
       "      <td>Ciudad de México</td>\n",
       "      <td>6700.0</td>\n",
       "      <td>1</td>\n",
       "      <td>0</td>\n",
       "      <td>0</td>\n",
       "    </tr>\n",
       "    <tr>\n",
       "      <th>1</th>\n",
       "      <td>2</td>\n",
       "      <td>Avitana</td>\n",
       "      <td>19.421029</td>\n",
       "      <td>-99.163541</td>\n",
       "      <td>7.0</td>\n",
       "      <td>1.0</td>\n",
       "      <td>1</td>\n",
       "      <td>1.0</td>\n",
       "      <td>54.0</td>\n",
       "      <td>4264000.0</td>\n",
       "      <td>...</td>\n",
       "      <td>0.000090</td>\n",
       "      <td>0.000000</td>\n",
       "      <td>0.000</td>\n",
       "      <td>0.0</td>\n",
       "      <td>0.023030</td>\n",
       "      <td>Ciudad de México</td>\n",
       "      <td>6700.0</td>\n",
       "      <td>1</td>\n",
       "      <td>0</td>\n",
       "      <td>0</td>\n",
       "    </tr>\n",
       "  </tbody>\n",
       "</table>\n",
       "<p>2 rows × 37 columns</p>\n",
       "</div>"
      ],
      "text/plain": [
       "   id     vendor        lat        lon  days_on_site  bathrooms  parking_lots  \\\n",
       "0   1  Investemx  19.421317 -99.164182           5.0        2.0             2   \n",
       "1   2    Avitana  19.421029 -99.163541           7.0        1.0             1   \n",
       "\n",
       "   num_bedrooms     m2  final_price  ...  days_on_site_x2_sc  bathrooms_x2_sc  \\\n",
       "0           2.0  127.0    9000000.0  ...            0.000045         0.005682   \n",
       "1           1.0   54.0    4264000.0  ...            0.000090         0.000000   \n",
       "\n",
       "   parking_lots_x2_sc  num_bedrooms_x2_sc  m2_x2_sc            ciudad  \\\n",
       "0               0.375                 0.2  0.178682  Ciudad de México   \n",
       "1               0.000                 0.0  0.023030  Ciudad de México   \n",
       "\n",
       "   codigo_postal  codigo_postal_mod_06700  codigo_postal_mod_06760  \\\n",
       "0         6700.0                        1                        0   \n",
       "1         6700.0                        1                        0   \n",
       "\n",
       "   codigo_postal_mod_otro_cp  \n",
       "0                          0  \n",
       "1                          0  \n",
       "\n",
       "[2 rows x 37 columns]"
      ]
     },
     "execution_count": 2,
     "metadata": {},
     "output_type": "execute_result"
    }
   ],
   "source": [
    "dir_procesado = 'data/procesado/'\n",
    "archivo = 'datos_latitud_longitud.csv'\n",
    "df = pd.read_csv(f'{dir_procesado}{archivo}')\n",
    "\n",
    "df.head(2)"
   ]
  },
  {
   "cell_type": "markdown",
   "id": "507e2bc1",
   "metadata": {
    "papermill": {
     "duration": 0.013417,
     "end_time": "2022-08-01T12:37:27.643412",
     "exception": false,
     "start_time": "2022-08-01T12:37:27.629995",
     "status": "completed"
    },
    "tags": []
   },
   "source": [
    "### Datos entrenamiento y evaluación"
   ]
  },
  {
   "cell_type": "code",
   "execution_count": 3,
   "id": "7a610280",
   "metadata": {
    "execution": {
     "iopub.execute_input": "2022-08-01T12:37:27.678645Z",
     "iopub.status.busy": "2022-08-01T12:37:27.677959Z",
     "iopub.status.idle": "2022-08-01T12:37:27.679800Z",
     "shell.execute_reply": "2022-08-01T12:37:27.680265Z"
    },
    "papermill": {
     "duration": 0.019583,
     "end_time": "2022-08-01T12:37:27.680439",
     "exception": false,
     "start_time": "2022-08-01T12:37:27.660856",
     "status": "completed"
    },
    "tags": []
   },
   "outputs": [],
   "source": [
    "lista_features = [\n",
    "    'vendor_mod_Bienesraiceslomelin',\n",
    "    'vendor_mod_Buscatuhogarmexico',\n",
    "    'vendor_mod_Houm',\n",
    "    'vendor_mod_Metros Cuadrados Expertos',\n",
    "    'vendor_mod_Rent A House Cdmx',\n",
    "    'vendor_mod_otros',\n",
    "    'days_on_site_sc',\n",
    "    'bathrooms_sc',\n",
    "    'parking_lots_sc',\n",
    "    'num_bedrooms_sc',\n",
    "    'm2_sc',\n",
    "#     'days_on_site_x2_sc',\n",
    "#     'bathrooms_x2_sc',\n",
    "#     'parking_lots_x2_sc',\n",
    "#     'num_bedrooms_x2_sc',\n",
    "#     'm2_x2_sc',\n",
    "    'codigo_postal_mod_06700',\n",
    "    'codigo_postal_mod_06760',\n",
    "    'codigo_postal_mod_otro_cp'\n",
    "]"
   ]
  },
  {
   "cell_type": "code",
   "execution_count": 4,
   "id": "36113959",
   "metadata": {
    "execution": {
     "iopub.execute_input": "2022-08-01T12:37:27.709930Z",
     "iopub.status.busy": "2022-08-01T12:37:27.709245Z",
     "iopub.status.idle": "2022-08-01T12:37:27.711213Z",
     "shell.execute_reply": "2022-08-01T12:37:27.711683Z"
    },
    "papermill": {
     "duration": 0.019184,
     "end_time": "2022-08-01T12:37:27.711843",
     "exception": false,
     "start_time": "2022-08-01T12:37:27.692659",
     "status": "completed"
    },
    "tags": []
   },
   "outputs": [],
   "source": [
    "X = df[lista_features]\n",
    "\n",
    "y = df['price_square_meter']"
   ]
  },
  {
   "cell_type": "code",
   "execution_count": 5,
   "id": "1834fa0a",
   "metadata": {
    "execution": {
     "iopub.execute_input": "2022-08-01T12:37:27.744855Z",
     "iopub.status.busy": "2022-08-01T12:37:27.743945Z",
     "iopub.status.idle": "2022-08-01T12:37:27.747471Z",
     "shell.execute_reply": "2022-08-01T12:37:27.747993Z"
    },
    "papermill": {
     "duration": 0.021868,
     "end_time": "2022-08-01T12:37:27.748152",
     "exception": false,
     "start_time": "2022-08-01T12:37:27.726284",
     "status": "completed"
    },
    "tags": []
   },
   "outputs": [],
   "source": [
    "X_train, X_test, y_train, y_test = train_test_split(X, y, test_size=0.3, random_state=75)"
   ]
  },
  {
   "cell_type": "markdown",
   "id": "e4d84f79",
   "metadata": {
    "papermill": {
     "duration": 0.013331,
     "end_time": "2022-08-01T12:37:27.778715",
     "exception": false,
     "start_time": "2022-08-01T12:37:27.765384",
     "status": "completed"
    },
    "tags": []
   },
   "source": [
    "### Modelo base (regresión lineal)"
   ]
  },
  {
   "cell_type": "code",
   "execution_count": 6,
   "id": "0b06c1f1",
   "metadata": {
    "execution": {
     "iopub.execute_input": "2022-08-01T12:37:27.812803Z",
     "iopub.status.busy": "2022-08-01T12:37:27.811946Z",
     "iopub.status.idle": "2022-08-01T12:37:28.053780Z",
     "shell.execute_reply": "2022-08-01T12:37:28.054219Z"
    },
    "papermill": {
     "duration": 0.260536,
     "end_time": "2022-08-01T12:37:28.054373",
     "exception": false,
     "start_time": "2022-08-01T12:37:27.793837",
     "status": "completed"
    },
    "tags": []
   },
   "outputs": [
    {
     "data": {
      "text/plain": [
       "RandomForestRegressor(random_state=75)"
      ]
     },
     "execution_count": 6,
     "metadata": {},
     "output_type": "execute_result"
    }
   ],
   "source": [
    "model = RandomForestRegressor(random_state=75)\n",
    "model.fit(X_train, y_train)"
   ]
  },
  {
   "cell_type": "code",
   "execution_count": 7,
   "id": "2c3fcc91",
   "metadata": {
    "execution": {
     "iopub.execute_input": "2022-08-01T12:37:28.088435Z",
     "iopub.status.busy": "2022-08-01T12:37:28.087268Z",
     "iopub.status.idle": "2022-08-01T12:37:28.107152Z",
     "shell.execute_reply": "2022-08-01T12:37:28.106632Z"
    },
    "papermill": {
     "duration": 0.038068,
     "end_time": "2022-08-01T12:37:28.107297",
     "exception": false,
     "start_time": "2022-08-01T12:37:28.069229",
     "status": "completed"
    },
    "tags": []
   },
   "outputs": [
    {
     "data": {
      "text/html": [
       "<div>\n",
       "<style scoped>\n",
       "    .dataframe tbody tr th:only-of-type {\n",
       "        vertical-align: middle;\n",
       "    }\n",
       "\n",
       "    .dataframe tbody tr th {\n",
       "        vertical-align: top;\n",
       "    }\n",
       "\n",
       "    .dataframe thead th {\n",
       "        text-align: right;\n",
       "    }\n",
       "</style>\n",
       "<table border=\"1\" class=\"dataframe\">\n",
       "  <thead>\n",
       "    <tr style=\"text-align: right;\">\n",
       "      <th></th>\n",
       "      <th>Feature</th>\n",
       "      <th>Importancia</th>\n",
       "    </tr>\n",
       "  </thead>\n",
       "  <tbody>\n",
       "    <tr>\n",
       "      <th>10</th>\n",
       "      <td>m2_sc</td>\n",
       "      <td>0.517347</td>\n",
       "    </tr>\n",
       "    <tr>\n",
       "      <th>6</th>\n",
       "      <td>days_on_site_sc</td>\n",
       "      <td>0.156097</td>\n",
       "    </tr>\n",
       "    <tr>\n",
       "      <th>9</th>\n",
       "      <td>num_bedrooms_sc</td>\n",
       "      <td>0.059915</td>\n",
       "    </tr>\n",
       "    <tr>\n",
       "      <th>11</th>\n",
       "      <td>codigo_postal_mod_06700</td>\n",
       "      <td>0.056832</td>\n",
       "    </tr>\n",
       "    <tr>\n",
       "      <th>8</th>\n",
       "      <td>parking_lots_sc</td>\n",
       "      <td>0.052939</td>\n",
       "    </tr>\n",
       "  </tbody>\n",
       "</table>\n",
       "</div>"
      ],
      "text/plain": [
       "                    Feature  Importancia\n",
       "10                    m2_sc     0.517347\n",
       "6           days_on_site_sc     0.156097\n",
       "9           num_bedrooms_sc     0.059915\n",
       "11  codigo_postal_mod_06700     0.056832\n",
       "8           parking_lots_sc     0.052939"
      ]
     },
     "execution_count": 7,
     "metadata": {},
     "output_type": "execute_result"
    }
   ],
   "source": [
    "importance = model.feature_importances_\n",
    "df_importance = pd.DataFrame(\n",
    "    {'Feature':lista_features,\n",
    "     'Importancia':importance})\n",
    "\n",
    "df_importance.sort_values('Importancia', ascending=False, inplace=True)\n",
    "df_importance.head()"
   ]
  },
  {
   "cell_type": "markdown",
   "id": "f387ed54",
   "metadata": {
    "papermill": {
     "duration": 0.012228,
     "end_time": "2022-08-01T12:37:28.132414",
     "exception": false,
     "start_time": "2022-08-01T12:37:28.120186",
     "status": "completed"
    },
    "tags": []
   },
   "source": [
    "### Entrenamiento"
   ]
  },
  {
   "cell_type": "code",
   "execution_count": 8,
   "id": "cd72d584",
   "metadata": {
    "execution": {
     "iopub.execute_input": "2022-08-01T12:37:28.163188Z",
     "iopub.status.busy": "2022-08-01T12:37:28.162585Z",
     "iopub.status.idle": "2022-08-01T12:37:28.181879Z",
     "shell.execute_reply": "2022-08-01T12:37:28.182335Z"
    },
    "papermill": {
     "duration": 0.037843,
     "end_time": "2022-08-01T12:37:28.182486",
     "exception": false,
     "start_time": "2022-08-01T12:37:28.144643",
     "status": "completed"
    },
    "tags": []
   },
   "outputs": [],
   "source": [
    "y_pred = model.predict(X_train)"
   ]
  },
  {
   "cell_type": "code",
   "execution_count": 9,
   "id": "f7c7d26d",
   "metadata": {
    "execution": {
     "iopub.execute_input": "2022-08-01T12:37:28.218357Z",
     "iopub.status.busy": "2022-08-01T12:37:28.217544Z",
     "iopub.status.idle": "2022-08-01T12:37:28.221148Z",
     "shell.execute_reply": "2022-08-01T12:37:28.220620Z"
    },
    "papermill": {
     "duration": 0.02446,
     "end_time": "2022-08-01T12:37:28.221294",
     "exception": false,
     "start_time": "2022-08-01T12:37:28.196834",
     "status": "completed"
    },
    "tags": []
   },
   "outputs": [
    {
     "data": {
      "text/plain": [
       "0.9186680063501075"
      ]
     },
     "execution_count": 9,
     "metadata": {},
     "output_type": "execute_result"
    }
   ],
   "source": [
    "r2_score(y_train, y_pred)"
   ]
  },
  {
   "cell_type": "code",
   "execution_count": 10,
   "id": "91a9b578",
   "metadata": {
    "execution": {
     "iopub.execute_input": "2022-08-01T12:37:28.252019Z",
     "iopub.status.busy": "2022-08-01T12:37:28.251408Z",
     "iopub.status.idle": "2022-08-01T12:37:28.254535Z",
     "shell.execute_reply": "2022-08-01T12:37:28.253964Z"
    },
    "papermill": {
     "duration": 0.020599,
     "end_time": "2022-08-01T12:37:28.254676",
     "exception": false,
     "start_time": "2022-08-01T12:37:28.234077",
     "status": "completed"
    },
    "tags": []
   },
   "outputs": [
    {
     "name": "stdout",
     "output_type": "stream",
     "text": [
      "29,535,286.39\n"
     ]
    }
   ],
   "source": [
    "print(\"{:,.2f}\".format(mean_squared_error(y_train, y_pred)))"
   ]
  },
  {
   "cell_type": "markdown",
   "id": "5088fd7e",
   "metadata": {
    "papermill": {
     "duration": 0.013295,
     "end_time": "2022-08-01T12:37:28.283980",
     "exception": false,
     "start_time": "2022-08-01T12:37:28.270685",
     "status": "completed"
    },
    "tags": []
   },
   "source": [
    "### Evaluación"
   ]
  },
  {
   "cell_type": "code",
   "execution_count": 11,
   "id": "c193c276",
   "metadata": {
    "execution": {
     "iopub.execute_input": "2022-08-01T12:37:28.320552Z",
     "iopub.status.busy": "2022-08-01T12:37:28.319636Z",
     "iopub.status.idle": "2022-08-01T12:37:28.336072Z",
     "shell.execute_reply": "2022-08-01T12:37:28.335491Z"
    },
    "papermill": {
     "duration": 0.037381,
     "end_time": "2022-08-01T12:37:28.336204",
     "exception": false,
     "start_time": "2022-08-01T12:37:28.298823",
     "status": "completed"
    },
    "tags": []
   },
   "outputs": [],
   "source": [
    "y_pred = model.predict(X_test)"
   ]
  },
  {
   "cell_type": "code",
   "execution_count": 12,
   "id": "86618955",
   "metadata": {
    "execution": {
     "iopub.execute_input": "2022-08-01T12:37:28.367649Z",
     "iopub.status.busy": "2022-08-01T12:37:28.366868Z",
     "iopub.status.idle": "2022-08-01T12:37:28.369922Z",
     "shell.execute_reply": "2022-08-01T12:37:28.370427Z"
    },
    "papermill": {
     "duration": 0.021253,
     "end_time": "2022-08-01T12:37:28.370600",
     "exception": false,
     "start_time": "2022-08-01T12:37:28.349347",
     "status": "completed"
    },
    "tags": []
   },
   "outputs": [
    {
     "data": {
      "text/plain": [
       "0.4047654797521324"
      ]
     },
     "execution_count": 12,
     "metadata": {},
     "output_type": "execute_result"
    }
   ],
   "source": [
    "r2_score(y_test, y_pred)"
   ]
  },
  {
   "cell_type": "code",
   "execution_count": 13,
   "id": "78d8e5e5",
   "metadata": {
    "execution": {
     "iopub.execute_input": "2022-08-01T12:37:28.407155Z",
     "iopub.status.busy": "2022-08-01T12:37:28.406394Z",
     "iopub.status.idle": "2022-08-01T12:37:28.409849Z",
     "shell.execute_reply": "2022-08-01T12:37:28.409325Z"
    },
    "papermill": {
     "duration": 0.021647,
     "end_time": "2022-08-01T12:37:28.409996",
     "exception": false,
     "start_time": "2022-08-01T12:37:28.388349",
     "status": "completed"
    },
    "tags": []
   },
   "outputs": [
    {
     "name": "stdout",
     "output_type": "stream",
     "text": [
      "209,706,137.80\n"
     ]
    }
   ],
   "source": [
    "print(\"{:,.2f}\".format(mean_squared_error(y_test, y_pred)))"
   ]
  }
 ],
 "metadata": {
  "kernelspec": {
   "display_name": "Python 3",
   "language": "python",
   "name": "python3"
  },
  "language_info": {
   "codemirror_mode": {
    "name": "ipython",
    "version": 3
   },
   "file_extension": ".py",
   "mimetype": "text/x-python",
   "name": "python",
   "nbconvert_exporter": "python",
   "pygments_lexer": "ipython3",
   "version": "3.6.10"
  },
  "papermill": {
   "default_parameters": {},
   "duration": 3.249323,
   "end_time": "2022-08-01T12:37:28.849209",
   "environment_variables": {},
   "exception": null,
   "input_path": "06_modelo_rf_lat_lon.ipynb",
   "output_path": "06_modelo_rf_lat_lon.ipynb",
   "parameters": {},
   "start_time": "2022-08-01T12:37:25.599886",
   "version": "2.3.4"
  }
 },
 "nbformat": 4,
 "nbformat_minor": 5
}